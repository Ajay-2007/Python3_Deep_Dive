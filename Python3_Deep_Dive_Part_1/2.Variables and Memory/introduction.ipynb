{
 "cells": [
  {
   "cell_type": "markdown",
   "metadata": {
    "collapsed": true,
    "pycharm": {
     "name": "#%% md\n"
    }
   },
   "source": [
    "# VARIABLES\n",
    "\n",
    "memory references <br>\n",
    "what variables really are<br>\n",
    "memory management<br>\n",
    "reference counting and garbage collection<br>\n",
    "dynamic vs static typing<br>\n",
    "mutability and immutability<br>\n",
    "shared references<br>\n",
    "variable equality<br>\n",
    "in Python everything is an object i.e function, variables, class etc.<br>\n",
    "\n",
    "In Python, we can find out the memory address referenced by a variable by using \n",
    "the `id()` function. This will return a base-10 number. We can convert this\n",
    "base-10 number to hexadecimal, by using the `hex()` function.\n",
    "\n",
    "Example<br>\n",
    "    a = 10\n",
    "    print(hex(id(a)))\n",
    "    "
   ]
  },
  {
   "cell_type": "code",
   "execution_count": 1,
   "outputs": [
    {
     "name": "stdout",
     "text": [
      "10\n"
     ],
     "output_type": "stream"
    }
   ],
   "source": [
    "# 10 is saved somewhere in the memory and my_var is now a reference to that object\n",
    "\n",
    "my_var = 10    \n",
    "print(my_var)\n",
    " "
   ],
   "metadata": {
    "collapsed": false,
    "pycharm": {
     "name": "#%%\n",
     "is_executing": false
    }
   }
  },
  {
   "cell_type": "code",
   "execution_count": 3,
   "outputs": [
    {
     "name": "stdout",
     "text": [
      "1664902464\n"
     ],
     "output_type": "stream"
    }
   ],
   "source": [
    "print(id(my_var))\n",
    "\n"
   ],
   "metadata": {
    "collapsed": false,
    "pycharm": {
     "name": "#%%\n",
     "is_executing": false
    }
   }
  },
  {
   "cell_type": "code",
   "execution_count": 4,
   "outputs": [
    {
     "name": "stdout",
     "text": [
      "0x633c6540\n"
     ],
     "output_type": "stream"
    }
   ],
   "source": [
    "print(hex(id(my_var)))"
   ],
   "metadata": {
    "collapsed": false,
    "pycharm": {
     "name": "#%%\n",
     "is_executing": false
    }
   }
  },
  {
   "cell_type": "code",
   "execution_count": 5,
   "outputs": [
    {
     "name": "stdout",
     "text": [
      "hello\n"
     ],
     "output_type": "stream"
    }
   ],
   "source": [
    "greeting = \"hello\"\n",
    "print(greeting)"
   ],
   "metadata": {
    "collapsed": false,
    "pycharm": {
     "name": "#%%\n",
     "is_executing": false
    }
   }
  },
  {
   "cell_type": "code",
   "execution_count": 6,
   "outputs": [
    {
     "name": "stdout",
     "text": [
      "97355296\n"
     ],
     "output_type": "stream"
    }
   ],
   "source": [
    "print(id(greeting))"
   ],
   "metadata": {
    "collapsed": false,
    "pycharm": {
     "name": "#%%\n",
     "is_executing": false
    }
   }
  },
  {
   "cell_type": "code",
   "execution_count": 7,
   "outputs": [
    {
     "name": "stdout",
     "text": [
      "0x5cd8620\n"
     ],
     "output_type": "stream"
    }
   ],
   "source": [
    "print(hex(id(greeting)))"
   ],
   "metadata": {
    "collapsed": false,
    "pycharm": {
     "name": "#%%\n",
     "is_executing": false
    }
   }
  },
  {
   "cell_type": "markdown",
   "source": [
    "### So Bottom line, Variables are just memory addresses, they are not  actually equal to the value we think they are equal to, logically we can think of it that way, but in real terms they are memory references.\n",
    " \n"
   ],
   "metadata": {
    "collapsed": false,
    "pycharm": {
     "name": "#%% md\n"
    }
   }
  }
 ],
 "metadata": {
  "language_info": {
   "codemirror_mode": {
    "name": "ipython",
    "version": 2
   },
   "file_extension": ".py",
   "mimetype": "text/x-python",
   "name": "python",
   "nbconvert_exporter": "python",
   "pygments_lexer": "ipython2",
   "version": "2.7.6"
  },
  "kernelspec": {
   "name": "python3",
   "language": "python",
   "display_name": "Python 3"
  },
  "pycharm": {
   "stem_cell": {
    "cell_type": "raw",
    "source": [],
    "metadata": {
     "collapsed": false
    }
   }
  }
 },
 "nbformat": 4,
 "nbformat_minor": 0
}