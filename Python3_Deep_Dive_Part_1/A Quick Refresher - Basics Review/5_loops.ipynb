{
 "cells": [
  {
   "cell_type": "markdown",
   "metadata": {
    "collapsed": true,
    "pycharm": {
     "name": "#%% md\n"
    }
   },
   "source": [
    "# While Loop"
   ]
  },
  {
   "cell_type": "code",
   "execution_count": 1,
   "outputs": [
    {
     "name": "stdout",
     "text": [
      "0\n1\n2\n3\n4\n"
     ],
     "output_type": "stream"
    }
   ],
   "source": [
    "i = 0\n",
    "while i < 5:\n",
    "    print(i)\n",
    "    i += 1\n",
    " "
   ],
   "metadata": {
    "collapsed": false,
    "pycharm": {
     "name": "#%%\n",
     "is_executing": false
    }
   }
  },
  {
   "cell_type": "code",
   "execution_count": null,
   "outputs": [],
   "source": [
    "i = 5\n",
    "\n",
    "while True:\n",
    "    print(i)\n",
    "    if i >= 5:\n",
    "        break\n",
    "        print('something')\n"
   ],
   "metadata": {
    "collapsed": false,
    "pycharm": {
     "name": "#%%\n"
    }
   }
  },
  {
   "cell_type": "code",
   "execution_count": 3,
   "outputs": [
    {
     "name": "stdout",
     "text": [
      "Hello, Ajay\n"
     ],
     "output_type": "stream"
    }
   ],
   "source": [
    "min_length = 2\n",
    "name = input('Please enter your name')\n",
    "\n",
    "while not(len(name) >= min_length and name.isprintable() and name.isalpha()):\n",
    "    name = input('Please enter your name')\n",
    "    \n",
    "print(\"Hello, {}\".format(name))"
   ],
   "metadata": {
    "collapsed": false,
    "pycharm": {
     "name": "#%%\n",
     "is_executing": false
    }
   }
  },
  {
   "cell_type": "code",
   "execution_count": 6,
   "outputs": [
    {
     "name": "stdout",
     "text": [
      "Hello, Ajay\n"
     ],
     "output_type": "stream"
    }
   ],
   "source": [
    "min_length = 2 \n",
    "while True:\n",
    "    name = input('Please enter your name')\n",
    "    if not(len(name) >= min_length and name.isprintable() and name.isalpha()):\n",
    "        continue\n",
    "    else:\n",
    "        print(\"Hello, {}\".format(name))\n",
    "        break\n",
    "    \n",
    "# print(\"Hello, {}\".format(name))\n"
   ],
   "metadata": {
    "collapsed": false,
    "pycharm": {
     "name": "#%%\n",
     "is_executing": false
    }
   }
  },
  {
   "cell_type": "code",
   "execution_count": 8,
   "outputs": [
    {
     "name": "stdout",
     "text": [
      "Hello, Ajay\n"
     ],
     "output_type": "stream"
    }
   ],
   "source": [
    "# After refactoring\n",
    "min_length = 2 \n",
    "while True:\n",
    "    name = input('Please enter your name')\n",
    "    if len(name) >= min_length and name.isprintable() and name.isalpha():\n",
    "        break\n",
    "    \n",
    "print(\"Hello, {}\".format(name))"
   ],
   "metadata": {
    "collapsed": false,
    "pycharm": {
     "name": "#%%\n",
     "is_executing": false
    }
   }
  },
  {
   "cell_type": "code",
   "execution_count": 10,
   "outputs": [
    {
     "name": "stdout",
     "text": [
      "1\n3\n5\n7\n9\n"
     ],
     "output_type": "stream"
    }
   ],
   "source": [
    "a = 0\n",
    "\n",
    "while a < 10:\n",
    "    a += 1\n",
    "    if a % 2 == 0:\n",
    "        continue\n",
    "    print(a)\n",
    "    \n"
   ],
   "metadata": {
    "collapsed": false,
    "pycharm": {
     "name": "#%%\n",
     "is_executing": false
    }
   }
  },
  {
   "cell_type": "code",
   "execution_count": 12,
   "outputs": [
    {
     "name": "stdout",
     "text": [
      "[1, 2, 3, 10]\n"
     ],
     "output_type": "stream"
    }
   ],
   "source": [
    "l = [1, 2, 3]\n",
    "val = 10\n",
    "\n",
    "found = False\n",
    "idx = 0\n",
    "while idx < len(l):\n",
    "    if l[idx] == val:\n",
    "        found = True\n",
    "        break\n",
    "    idx += 1\n",
    "    \n",
    "if not found:\n",
    "    l.append(val)\n",
    "print(l)    "
   ],
   "metadata": {
    "collapsed": false,
    "pycharm": {
     "name": "#%%\n",
     "is_executing": false
    }
   }
  },
  {
   "cell_type": "code",
   "execution_count": 14,
   "outputs": [
    {
     "name": "stdout",
     "text": [
      "[1, 4, 2, 3, 10]\n"
     ],
     "output_type": "stream"
    }
   ],
   "source": [
    "l = [1,4,  2, 3]\n",
    "val = 10\n",
    "idx = 0\n",
    "while idx < len(l):\n",
    "    if l[idx] == val:\n",
    "        break\n",
    "    idx += 1\n",
    "else:\n",
    "    l.append(val)\n",
    "print(l)\n"
   ],
   "metadata": {
    "collapsed": false,
    "pycharm": {
     "name": "#%%\n",
     "is_executing": false
    }
   }
  },
  {
   "cell_type": "code",
   "execution_count": 15,
   "outputs": [
    {
     "name": "stdout",
     "text": [
      "[1, 4, 2, 3, 10]\n"
     ],
     "output_type": "stream"
    }
   ],
   "source": [
    "l = [1,4,  2, 3, 10]\n",
    "val = 10\n",
    "idx = 0\n",
    "while idx < len(l):\n",
    "    if l[idx] == val:\n",
    "        break\n",
    "    idx += 1\n",
    "else:\n",
    "    l.append(val)\n",
    "print(l)"
   ],
   "metadata": {
    "collapsed": false,
    "pycharm": {
     "name": "#%%\n",
     "is_executing": false
    }
   }
  },
  {
   "cell_type": "markdown",
   "source": [
    "# Break, Continue and the Try statement\n",
    "\n",
    "try...except...finally"
   ],
   "metadata": {
    "collapsed": false,
    "pycharm": {
     "name": "#%% md\n"
    }
   }
  },
  {
   "cell_type": "code",
   "execution_count": 16,
   "outputs": [
    {
     "name": "stdout",
     "text": [
      "this always executes\n"
     ],
     "output_type": "stream"
    }
   ],
   "source": [
    "a = 10\n",
    "b = 1\n",
    "try:\n",
    "    a / b\n",
    "except ZeroDivisionError:\n",
    "    print(\"division by 0\")\n",
    "finally:\n",
    "    print(\"this always executes\")"
   ],
   "metadata": {
    "collapsed": false,
    "pycharm": {
     "name": "#%%\n",
     "is_executing": false
    }
   }
  },
  {
   "cell_type": "code",
   "execution_count": 17,
   "outputs": [
    {
     "name": "stdout",
     "text": [
      "division by 0\nthis always executes\n"
     ],
     "output_type": "stream"
    }
   ],
   "source": [
    "a = 10\n",
    "b = 0\n",
    "try:\n",
    "    a / b\n",
    "except ZeroDivisionError:\n",
    "    print(\"division by 0\")\n",
    "finally:\n",
    "    print(\"this always executes\")\n",
    "\n"
   ],
   "metadata": {
    "collapsed": false,
    "pycharm": {
     "name": "#%%\n",
     "is_executing": false
    }
   }
  },
  {
   "cell_type": "code",
   "execution_count": 20,
   "outputs": [
    {
     "name": "stdout",
     "text": [
      "------------------------\n1, 1 - always execute\n1, 1 - mail loop\n------------------------\n2, 0 - division by 0\n2, 0 - always execute\n------------------------\n3, -1 - always execute\n3, -1 - mail loop\n------------------------\n4, -2 - always execute\n4, -2 - mail loop\n"
     ],
     "output_type": "stream"
    }
   ],
   "source": [
    "a = 0\n",
    "b = 2\n",
    "\n",
    "while a < 4:\n",
    "    print(\"------------------------\")\n",
    "    a += 1\n",
    "    b -= 1\n",
    "    \n",
    "    try:\n",
    "        a / b\n",
    "    except ZeroDivisionError:\n",
    "        print(\"{0}, {1} - division by 0\".format(a, b))\n",
    "        continue\n",
    "    # finally always executes regardless of continue and break statement    \n",
    "    finally:\n",
    "        print(\"{0}, {1} - always execute\".format(a, b))\n",
    "        \n",
    "    print(\"{0}, {1} - mail loop\".format(a, b))\n"
   ],
   "metadata": {
    "collapsed": false,
    "pycharm": {
     "name": "#%%\n",
     "is_executing": false
    }
   }
  },
  {
   "cell_type": "code",
   "execution_count": 23,
   "outputs": [
    {
     "name": "stdout",
     "text": [
      "------------------------\n1, 9 - always execute\n1, 9 - mail loop\n------------------------\n2, 8 - always execute\n2, 8 - mail loop\n------------------------\n3, 7 - always execute\n3, 7 - mail loop\n------------------------\n4, 6 - always execute\n4, 6 - mail loop\nCode executed without a zero division error\n"
     ],
     "output_type": "stream"
    }
   ],
   "source": [
    "a = 0\n",
    "b = 10\n",
    "\n",
    "while a < 4:\n",
    "    print(\"------------------------\")\n",
    "    a += 1\n",
    "    b -= 1\n",
    "    \n",
    "    try:\n",
    "        a / b\n",
    "    except ZeroDivisionError:\n",
    "        print(\"{0}, {1} - division by 0\".format(a, b))\n",
    "        break\n",
    "    # finally always executes regardless of continue and break statement    \n",
    "    finally:\n",
    "        print(\"{0}, {1} - always execute\".format(a, b))\n",
    "        \n",
    "    print(\"{0}, {1} - mail loop\".format(a, b))\n",
    "# else block executes only if and only if while loop terminated normally i.e without a break statement\n",
    "else:\n",
    "    print(\"Code executed without a zero division error\")"
   ],
   "metadata": {
    "collapsed": false,
    "pycharm": {
     "name": "#%%\n",
     "is_executing": false
    }
   }
  },
  {
   "cell_type": "code",
   "execution_count": null,
   "outputs": [],
   "source": [
    "\n"
   ],
   "metadata": {
    "collapsed": false,
    "pycharm": {
     "name": "#%%\n"
    }
   }
  }
 ],
 "metadata": {
  "language_info": {
   "codemirror_mode": {
    "name": "ipython",
    "version": 2
   },
   "file_extension": ".py",
   "mimetype": "text/x-python",
   "name": "python",
   "nbconvert_exporter": "python",
   "pygments_lexer": "ipython2",
   "version": "2.7.6"
  },
  "kernelspec": {
   "name": "python3",
   "language": "python",
   "display_name": "Python 3"
  },
  "pycharm": {
   "stem_cell": {
    "cell_type": "raw",
    "source": [],
    "metadata": {
     "collapsed": false
    }
   }
  }
 },
 "nbformat": 4,
 "nbformat_minor": 0
}