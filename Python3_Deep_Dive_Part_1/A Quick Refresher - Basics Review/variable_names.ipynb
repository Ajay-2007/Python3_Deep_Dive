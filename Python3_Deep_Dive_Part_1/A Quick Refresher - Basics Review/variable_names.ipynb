{
 "cells": [
  {
   "cell_type": "markdown",
   "metadata": {
    "collapsed": true,
    "pycharm": {
     "name": "#%% md\n"
    }
   },
   "source": [
    "## Variable Names Conventions\n",
    "\n",
    "`_my_var`  => This is a convention to indicate **internal use** or **private** objects.\n",
    "\n",
    "Objects named this way will not get imported by a statement such as:\n",
    "from module import *\n",
    "\n",
    "``__my_var`` used to *mangle* attributes - useful in inheritence chains\n",
    "\n",
    "`__my_var__` Used for system-defined names that have a special meaning to the interpreter.\n",
    "Don't invent them, stick to the ones pre-defined by Python \n",
    "\n",
    "`__init__` <br> \n",
    "`x < y` -----> x.`__lt__`(y)\n",
    " \n",
    " ### Other Naming Conventions from the PEP 8 Style Guide\n",
    " \n",
    " **Packages** : short, all_lowercase names, Preferably no underscores.<br>\n",
    " **Modules** : short, all-lowercase names, Can have underscores.<br> \n",
    " **Classes** : CapWords (upper camel case) convention<br>\n",
    " **Functions** : lowercase, words seperated by underscores (snake_case)<br>\n",
    " **Variables** : lowercase, words seperated by underscores (snake_case)<br>\n",
    " **Constants** : all-uppercase, words seperated by undersocres"
   ]
  }
 ],
 "metadata": {
  "language_info": {
   "codemirror_mode": {
    "name": "ipython",
    "version": 2
   },
   "file_extension": ".py",
   "mimetype": "text/x-python",
   "name": "python",
   "nbconvert_exporter": "python",
   "pygments_lexer": "ipython2",
   "version": "2.7.6"
  },
  "kernelspec": {
   "name": "python3",
   "language": "python",
   "display_name": "Python 3"
  },
  "pycharm": {
   "stem_cell": {
    "cell_type": "raw",
    "source": [],
    "metadata": {
     "collapsed": false
    }
   }
  }
 },
 "nbformat": 4,
 "nbformat_minor": 0
}