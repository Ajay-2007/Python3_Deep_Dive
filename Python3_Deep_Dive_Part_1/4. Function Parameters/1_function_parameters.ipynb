{
 "cells": [
  {
   "cell_type": "markdown",
   "metadata": {
    "collapsed": true,
    "pycharm": {
     "name": "#%% md\n"
    }
   },
   "source": [
    "# FUNCTION PARAMETERS\n",
    "\n",
    "* Arguments vs Parameters\n",
    "* Positional vs Keyword-Only Arguments\n",
    "* Optional Arguments via Defaults\n",
    "* Unpacking Iterables and Function Arguments\n",
    "* Extended Unpacking\n",
    "* Variable Number of Positional and Keyword-Only Arguments"
   ]
  },
  {
   "cell_type": "markdown",
   "source": [
    "# ARGUMENTS VS PARAMETERS\n"
   ],
   "metadata": {
    "collapsed": false,
    "pycharm": {
     "name": "#%% md\n"
    }
   }
  },
  {
   "cell_type": "markdown",
   "source": [
    "# Positional vs Keyword-Only Arguments\n",
    "* If the named keyword arguments is used then after that all the arguments should also have\n",
    "named keyword arguments. <br>\n",
    "```python\n",
    "def func(a, b = 2, c = 3):\n",
    "    pass\n",
    "```\n",
    "then the function call should be make like this func(a = 1, b = 2, c = 3). We can also reverse \n",
    "the order in which they are called."
   ],
   "metadata": {
    "collapsed": false,
    "pycharm": {
     "name": "#%% md\n"
    }
   }
  },
  {
   "cell_type": "code",
   "execution_count": 1,
   "outputs": [],
   "source": [
    "def my_func(a, b, c):\n",
    "    print('a = {0}, b = {1}, c = {2}'.format(a, b, c))\n",
    " "
   ],
   "metadata": {
    "collapsed": false,
    "pycharm": {
     "name": "#%%\n",
     "is_executing": false
    }
   }
  },
  {
   "cell_type": "code",
   "execution_count": 2,
   "outputs": [
    {
     "name": "stdout",
     "text": [
      "a = 1, b = 2, c = 3\n"
     ],
     "output_type": "stream"
    }
   ],
   "source": [
    "my_func(1, 2, 3)\n",
    "\n",
    "\n"
   ],
   "metadata": {
    "collapsed": false,
    "pycharm": {
     "name": "#%%\n",
     "is_executing": false
    }
   }
  },
  {
   "cell_type": "code",
   "execution_count": 3,
   "outputs": [
    {
     "traceback": [
      "\u001b[1;31m---------------------------------------------------------------------------\u001b[0m",
      "\u001b[1;31mTypeError\u001b[0m                                 Traceback (most recent call last)",
      "\u001b[1;32m<ipython-input-3-dbe51302554a>\u001b[0m in \u001b[0;36m<module>\u001b[1;34m\u001b[0m\n\u001b[1;32m----> 1\u001b[1;33m \u001b[0mmy_func\u001b[0m\u001b[1;33m(\u001b[0m\u001b[1;36m1\u001b[0m\u001b[1;33m,\u001b[0m \u001b[1;36m2\u001b[0m\u001b[1;33m)\u001b[0m\u001b[1;33m\u001b[0m\u001b[1;33m\u001b[0m\u001b[0m\n\u001b[0m\u001b[0;32m      2\u001b[0m \u001b[1;33m\u001b[0m\u001b[0m\n",
      "\u001b[1;31mTypeError\u001b[0m: my_func() missing 1 required positional argument: 'c'"
     ],
     "ename": "TypeError",
     "evalue": "my_func() missing 1 required positional argument: 'c'",
     "output_type": "error"
    }
   ],
   "source": [
    "my_func(1, 2)"
   ],
   "metadata": {
    "collapsed": false,
    "pycharm": {
     "name": "#%%\n",
     "is_executing": false
    }
   }
  },
  {
   "cell_type": "code",
   "execution_count": 4,
   "outputs": [
    {
     "traceback": [
      "\u001b[1;36m  File \u001b[1;32m\"<ipython-input-4-ac46ad1a4107>\"\u001b[1;36m, line \u001b[1;32m1\u001b[0m\n\u001b[1;33m    def my_func(a, b=2, c):\u001b[0m\n\u001b[1;37m               ^\u001b[0m\n\u001b[1;31mSyntaxError\u001b[0m\u001b[1;31m:\u001b[0m non-default argument follows default argument\n"
     ],
     "ename": "SyntaxError",
     "evalue": "non-default argument follows default argument (<ipython-input-4-ac46ad1a4107>, line 1)",
     "output_type": "error"
    }
   ],
   "source": [
    "def my_func(a, b=2, c):\n",
    "    print('a = {0}, b = {1}, c = {2}'.format(a, b, c))"
   ],
   "metadata": {
    "collapsed": false,
    "pycharm": {
     "name": "#%%\n",
     "is_executing": false
    }
   }
  },
  {
   "cell_type": "code",
   "execution_count": 10,
   "outputs": [],
   "source": [
    "def my_func(a = 1, b = 2, c = 3):\n",
    "    print('a = {0}, b = {1}, c = {2}'.format(a, b, c))"
   ],
   "metadata": {
    "collapsed": false,
    "pycharm": {
     "name": "#%%\n",
     "is_executing": false
    }
   }
  },
  {
   "cell_type": "code",
   "execution_count": 11,
   "outputs": [
    {
     "name": "stdout",
     "text": [
      "a = 10, b = 20, c = 30\n"
     ],
     "output_type": "stream"
    }
   ],
   "source": [
    "my_func(10, 20, 30)"
   ],
   "metadata": {
    "collapsed": false,
    "pycharm": {
     "name": "#%%\n",
     "is_executing": false
    }
   }
  },
  {
   "cell_type": "code",
   "execution_count": 12,
   "outputs": [
    {
     "name": "stdout",
     "text": [
      "a = 10, b = 20, c = 3\n"
     ],
     "output_type": "stream"
    }
   ],
   "source": [
    "my_func(10, 20)\n",
    " \n"
   ],
   "metadata": {
    "collapsed": false,
    "pycharm": {
     "name": "#%%\n",
     "is_executing": false
    }
   }
  },
  {
   "cell_type": "code",
   "execution_count": 13,
   "outputs": [
    {
     "name": "stdout",
     "text": [
      "a = 10, b = 2, c = 3\n"
     ],
     "output_type": "stream"
    }
   ],
   "source": [
    "my_func(10)\n",
    "\n"
   ],
   "metadata": {
    "collapsed": false,
    "pycharm": {
     "name": "#%%\n",
     "is_executing": false
    }
   }
  },
  {
   "cell_type": "code",
   "execution_count": 14,
   "outputs": [
    {
     "name": "stdout",
     "text": [
      "a = 1, b = 2, c = 3\n"
     ],
     "output_type": "stream"
    }
   ],
   "source": [
    "my_func()\n",
    "\n"
   ],
   "metadata": {
    "collapsed": false,
    "pycharm": {
     "name": "#%%\n",
     "is_executing": false
    }
   }
  },
  {
   "cell_type": "code",
   "execution_count": 15,
   "outputs": [],
   "source": [
    "def my_func(a, b = 2, c = 3):\n",
    "    print('a = {0}, b = {1}, c = {2}'.format(a, b, c))"
   ],
   "metadata": {
    "collapsed": false,
    "pycharm": {
     "name": "#%%\n",
     "is_executing": false
    }
   }
  },
  {
   "cell_type": "code",
   "execution_count": 16,
   "outputs": [
    {
     "name": "stdout",
     "text": [
      "a = 10, b = 20, c = 30\n"
     ],
     "output_type": "stream"
    }
   ],
   "source": [
    "my_func(c = 30, b = 20, a = 10)"
   ],
   "metadata": {
    "collapsed": false,
    "pycharm": {
     "name": "#%%\n",
     "is_executing": false
    }
   }
  },
  {
   "cell_type": "code",
   "execution_count": 17,
   "outputs": [
    {
     "name": "stdout",
     "text": [
      "a = 10, b = 20, c = 30\n"
     ],
     "output_type": "stream"
    }
   ],
   "source": [
    "my_func(10, c = 30, b = 20)"
   ],
   "metadata": {
    "collapsed": false,
    "pycharm": {
     "name": "#%%\n",
     "is_executing": false
    }
   }
  },
  {
   "cell_type": "code",
   "execution_count": 18,
   "outputs": [
    {
     "name": "stdout",
     "text": [
      "a = 10, b = 2, c = 30\n"
     ],
     "output_type": "stream"
    }
   ],
   "source": [
    "my_func(10, c = 30)"
   ],
   "metadata": {
    "collapsed": false,
    "pycharm": {
     "name": "#%%\n",
     "is_executing": false
    }
   }
  },
  {
   "cell_type": "markdown",
   "source": [
    "## Unpacking Iterables\n",
    "What defines a tuple in Python, is not *()*, but , <br>\n",
    "1, 2, 3 is also a tuple -> (1, 2, 3) The *()* are used to make the tuple clearer.<br>\n",
    "\n",
    "To create a tuple with a single element:\n",
    "\n",
    "(1) will not work as intended           -> this will convert back to **int**<br>\n",
    "1, or (1, )                             -> tuple<br>\n",
    "\n",
    "The only exception is when creating an empty tuple: `()` or `tuple()`.\n",
    "\n",
    "---------------------------------------------------------------------------\n",
    "### Packed Values\n",
    "* Packed values refers to values that are bundled together in some way\n",
    "    Tuples and Lists are packed value\n",
    "        t = (1, 2, 3)\n",
    "        l = [1, 2, 3]\n",
    "        s = 'python'\n",
    "        set1 = {1, 2, 3}\n",
    "        dic = {'a' : 1,'b' : 2, 'c' : 3}\n",
    "        \n",
    "        In fact, any iterable can be considered a packed value.\n",
    "\n",
    "* Unpacking Pakced Values\n",
    "    \n",
    "    a, b, c = [1, 2, 3] # a, b, c is actually a typle of 2 variables\n",
    "    \n",
    "    a -> 1, b -> 2, c -> 3\n",
    "    \n",
    "    The unpacking into individual variables is based on the relative positions of each element.\n",
    "    \n",
    "* Unpacking other Iterables\n",
    "    a, b, c = 10, 20, 'hello' <br>\n",
    "    a,b,c = 'XYZ'\n",
    "    \n",
    "    instead of writing<br>\n",
    "    a = 10<br>\n",
    "    b - 20<br>\n",
    "    we can write<br>\n",
    "    a, b = 10, 20   \n",
    "\n",
    "\n"
   ],
   "metadata": {
    "collapsed": false,
    "pycharm": {
     "name": "#%% md\n"
    }
   }
  }
 ],
 "metadata": {
  "language_info": {
   "codemirror_mode": {
    "name": "ipython",
    "version": 2
   },
   "file_extension": ".py",
   "mimetype": "text/x-python",
   "name": "python",
   "nbconvert_exporter": "python",
   "pygments_lexer": "ipython2",
   "version": "2.7.6"
  },
  "kernelspec": {
   "name": "python3",
   "language": "python",
   "display_name": "Python 3"
  },
  "pycharm": {
   "stem_cell": {
    "cell_type": "raw",
    "source": [],
    "metadata": {
     "collapsed": false
    }
   }
  }
 },
 "nbformat": 4,
 "nbformat_minor": 0
}