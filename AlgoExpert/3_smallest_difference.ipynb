{
  "nbformat": 4,
  "nbformat_minor": 0,
  "metadata": {
    "colab": {
      "name": "3_smallest_difference.ipynb",
      "provenance": [],
      "collapsed_sections": []
    },
    "kernelspec": {
      "name": "python3",
      "display_name": "Python 3"
    },
    "language_info": {
      "name": "python"
    }
  },
  "cells": [
    {
      "cell_type": "code",
      "metadata": {
        "id": "TNHbWfT87mLp"
      },
      "source": [
        "def smallest_difference(arr1, arr2):\n",
        "  smallest_diff = float('inf')\n",
        "  ans = [0, 0]\n",
        "\n",
        "  for first_val in arr1:\n",
        "    for second_val in arr2:\n",
        "      if abs(first_val - second_val) < smallest_diff:\n",
        "        smallest_diff = abs(first_val - second_val)\n",
        "        ans[0] = first_val\n",
        "        ans[1] = second_val\n",
        "  \n",
        "  return ans"
      ],
      "execution_count": 3,
      "outputs": []
    },
    {
      "cell_type": "code",
      "metadata": {
        "colab": {
          "base_uri": "https://localhost:8080/"
        },
        "id": "FlxSc4aD7oKF",
        "outputId": "c34e9924-541b-426c-ed8f-5b7fff1e2112"
      },
      "source": [
        "arr1 = [-1, 5, 10, 20, 28, 3]\n",
        "arr2 = [26, 134, 135, 15, 17]\n",
        "smallest_difference(arr1, arr2)"
      ],
      "execution_count": 4,
      "outputs": [
        {
          "output_type": "execute_result",
          "data": {
            "text/plain": [
              "[28, 26]"
            ]
          },
          "metadata": {},
          "execution_count": 4
        }
      ]
    },
    {
      "cell_type": "code",
      "metadata": {
        "colab": {
          "base_uri": "https://localhost:8080/"
        },
        "id": "mnUPOm2uFJ5K",
        "outputId": "48f9a79e-cc92-44a1-9337-4d16032a1c5c"
      },
      "source": [
        "(1 + 2) // 2"
      ],
      "execution_count": 25,
      "outputs": [
        {
          "output_type": "execute_result",
          "data": {
            "text/plain": [
              "1"
            ]
          },
          "metadata": {},
          "execution_count": 25
        }
      ]
    },
    {
      "cell_type": "code",
      "metadata": {
        "id": "O2cnr9dy7oHx"
      },
      "source": [
        "def smallest_difference_improved(arr1, arr2):\n",
        "  # arr1.sort()\n",
        "  arr2.sort()\n",
        "  ans = []\n",
        "  arr2_length = len(arr2)\n",
        "  min_value = float('inf')\n",
        "  loop = 0\n",
        "  for first_val in arr1:\n",
        "    start = 0\n",
        "    end = arr2_length - 1\n",
        "    \n",
        "    while start < end: \n",
        "      mid = (start + end) // 2\n",
        "      diff = abs(first_val - arr2[mid])\n",
        "\n",
        "      if diff < min_value:\n",
        "        min_value = diff\n",
        "        ans = [first_val, arr2[mid]]\n",
        "      \n",
        "      loop += 1\n",
        "      print(f\"loop={loop}: start={start}, mid={mid}, end={end}, arr2[mid]={arr2[mid]}, first_value={first_val}, min_value={min_value}, ans_pair={ans}\")\n",
        "    \n",
        "      if arr2[mid] > first_val:\n",
        "        end = mid\n",
        "      else:\n",
        "        start = mid + 1\n",
        "  \n",
        "  return ans"
      ],
      "execution_count": 51,
      "outputs": []
    },
    {
      "cell_type": "code",
      "metadata": {
        "colab": {
          "base_uri": "https://localhost:8080/"
        },
        "id": "a5aLvyiV7oFl",
        "outputId": "7be55ef7-9016-49d9-9209-e289e811f3c3"
      },
      "source": [
        "smallest_difference_improved(arr1, arr2) # loop ran 16 times which is nlogn = 6log6 = 15.509778"
      ],
      "execution_count": 52,
      "outputs": [
        {
          "output_type": "stream",
          "name": "stdout",
          "text": [
            "loop=1: start=0, mid=2, end=4, arr2[mid]=26, first_value=-1, min_value=27, ans_pair=[-1, 26]\n",
            "loop=2: start=0, mid=1, end=2, arr2[mid]=17, first_value=-1, min_value=18, ans_pair=[-1, 17]\n",
            "loop=3: start=0, mid=0, end=1, arr2[mid]=15, first_value=-1, min_value=16, ans_pair=[-1, 15]\n",
            "loop=4: start=0, mid=2, end=4, arr2[mid]=26, first_value=3, min_value=16, ans_pair=[-1, 15]\n",
            "loop=5: start=0, mid=1, end=2, arr2[mid]=17, first_value=3, min_value=14, ans_pair=[3, 17]\n",
            "loop=6: start=0, mid=0, end=1, arr2[mid]=15, first_value=3, min_value=12, ans_pair=[3, 15]\n",
            "loop=7: start=0, mid=2, end=4, arr2[mid]=26, first_value=5, min_value=12, ans_pair=[3, 15]\n",
            "loop=8: start=0, mid=1, end=2, arr2[mid]=17, first_value=5, min_value=12, ans_pair=[3, 15]\n",
            "loop=9: start=0, mid=0, end=1, arr2[mid]=15, first_value=5, min_value=10, ans_pair=[5, 15]\n",
            "loop=10: start=0, mid=2, end=4, arr2[mid]=26, first_value=10, min_value=10, ans_pair=[5, 15]\n",
            "loop=11: start=0, mid=1, end=2, arr2[mid]=17, first_value=10, min_value=7, ans_pair=[10, 17]\n",
            "loop=12: start=0, mid=0, end=1, arr2[mid]=15, first_value=10, min_value=5, ans_pair=[10, 15]\n",
            "loop=13: start=0, mid=2, end=4, arr2[mid]=26, first_value=20, min_value=5, ans_pair=[10, 15]\n",
            "loop=14: start=0, mid=1, end=2, arr2[mid]=17, first_value=20, min_value=3, ans_pair=[20, 17]\n",
            "loop=15: start=0, mid=2, end=4, arr2[mid]=26, first_value=28, min_value=2, ans_pair=[28, 26]\n",
            "loop=16: start=3, mid=3, end=4, arr2[mid]=134, first_value=28, min_value=2, ans_pair=[28, 26]\n"
          ]
        },
        {
          "output_type": "execute_result",
          "data": {
            "text/plain": [
              "[28, 26]"
            ]
          },
          "metadata": {},
          "execution_count": 52
        }
      ]
    }
  ]
}