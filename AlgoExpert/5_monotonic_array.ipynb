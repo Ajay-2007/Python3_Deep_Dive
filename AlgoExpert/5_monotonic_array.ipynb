{
  "nbformat": 4,
  "nbformat_minor": 0,
  "metadata": {
    "colab": {
      "name": "5_monotonic_array.ipynb",
      "provenance": [],
      "collapsed_sections": []
    },
    "kernelspec": {
      "name": "python3",
      "display_name": "Python 3"
    },
    "language_info": {
      "name": "python"
    }
  },
  "cells": [
    {
      "cell_type": "code",
      "metadata": {
        "id": "hEl1LQjkAsv3"
      },
      "source": [
        "def monotonic_array(arr):\n",
        "\n",
        "  if len(arr) == 1:\n",
        "    return True\n",
        "\n",
        "  l_pt_1 = 0\n",
        "  l_pt_2 = 1\n",
        "\n",
        "  arr_len = len(arr) - 1\n",
        "  increasing_flag = True\n",
        "  decreasing_flag = True\n",
        "\n",
        "  while l_pt_2 < arr_len and decreasing_flag:\n",
        "    # if right pointer is less then array length \n",
        "    # and decreasing flag is True then only enter \n",
        "    # the loop\n",
        "    if arr[l_pt_2] <= arr[l_pt_1]:\n",
        "      # if left pointer 2 value is less then the left pointer 1 value\n",
        "      # means it accounts for the monotonic decreasing function hense\n",
        "      # shift the pointer values to one step to the right\n",
        "      print(f\"l_pt_1={arr[l_pt_1]}, l_pt_2={arr[l_pt_2]}\")\n",
        "      l_pt_1 += 1\n",
        "      l_pt_2 += 1\n",
        "    else:\n",
        "      decreasing_flag = False\n",
        "\n",
        "  l_pt_1 = 0\n",
        "  l_pt_2 = 1\n",
        "  \n",
        "  if not decreasing_flag:\n",
        "    while l_pt_2 < arr_len and increasing_flag:\n",
        "      # if right pointer is less then array length \n",
        "      # and increasing flag is True then only enter \n",
        "      # the loop\n",
        "      if arr[l_pt_2] >= arr[l_pt_1]:\n",
        "        # if right pointer value is greater than the left pointer value\n",
        "        # means it accounts for monotonic increasing function hense\n",
        "        # shift the pointer values to one step to the right\n",
        "        print(f\"l_pt_1={arr[l_pt_1]}, l_pt_2={arr[l_pt_2]}\")\n",
        "        l_pt_1 += 1\n",
        "        l_pt_2 += 1\n",
        "      else:\n",
        "        increasing_flag = False\n",
        "    \n",
        "  # return either increasing_flag or decreasing_flag\n",
        "  # if one of them is True then it will return True\n",
        "  # which will account for either increasing or decreasing\n",
        "  # monotonic function but it will return False only\n",
        "  # if non of them is True hense the arr is non monotonic\n",
        "  return increasing_flag or decreasing_flag\n",
        "  \n",
        "    \n"
      ],
      "execution_count": 20,
      "outputs": []
    },
    {
      "cell_type": "code",
      "metadata": {
        "colab": {
          "base_uri": "https://localhost:8080/"
        },
        "id": "FTPU7frXAt09",
        "outputId": "93bde1b2-31d9-4017-822a-663807aae1bf"
      },
      "source": [
        "#arr1 = [-1, -5, -10, -1100, -1100, -1101, -1102, -9001]\n",
        "arr2 = [-9001, -1102, -1101, -1100, -1100, -10, -1, -1]\n",
        "arr3 = [-9001, -1102, -1101, -1100, 5, -10, -1, -1]\n",
        "print(monotonic_array(arr1))\n",
        "print(\"===========================\")\n",
        "print(monotonic_array(arr2))\n",
        "print(\"===========================\")\n",
        "print(monotonic_array(arr3))"
      ],
      "execution_count": 19,
      "outputs": [
        {
          "output_type": "stream",
          "name": "stdout",
          "text": [
            "l_pt_1=-1, l_pt_2=-5\n",
            "l_pt_1=-5, l_pt_2=-10\n",
            "l_pt_1=-10, l_pt_2=-1100\n",
            "l_pt_1=-1100, l_pt_2=-1100\n",
            "l_pt_1=-1100, l_pt_2=-1101\n",
            "l_pt_1=-1101, l_pt_2=-1102\n",
            "True\n",
            "===========================\n",
            "l_pt_1=-9001, l_pt_2=-1102\n",
            "l_pt_1=-1102, l_pt_2=-1101\n",
            "l_pt_1=-1101, l_pt_2=-1100\n",
            "l_pt_1=-1100, l_pt_2=-1100\n",
            "l_pt_1=-1100, l_pt_2=-10\n",
            "l_pt_1=-10, l_pt_2=-1\n",
            "True\n",
            "===========================\n",
            "l_pt_1=-9001, l_pt_2=-1102\n",
            "l_pt_1=-1102, l_pt_2=-1101\n",
            "l_pt_1=-1101, l_pt_2=-1100\n",
            "l_pt_1=-1100, l_pt_2=5\n",
            "False\n"
          ]
        }
      ]
    }
  ]
}