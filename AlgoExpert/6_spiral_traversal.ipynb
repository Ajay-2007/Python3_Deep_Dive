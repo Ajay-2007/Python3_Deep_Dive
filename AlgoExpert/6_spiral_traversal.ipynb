{
  "nbformat": 4,
  "nbformat_minor": 0,
  "metadata": {
    "colab": {
      "name": "6_spiral_traversal.ipynb",
      "provenance": [],
      "collapsed_sections": []
    },
    "kernelspec": {
      "name": "python3",
      "display_name": "Python 3"
    },
    "language_info": {
      "name": "python"
    }
  },
  "cells": [
    {
      "cell_type": "markdown",
      "metadata": {
        "id": "Ef6lZB7yQmBM"
      },
      "source": [
        "# Spiral Traversal "
      ]
    },
    {
      "cell_type": "code",
      "metadata": {
        "id": "qgxOo_bzXBFB"
      },
      "source": [
        "def spiral_traversal_improved(arr):\n",
        "  s_r = 0\n",
        "  e_r = len(arr[:][0]) - 1\n",
        "  s_c = 0\n",
        "  e_c = len(arr[0][:]) - 1\n",
        "\n",
        "  ans = []\n",
        "\n",
        "  \n",
        "  while s_c < e_c and s_r < e_r:\n",
        "    i = s_r\n",
        "    for j in range(s_c, e_c + 1):\n",
        "\n",
        "      print(f\"Direction: Right -> i={i}, j={j}, arr[i][j]={arr[i][j]}\")\n",
        "      ans.append(arr[i][j])\n",
        "    \n",
        "    print(\"=============================\")\n",
        "    j = e_c\n",
        "    for i in range(s_r + 1, e_r + 1):\n",
        "      print(f\"Direction: Down -> i={i}, j={j}, arr[i][j]={arr[i][j]}\")\n",
        "      ans.append(arr[i][j])\n",
        "    print(\"=============================\")\n",
        "    i = e_r\n",
        "    for j in range(e_c - 1, s_c - 1, -1):\n",
        "      print(f\"Direction: Left -> i={i}, j={j}, arr[i][j]={arr[i][j]}\")\n",
        "      ans.append(arr[i][j])\n",
        "    print(\"=============================\")\n",
        "    j = s_c\n",
        "    for i in range(e_r - 1, s_r, -1):\n",
        "      print(f\"Direction: Up -> i={i}, j={j}, arr[i][j]={arr[i][j]}\")\n",
        "      ans.append(arr[i][j])\n",
        "    print(\"=============================\")\n",
        "    s_r += 1\n",
        "    s_c += 1\n",
        "    e_r -= 1\n",
        "    e_c -= 1\n",
        "  \n",
        "  return ans\n"
      ],
      "execution_count": 19,
      "outputs": []
    },
    {
      "cell_type": "code",
      "metadata": {
        "colab": {
          "base_uri": "https://localhost:8080/"
        },
        "id": "dnfQsb3mXBCm",
        "outputId": "aa0bd3b3-2a56-4276-d1b8-f5caed7700db"
      },
      "source": [
        "arr = [[1, 2, 3, 4], [12, 13, 14, 5], [11, 16, 15, 6], [10, 9, 8, 7]]\n",
        "spiral_traversal_improved(arr)"
      ],
      "execution_count": 20,
      "outputs": [
        {
          "output_type": "stream",
          "name": "stdout",
          "text": [
            "Direction: Right -> i=0, j=0, arr[i][j]=1\n",
            "Direction: Right -> i=0, j=1, arr[i][j]=2\n",
            "Direction: Right -> i=0, j=2, arr[i][j]=3\n",
            "Direction: Right -> i=0, j=3, arr[i][j]=4\n",
            "=============================\n",
            "Direction: Down -> i=1, j=3, arr[i][j]=5\n",
            "Direction: Down -> i=2, j=3, arr[i][j]=6\n",
            "Direction: Down -> i=3, j=3, arr[i][j]=7\n",
            "=============================\n",
            "Direction: Left -> i=3, j=2, arr[i][j]=8\n",
            "Direction: Left -> i=3, j=1, arr[i][j]=9\n",
            "Direction: Left -> i=3, j=0, arr[i][j]=10\n",
            "=============================\n",
            "Direction: Up -> i=2, j=0, arr[i][j]=11\n",
            "Direction: Up -> i=1, j=0, arr[i][j]=12\n",
            "=============================\n",
            "Direction: Right -> i=1, j=1, arr[i][j]=13\n",
            "Direction: Right -> i=1, j=2, arr[i][j]=14\n",
            "=============================\n",
            "Direction: Down -> i=2, j=2, arr[i][j]=15\n",
            "=============================\n",
            "Direction: Left -> i=2, j=1, arr[i][j]=16\n",
            "=============================\n",
            "=============================\n"
          ]
        },
        {
          "output_type": "execute_result",
          "data": {
            "text/plain": [
              "[1, 2, 3, 4, 5, 6, 7, 8, 9, 10, 11, 12, 13, 14, 15, 16]"
            ]
          },
          "metadata": {},
          "execution_count": 20
        }
      ]
    }
  ]
}