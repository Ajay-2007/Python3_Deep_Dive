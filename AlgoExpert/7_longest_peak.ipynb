{
  "nbformat": 4,
  "nbformat_minor": 0,
  "metadata": {
    "colab": {
      "name": "7_longest_peak.ipynb",
      "provenance": [],
      "collapsed_sections": []
    },
    "kernelspec": {
      "name": "python3",
      "display_name": "Python 3"
    },
    "language_info": {
      "name": "python"
    }
  },
  "cells": [
    {
      "cell_type": "code",
      "metadata": {
        "id": "33hzGsV4E-yK"
      },
      "source": [
        "# O(n) time | O(1) space\n",
        "def kadanesAlgorithm(array):\n",
        "  maxEndingHere = array[0]\n",
        "  maxSoFar = array[0]\n",
        "  for num in array[1:]:\n",
        "    maxEndingHere = max(num, maxEndingHere + num)\n",
        "    maxSoFar = max(maxSoFar, maxEndingHere)\n",
        "  return maxSoFar"
      ],
      "execution_count": 1,
      "outputs": []
    },
    {
      "cell_type": "code",
      "metadata": {
        "id": "Ntylz55yE_XI"
      },
      "source": [
        "# O(n) time | O(1) space\n",
        "def longestPeak(array):\n",
        "   longestPeakLength = 0\n",
        "   i = 1\n",
        "   while i < len(array) - 1:\n",
        "     isPeak = array[i - 1] < array[i] and array[i] > array[i + 1]\n",
        "     if not isPeak:\n",
        "       i += 1\n",
        "       continue\n",
        "    \n",
        "     leftIdx = i - 2\n",
        "     while leftIdx >= 0 and array[leftIdx] < array[leftIdx + 1]:\n",
        "       leftIdx -= 1\n",
        "    \n",
        "     rightIdx = i + 2\n",
        "     while rightIdx < len(array) and array[rightIdx] < array[rightIdx - 1]:\n",
        "       rightIdx += 1\n",
        "    \n",
        "\n",
        "     currentPeakLength = rightIdx - leftIdx - 1\n",
        "     longestPeakLength = max(longestPeakLength, currentPeakLength)\n",
        "     i = rightIdx\n",
        "  \n",
        "   return longestPeakLength\n",
        "      \n"
      ],
      "execution_count": 6,
      "outputs": []
    },
    {
      "cell_type": "code",
      "metadata": {
        "colab": {
          "base_uri": "https://localhost:8080/"
        },
        "id": "O6CLG742E_Un",
        "outputId": "84992336-e541-46e1-cb57-9d93c3532f61"
      },
      "source": [
        "longestPeak([1, 2, 3, 3, 4, 0, 10, 6, 5, -1, -3, 2, 3])"
      ],
      "execution_count": 7,
      "outputs": [
        {
          "output_type": "execute_result",
          "data": {
            "text/plain": [
              "6"
            ]
          },
          "metadata": {},
          "execution_count": 7
        }
      ]
    }
  ]
}