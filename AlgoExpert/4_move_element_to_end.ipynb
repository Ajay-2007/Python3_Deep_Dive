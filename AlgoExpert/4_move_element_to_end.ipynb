{
  "nbformat": 4,
  "nbformat_minor": 0,
  "metadata": {
    "colab": {
      "name": "4_move_element_to_end.ipynb",
      "provenance": [],
      "collapsed_sections": []
    },
    "kernelspec": {
      "name": "python3",
      "display_name": "Python 3"
    },
    "language_info": {
      "name": "python"
    }
  },
  "cells": [
    {
      "cell_type": "code",
      "metadata": {
        "id": "8ptl1PqfynmT"
      },
      "source": [
        "def move_element_to_end(arr, value):\n",
        "\n",
        "  left_pt = 0\n",
        "  right_pt = len(arr) - 1\n",
        "\n",
        "  while left_pt < right_pt:\n",
        "    print(f\"left_pt={left_pt}, right_pt={right_pt}\")\n",
        "\n",
        "    if arr[left_pt] == value:\n",
        "      if arr[right_pt] != value:\n",
        "        # swaping element if the left value is equal to the target value and\n",
        "        # the right value isn't equal to the target value\n",
        "        arr[left_pt], arr[right_pt] = arr[right_pt], arr[left_pt]\n",
        "        left_pt += 1 # shift the left pointer to the right\n",
        "        right_pt -= 1 # shift the right pointer to the left\n",
        "\n",
        "    if arr[left_pt] != value:\n",
        "      # if the value at left pointer isn't equal to the target value\n",
        "      # then shift the left pointer to the right\n",
        "      left_pt += 1\n",
        "    \n",
        "    if arr[right_pt] == value:\n",
        "      # if the value at right pointer is equal to the target value\n",
        "      # then shift the right pointer to the left\n",
        "      right_pt -= 1\n",
        "\n",
        "  return arr"
      ],
      "execution_count": 41,
      "outputs": []
    },
    {
      "cell_type": "code",
      "metadata": {
        "colab": {
          "base_uri": "https://localhost:8080/"
        },
        "id": "QgiD6V3qys9S",
        "outputId": "ddb82ec9-b6f0-4631-c700-fa97b03e7003"
      },
      "source": [
        "arr = [2, 1, 2, 2, 2, 3, 4, 2]\n",
        "move_element_to_end(arr, 2)"
      ],
      "execution_count": 42,
      "outputs": [
        {
          "output_type": "stream",
          "name": "stdout",
          "text": [
            "left_pt=0, right_pt=7\n",
            "left_pt=0, right_pt=6\n",
            "left_pt=2, right_pt=5\n"
          ]
        },
        {
          "output_type": "execute_result",
          "data": {
            "text/plain": [
              "[4, 1, 3, 2, 2, 2, 2, 2]"
            ]
          },
          "metadata": {},
          "execution_count": 42
        }
      ]
    }
  ]
}