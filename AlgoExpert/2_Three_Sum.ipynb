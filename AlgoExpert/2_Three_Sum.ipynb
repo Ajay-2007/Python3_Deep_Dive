{
  "nbformat": 4,
  "nbformat_minor": 0,
  "metadata": {
    "colab": {
      "name": "2_Three_Sum.ipynb",
      "provenance": [],
      "collapsed_sections": []
    },
    "kernelspec": {
      "name": "python3",
      "display_name": "Python 3"
    },
    "language_info": {
      "name": "python"
    }
  },
  "cells": [
    {
      "cell_type": "code",
      "metadata": {
        "id": "0-K5gTc1YsJR"
      },
      "source": [
        "def three_number_sum(arr, target):\n",
        "  arr_length = len(arr)\n",
        "  ans = list(set())\n",
        "  for idx_i, i in enumerate(arr):\n",
        "    x = i\n",
        "    for idx_j, j in enumerate(arr[idx_i + 1: ]):\n",
        "      y = j\n",
        "      for idx_k, k in enumerate(arr[idx_j + 1:]):\n",
        "        z = k\n",
        "        if x + y + z == target:\n",
        "          if {x, y, z} not in ans:\n",
        "            ans.append({x, y, z})\n",
        "            # print(f\"{x} + {y} + {z} = {x + y + z}\")\n",
        "  \n",
        "  new_ans = []\n",
        "  for set_tripplet in ans:\n",
        "    # print(set_tripplet)\n",
        "    if len(list(set_tripplet)) == 3:\n",
        "      new_ans.append(list(set_tripplet))\n",
        "    \n",
        "  return new_ans"
      ],
      "execution_count": 47,
      "outputs": []
    },
    {
      "cell_type": "code",
      "metadata": {
        "id": "wrwL1FDqYtaa"
      },
      "source": [
        "arr = [12, 3, 1, 2, -6, 5, -8, 6]\n",
        "target = 0"
      ],
      "execution_count": 51,
      "outputs": []
    },
    {
      "cell_type": "code",
      "metadata": {
        "colab": {
          "base_uri": "https://localhost:8080/"
        },
        "id": "7dWsKtstYtYN",
        "outputId": "897d10bc-cc21-4680-c919-825349ddf763"
      },
      "source": [
        "three_number_sum(arr, target)"
      ],
      "execution_count": 49,
      "outputs": [
        {
          "output_type": "execute_result",
          "data": {
            "text/plain": [
              "[[-8, 3, 5], [1, -6, 5], [-8, 2, 6]]"
            ]
          },
          "metadata": {},
          "execution_count": 49
        }
      ]
    },
    {
      "cell_type": "code",
      "metadata": {
        "id": "xt767rPHYtVf"
      },
      "source": [
        "def three_number_sum_improved(arr, target):\n",
        "  arr_length = len(arr)\n",
        "  # sort the array\n",
        "  arr.sort()\n",
        "  ans_list = []\n",
        "  for idx, element in enumerate(arr):\n",
        "    left_pointer = idx + 1\n",
        "    right_pointer = arr_length-1\n",
        "    # if left_pointer crosses right_pointer then exit the loop and \n",
        "    # jump to next element in the list\n",
        "    while left_pointer < right_pointer:\n",
        "      target_sum = element + arr[left_pointer] + arr[right_pointer]\n",
        "\n",
        "      # if target_sum is greater than target then it means that we need to decrease the \n",
        "      # right pointer cause we need value less than current target_sum value\n",
        "      # hense sliding the right pointer to the left will give us less target_sum\n",
        "      # then the previous right_pointer value same goes for left_pointer but in \n",
        "      # opposite direction\n",
        "      if target_sum > target:\n",
        "        right_pointer -= 1\n",
        "      if target_sum < target:\n",
        "        left_pointer += 1\n",
        "      if target_sum == target:\n",
        "        # if target_sum is equal to ans target then append those tripplets\n",
        "        # to the list and at the same time slide the right pointer to left\n",
        "        # and also slide the left pointer to the right\n",
        "        ans_list.append([element, arr[left_pointer], arr[right_pointer]])\n",
        "        right_pointer -= 1\n",
        "        left_pointer += 1\n",
        "\n",
        "  return ans_list\n",
        "    "
      ],
      "execution_count": 61,
      "outputs": []
    },
    {
      "cell_type": "code",
      "metadata": {
        "colab": {
          "base_uri": "https://localhost:8080/"
        },
        "id": "AOl3iog4YtST",
        "outputId": "455201bf-5d4d-4a83-8d2d-27764d43c88b"
      },
      "source": [
        "three_number_sum_improved(arr, target)"
      ],
      "execution_count": 62,
      "outputs": [
        {
          "output_type": "execute_result",
          "data": {
            "text/plain": [
              "[[-8, 2, 6], [-8, 3, 5], [-6, 1, 5]]"
            ]
          },
          "metadata": {},
          "execution_count": 62
        }
      ]
    }
  ]
}