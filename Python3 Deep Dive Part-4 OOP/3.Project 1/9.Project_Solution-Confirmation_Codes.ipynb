{
 "cells": [
  {
   "cell_type": "markdown",
   "metadata": {
    "collapsed": true,
    "pycharm": {
     "name": "#%% md\n"
    }
   },
   "source": [
    "# Confirmation Codes "
   ]
  },
  {
   "cell_type": "code",
   "execution_count": 1,
   "outputs": [],
   "source": [
    "import itertools\n",
    "from datetime import timedelta\n",
    "import numbers\n",
    "\n",
    "class TimeZone:\n",
    "    def __init__(self, name, offset_hours, offset_minutes):\n",
    "        if name is None or len(str(name).strip()) == 0:\n",
    "            raise ValueError('Timezone name cannot be empty.')\n",
    "        \n",
    "        self._name = str(name).strip()\n",
    "        \n",
    "        if not isinstance(offset_hours, numbers.Integral):\n",
    "            raise ValueError('Hour offset must be an integer.')\n",
    "        \n",
    "        if not isinstance(offset_minutes, numbers.Integral):\n",
    "            raise ValueError('Minute offset must be an integer.')\n",
    "        \n",
    "        if offset_minutes > 59 or offset_minutes < -59:\n",
    "            raise ValueError('Minutes offset must be between -59 and 59 (inclusive).')\n",
    "        \n",
    "        offset = timedelta(hours=offset_hours, minutes=offset_minutes)\n",
    "        if offset < timedelta(hours=-12, minutes=0) or offset > timedelta(hours=14, minutes=0):\n",
    "            raise ValueError('Offset must be between -12:00 and +14:00.')\n",
    "        \n",
    "        self._offset_hours = offset_hours\n",
    "        self._offset_minutes = offset_minutes\n",
    "        self._offset = offset\n",
    "        \n",
    "    @property\n",
    "    def offset(self):\n",
    "        return self._offset\n",
    "    \n",
    "    @property\n",
    "    def name(self):\n",
    "        return self._name\n",
    "    \n",
    "    # @name.setter\n",
    "    # def name(self, value):\n",
    "    #     self._name = value\n",
    "    \n",
    "    def __eq__(self, other):\n",
    "        return (isinstance(other, TimeZone) and\n",
    "                self.name == other.name and\n",
    "                self._offset_hours == other._offset_hours and\n",
    "                self._offset_minutes == other._offset_minutes)\n",
    "    \n",
    "    def __repr__(self):\n",
    "        return (f\"TimeZone(name='{self.name}',\"\n",
    "                f\"offset_hours={self._offset_hours},\"\n",
    "                f\"offset_minutes={self._offset_minutes})\")\n",
    "\n",
    "\n"
   ],
   "metadata": {
    "collapsed": false,
    "pycharm": {
     "name": "#%%\n",
     "is_executing": false
    }
   }
  },
  {
   "cell_type": "code",
   "execution_count": 2,
   "outputs": [],
   "source": [
    "class Account:\n",
    "    transaction_id = itertools.count(100)\n",
    "    _interest_rate = 0.5 # percent\n",
    "    \n",
    "    _transaction_codes = {\n",
    "        'deposit': 'D',\n",
    "        'withdraw': 'W',\n",
    "        'interest': 'I',\n",
    "        'rejected': 'X'\n",
    "    }\n",
    "    \n",
    "    def __init__(self, account_number, first_name, last_name,\n",
    "                 initial_balance=0,timezone=None):\n",
    "        self._account_number = account_number\n",
    "        self.first_name = first_name\n",
    "        self.last_name = last_name\n",
    "        \n",
    "        if timezone is None:\n",
    "            timezone = TimeZone('UTC', 0, 0)\n",
    "        self.timezone = timezone\n",
    "        \n",
    "        # in reality we should we decimal instead of float\n",
    "        self._balance = float(initial_balance)\n",
    "        \n",
    "    @property\n",
    "    def account_number(self):\n",
    "        return self._account_number\n",
    "    \n",
    "    @property\n",
    "    def first_name(self):\n",
    "        return self._first_name\n",
    "    \n",
    "    @first_name.setter\n",
    "    def first_name(self, value):\n",
    "        # if len(str(value).strip()) == 0:\n",
    "        #     raise ValueError('First name cannot be empty.')\n",
    "        # self._first_name = value\n",
    "        self.validate_and_set_name('_first_name', value, 'First Name')\n",
    "    @property\n",
    "    def last_name(self):\n",
    "        return self._last_name\n",
    "    \n",
    "    @last_name.setter\n",
    "    def last_name(self, value):\n",
    "        # if len(str(value).strip()) == 0:\n",
    "        #     raise ValueError('Last name cannot be empty')\n",
    "        # self._last_name = value\n",
    "        self.validate_and_set_name('_last_name', value, 'Last Name')\n",
    "    \n",
    "    @property\n",
    "    def balance(self):\n",
    "        return self._balance\n",
    "    \n",
    "    @property\n",
    "    def timezone(self):\n",
    "        return self._timezone\n",
    "    \n",
    "    @timezone.setter\n",
    "    def timezone(self, value):\n",
    "        if not isinstance(value, TimeZone):\n",
    "            raise ValueError('Time Zone must be a valid TimeZone object.')\n",
    "        self._timezone = value\n",
    "    \n",
    "    @classmethod\n",
    "    def get_interest_rate(cls):\n",
    "        # we could have also done it as\n",
    "        # return Account._interest_rate\n",
    "        return cls._interest_rate\n",
    "    \n",
    "    @classmethod\n",
    "    def set_interest_rate(cls, value):\n",
    "        if not isinstance(value, numbers.Real):\n",
    "            raise ValueError('Interest rate must be a real number.')\n",
    "        \n",
    "        if value < 0:\n",
    "            raise ValueError('Interest rate cannot be negative.')\n",
    "        cls._interest_rate = value\n",
    "    \n",
    "    def validate_and_set_name(self, attr_name, value, field_title):\n",
    "        # if len(str(value).strip()) == 0:\n",
    "        if value is None or len(str(value).strip()) == 0: \n",
    "            raise ValueError(f'{field_title} cannot be empty')\n",
    "        setattr(self, attr_name, value)\n",
    "\n",
    "\n",
    "\n"
   ],
   "metadata": {
    "collapsed": false,
    "pycharm": {
     "name": "#%%\n",
     "is_executing": false
    }
   }
  },
  {
   "cell_type": "markdown",
   "source": [
    "- The code should contain:\n",
    "    - the transaction code\n",
    "    - the account number\n",
    "    - the data / time in UTC of the transaction\n",
    "    - the transaction number\n",
    "\n",
    "Something like: `D-140568-20190115154500-124`"
   ],
   "metadata": {
    "collapsed": false,
    "pycharm": {
     "name": "#%% md\n"
    }
   }
  },
  {
   "cell_type": "code",
   "execution_count": 3,
   "outputs": [],
   "source": [
    "from datetime import datetime\n",
    "\n"
   ],
   "metadata": {
    "collapsed": false,
    "pycharm": {
     "name": "#%%\n",
     "is_executing": false
    }
   }
  },
  {
   "cell_type": "code",
   "execution_count": 4,
   "outputs": [],
   "source": [
    "def generate_confirmation_code(account_number, transaction_id, transaction_code):\n",
    "    dt_str = datetime.utcnow().strftime('%Y%m%d%H%M%S')\n",
    "    return f'{transaction_code}-{account_number}-{dt_str}-{transaction_id}'"
   ],
   "metadata": {
    "collapsed": false,
    "pycharm": {
     "name": "#%%\n",
     "is_executing": false
    }
   }
  },
  {
   "cell_type": "code",
   "execution_count": 5,
   "outputs": [
    {
     "data": {
      "text/plain": "'X-123-20200103140532-1000'"
     },
     "metadata": {},
     "output_type": "execute_result",
     "execution_count": 5
    }
   ],
   "source": [
    "generate_confirmation_code(123, 1000, 'X')"
   ],
   "metadata": {
    "collapsed": false,
    "pycharm": {
     "name": "#%%\n",
     "is_executing": false
    }
   }
  },
  {
   "cell_type": "code",
   "execution_count": 12,
   "outputs": [],
   "source": [
    "class Account:\n",
    "    transaction_id = itertools.count(100)\n",
    "    _interest_rate = 0.5 # percent\n",
    "    \n",
    "    _transaction_codes = {\n",
    "        'deposit': 'D',\n",
    "        'withdraw': 'W',\n",
    "        'interest': 'I',\n",
    "        'rejected': 'X'\n",
    "    }\n",
    "    \n",
    "    def __init__(self, account_number, first_name, last_name,\n",
    "                 initial_balance=0,timezone=None):\n",
    "        self._account_number = account_number\n",
    "        self.first_name = first_name\n",
    "        self.last_name = last_name\n",
    "        \n",
    "        if timezone is None:\n",
    "            timezone = TimeZone('UTC', 0, 0)\n",
    "        self.timezone = timezone\n",
    "        \n",
    "        # in reality we should we decimal instead of float\n",
    "        self._balance = float(initial_balance)\n",
    "        \n",
    "    @property\n",
    "    def account_number(self):\n",
    "        return self._account_number\n",
    "    \n",
    "    @property\n",
    "    def first_name(self):\n",
    "        return self._first_name\n",
    "    \n",
    "    @first_name.setter\n",
    "    def first_name(self, value):\n",
    "        # if len(str(value).strip()) == 0:\n",
    "        #     raise ValueError('First name cannot be empty.')\n",
    "        # self._first_name = value\n",
    "        self.validate_and_set_name('_first_name', value, 'First Name')\n",
    "    @property\n",
    "    def last_name(self):\n",
    "        return self._last_name\n",
    "    \n",
    "    @last_name.setter\n",
    "    def last_name(self, value):\n",
    "        # if len(str(value).strip()) == 0:\n",
    "        #     raise ValueError('Last name cannot be empty')\n",
    "        # self._last_name = value\n",
    "        self.validate_and_set_name('_last_name', value, 'Last Name')\n",
    "    \n",
    "    @property\n",
    "    def balance(self):\n",
    "        return self._balance\n",
    "    \n",
    "    @property\n",
    "    def timezone(self):\n",
    "        return self._timezone\n",
    "    \n",
    "    @timezone.setter\n",
    "    def timezone(self, value):\n",
    "        if not isinstance(value, TimeZone):\n",
    "            raise ValueError('Time Zone must be a valid TimeZone object.')\n",
    "        self._timezone = value\n",
    "    \n",
    "    @classmethod\n",
    "    def get_interest_rate(cls):\n",
    "        # we could have also done it as\n",
    "        # return Account._interest_rate\n",
    "        return cls._interest_rate\n",
    "    \n",
    "    @classmethod\n",
    "    def set_interest_rate(cls, value):\n",
    "        if not isinstance(value, numbers.Real):\n",
    "            raise ValueError('Interest rate must be a real number.')\n",
    "        \n",
    "        if value < 0:\n",
    "            raise ValueError('Interest rate cannot be negative.')\n",
    "        cls._interest_rate = value\n",
    "    \n",
    "    def generate_confirmation_code(self,transaction_code):\n",
    "        dt_str = datetime.utcnow().strftime('%Y%m%d%H%M%S')\n",
    "        return f'{transaction_code}-{self.account_number}-{dt_str}-{next(Account.transaction_id)}'\n",
    "\n",
    "\n",
    "    def validate_and_set_name(self, attr_name, value, field_title):\n",
    "        # if len(str(value).strip()) == 0:\n",
    "        if value is None or len(str(value).strip()) == 0: \n",
    "            raise ValueError(f'{field_title} cannot be empty')\n",
    "        setattr(self, attr_name, value)\n",
    "    \n",
    "    def make_transaction(self):\n",
    "        return self.generate_confirmation_code('dummy')\n"
   ],
   "metadata": {
    "collapsed": false,
    "pycharm": {
     "name": "#%%\n",
     "is_executing": false
    }
   }
  },
  {
   "cell_type": "code",
   "execution_count": 13,
   "outputs": [],
   "source": [
    "a = Account('A100', 'Eric', 'Idle')"
   ],
   "metadata": {
    "collapsed": false,
    "pycharm": {
     "name": "#%%\n",
     "is_executing": false
    }
   }
  },
  {
   "cell_type": "code",
   "execution_count": 14,
   "outputs": [
    {
     "data": {
      "text/plain": "'dummy-A100-20200103141106-100'"
     },
     "metadata": {},
     "output_type": "execute_result",
     "execution_count": 14
    }
   ],
   "source": [
    "a.make_transaction()"
   ],
   "metadata": {
    "collapsed": false,
    "pycharm": {
     "name": "#%%\n",
     "is_executing": false
    }
   }
  },
  {
   "cell_type": "code",
   "execution_count": 15,
   "outputs": [
    {
     "data": {
      "text/plain": "'dummy-A100-20200103141140-101'"
     },
     "metadata": {},
     "output_type": "execute_result",
     "execution_count": 15
    }
   ],
   "source": [
    "a.make_transaction()"
   ],
   "metadata": {
    "collapsed": false,
    "pycharm": {
     "name": "#%%\n",
     "is_executing": false
    }
   }
  },
  {
   "cell_type": "code",
   "execution_count": 16,
   "outputs": [],
   "source": [
    "a2 = Account('A200', 'John', 'Cleese')"
   ],
   "metadata": {
    "collapsed": false,
    "pycharm": {
     "name": "#%%\n",
     "is_executing": false
    }
   }
  },
  {
   "cell_type": "code",
   "execution_count": 17,
   "outputs": [
    {
     "data": {
      "text/plain": "'dummy-A100-20200103141212-102'"
     },
     "metadata": {},
     "output_type": "execute_result",
     "execution_count": 17
    }
   ],
   "source": [
    "a.make_transaction()"
   ],
   "metadata": {
    "collapsed": false,
    "pycharm": {
     "name": "#%%\n",
     "is_executing": false
    }
   }
  },
  {
   "cell_type": "code",
   "execution_count": 19,
   "outputs": [],
   "source": [
    "from collections import namedtuple\n",
    "\n",
    "Confirmation = namedtuple('Confirmation', 'account_number transaction_code\\\n",
    "                            transaction_id time_utc time')"
   ],
   "metadata": {
    "collapsed": false,
    "pycharm": {
     "name": "#%%\n",
     "is_executing": false
    }
   }
  },
  {
   "cell_type": "code",
   "execution_count": 20,
   "outputs": [],
   "source": [
    "class Account:\n",
    "    transaction_id = itertools.count(100)\n",
    "    _interest_rate = 0.5 # percent\n",
    "    \n",
    "    _transaction_codes = {\n",
    "        'deposit': 'D',\n",
    "        'withdraw': 'W',\n",
    "        'interest': 'I',\n",
    "        'rejected': 'X'\n",
    "    }\n",
    "    \n",
    "    def __init__(self, account_number, first_name, last_name,\n",
    "                 initial_balance=0,timezone=None):\n",
    "        self._account_number = account_number\n",
    "        self.first_name = first_name\n",
    "        self.last_name = last_name\n",
    "        \n",
    "        if timezone is None:\n",
    "            timezone = TimeZone('UTC', 0, 0)\n",
    "        self.timezone = timezone\n",
    "        \n",
    "        # in reality we should we decimal instead of float\n",
    "        self._balance = float(initial_balance)\n",
    "        \n",
    "    @property\n",
    "    def account_number(self):\n",
    "        return self._account_number\n",
    "    \n",
    "    @property\n",
    "    def first_name(self):\n",
    "        return self._first_name\n",
    "    \n",
    "    @first_name.setter\n",
    "    def first_name(self, value):\n",
    "        # if len(str(value).strip()) == 0:\n",
    "        #     raise ValueError('First name cannot be empty.')\n",
    "        # self._first_name = value\n",
    "        self.validate_and_set_name('_first_name', value, 'First Name')\n",
    "    @property\n",
    "    def last_name(self):\n",
    "        return self._last_name\n",
    "    \n",
    "    @last_name.setter\n",
    "    def last_name(self, value):\n",
    "        # if len(str(value).strip()) == 0:\n",
    "        #     raise ValueError('Last name cannot be empty')\n",
    "        # self._last_name = value\n",
    "        self.validate_and_set_name('_last_name', value, 'Last Name')\n",
    "    \n",
    "    @property\n",
    "    def balance(self):\n",
    "        return self._balance\n",
    "    \n",
    "    @property\n",
    "    def timezone(self):\n",
    "        return self._timezone\n",
    "    \n",
    "    @timezone.setter\n",
    "    def timezone(self, value):\n",
    "        if not isinstance(value, TimeZone):\n",
    "            raise ValueError('Time Zone must be a valid TimeZone object.')\n",
    "        self._timezone = value\n",
    "    \n",
    "    @classmethod\n",
    "    def get_interest_rate(cls):\n",
    "        # we could have also done it as\n",
    "        # return Account._interest_rate\n",
    "        return cls._interest_rate\n",
    "    \n",
    "    @classmethod\n",
    "    def set_interest_rate(cls, value):\n",
    "        if not isinstance(value, numbers.Real):\n",
    "            raise ValueError('Interest rate must be a real number.')\n",
    "        \n",
    "        if value < 0:\n",
    "            raise ValueError('Interest rate cannot be negative.')\n",
    "        cls._interest_rate = value\n",
    "    \n",
    "    def generate_confirmation_code(self,transaction_code):\n",
    "        dt_str = datetime.utcnow().strftime('%Y%m%d%H%M%S')\n",
    "        return f'{transaction_code}-{self.account_number}-{dt_str}-{next(Account.transaction_id)}'\n",
    "\n",
    "\n",
    "    def validate_and_set_name(self, attr_name, value, field_title):\n",
    "        # if len(str(value).strip()) == 0:\n",
    "        if value is None or len(str(value).strip()) == 0: \n",
    "            raise ValueError(f'{field_title} cannot be empty')\n",
    "        setattr(self, attr_name, value)\n",
    "    \n",
    "    def make_transaction(self):\n",
    "        return self.generate_confirmation_code('dummy')\n",
    "    \n",
    "    @staticmethod\n",
    "    def parse_confirmation_code(confirmation_code, preferred_time_zone=None):\n",
    "        # dummy-A100-20200102141212-102\n",
    "        parts = confirmation_code.split('-')\n",
    "        if not (len(parts) == 4):\n",
    "            raise ValueError('Invalid confirmation code')\n",
    "        \n",
    "        # transaction_code = parts[0]\n",
    "        transaction_code, account_number, raw_dt_utc, transaction_id = parts\n",
    "        \n",
    "        try:\n",
    "            # datetime.strptime is a string parse time function\n",
    "            dt_utc = datetime.strptime(raw_dt_utc, '%Y%m%d%H%M%S')\n",
    "        except ValueError as ex:\n",
    "            # from ex means keeping the stack trace thats already there before\n",
    "            raise ValueError('Invalid transaction datetime.') from ex\n",
    "        \n",
    "        if preferred_time_zone is None:\n",
    "            preferred_time_zone = TimeZone('UTC', 0, 0)\n",
    "            \n",
    "        if not isinstance(preferred_time_zone, TimeZone):\n",
    "            raise ValueError('Invalid TimeZone specified.')\n",
    "        \n",
    "        dt_preferred = dt_utc + preferred_time_zone.offset\n",
    "        dt_preferred_str = f'{dt_preferred.strftime(\"%Y-%m-%d %H:%M:%S\")} ({preferred_time_zone.name})'\n",
    "        \n",
    "        return Confirmation(account_number, transaction_code,\n",
    "                            transaction_id, dt_utc.isoformat(), dt_preferred_str)\n"
   ],
   "metadata": {
    "collapsed": false,
    "pycharm": {
     "name": "#%%\n",
     "is_executing": false
    }
   }
  },
  {
   "cell_type": "code",
   "execution_count": 21,
   "outputs": [
    {
     "name": "stdout",
     "text": [
      "dummy-A100-20200103143444-100\n"
     ],
     "output_type": "stream"
    }
   ],
   "source": [
    "a = Account(\"A100\", \"Eric\", \"Idle\")\n",
    "conf_code = a.make_transaction()\n",
    "print(conf_code)"
   ],
   "metadata": {
    "collapsed": false,
    "pycharm": {
     "name": "#%%\n",
     "is_executing": false
    }
   }
  },
  {
   "cell_type": "code",
   "execution_count": 22,
   "outputs": [
    {
     "data": {
      "text/plain": "Confirmation(account_number='A100', transaction_code='dummy', transaction_id='100', time_utc='2020-01-03T14:34:44', time='2020-01-03 14:34:44 (UTC)')"
     },
     "metadata": {},
     "output_type": "execute_result",
     "execution_count": 22
    }
   ],
   "source": [
    "Account.parse_confirmation_code(conf_code)"
   ],
   "metadata": {
    "collapsed": false,
    "pycharm": {
     "name": "#%%\n",
     "is_executing": false
    }
   }
  },
  {
   "cell_type": "code",
   "execution_count": 23,
   "outputs": [
    {
     "data": {
      "text/plain": "Confirmation(account_number='A100', transaction_code='dummy', transaction_id='100', time_utc='2020-01-03T14:34:44', time='2020-01-03 13:34:44 (XYZ)')"
     },
     "metadata": {},
     "output_type": "execute_result",
     "execution_count": 23
    }
   ],
   "source": [
    "Account.parse_confirmation_code(conf_code, preferred_time_zone=TimeZone(\"XYZ\", -1, 0))"
   ],
   "metadata": {
    "collapsed": false,
    "pycharm": {
     "name": "#%%\n",
     "is_executing": false
    }
   }
  },
  {
   "cell_type": "code",
   "execution_count": 25,
   "outputs": [
    {
     "name": "stdout",
     "text": [
      "Invalid confirmation code\n"
     ],
     "output_type": "stream"
    }
   ],
   "source": [
    "try:\n",
    "    Account.parse_confirmation_code('dummy-A100-20200103141212-102-dafsdfj')\n",
    "except ValueError as ex:\n",
    "    print(ex)"
   ],
   "metadata": {
    "collapsed": false,
    "pycharm": {
     "name": "#%%\n",
     "is_executing": false
    }
   }
  },
  {
   "cell_type": "code",
   "execution_count": 27,
   "outputs": [
    {
     "name": "stdout",
     "text": [
      "Invalid transaction datetime.\n"
     ],
     "output_type": "stream"
    }
   ],
   "source": [
    "# Account.parse_confirmation_code('dummy-A100-20201303141212-102')\n",
    "try:\n",
    "    Account.parse_confirmation_code('dummy-A100-20201303141212-102')\n",
    "except ValueError as ex:\n",
    "    print(ex)\n"
   ],
   "metadata": {
    "collapsed": false,
    "pycharm": {
     "name": "#%%\n",
     "is_executing": false
    }
   }
  },
  {
   "cell_type": "code",
   "execution_count": 30,
   "outputs": [
    {
     "name": "stdout",
     "text": [
      "Invalid transaction datetime.\nunconverted data remains: 12\n"
     ],
     "output_type": "stream"
    }
   ],
   "source": [
    "try:\n",
    "    Account.parse_confirmation_code('dummy-A100-20201303141212-102')\n",
    "except ValueError as ex:\n",
    "    print(ex)\n",
    "    print(ex.__cause__) \n"
   ],
   "metadata": {
    "collapsed": false,
    "pycharm": {
     "name": "#%%\n",
     "is_executing": false
    }
   }
  }
 ],
 "metadata": {
  "kernelspec": {
   "display_name": "Python 3",
   "language": "python",
   "name": "python3"
  },
  "language_info": {
   "codemirror_mode": {
    "name": "ipython",
    "version": 2
   },
   "file_extension": ".py",
   "mimetype": "text/x-python",
   "name": "python",
   "nbconvert_exporter": "python",
   "pygments_lexer": "ipython2",
   "version": "2.7.6"
  },
  "pycharm": {
   "stem_cell": {
    "cell_type": "raw",
    "source": [],
    "metadata": {
     "collapsed": false
    }
   }
  }
 },
 "nbformat": 4,
 "nbformat_minor": 0
}