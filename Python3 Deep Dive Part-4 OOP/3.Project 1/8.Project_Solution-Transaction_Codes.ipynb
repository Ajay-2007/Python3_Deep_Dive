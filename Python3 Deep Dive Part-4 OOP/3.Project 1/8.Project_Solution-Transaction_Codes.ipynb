{
 "cells": [
  {
   "cell_type": "markdown",
   "metadata": {
    "collapsed": true,
    "pycharm": {
     "name": "#%% md\n"
    }
   },
   "source": [
    "# Transaction Codes"
   ]
  },
  {
   "cell_type": "code",
   "execution_count": null,
   "outputs": [],
   "source": [
    "import itertools\n",
    "from datetime import timedelta\n",
    "import numbers\n",
    "\n",
    "class TimeZone:\n",
    "    def __init__(self, name, offset_hours, offset_minutes):\n",
    "        if name is None or len(str(name).strip()) == 0:\n",
    "            raise ValueError('Timezone name cannot be empty.')\n",
    "        \n",
    "        self._name = str(name).strip()\n",
    "        \n",
    "        if not isinstance(offset_hours, numbers.Integral):\n",
    "            raise ValueError('Hour offset must be an integer.')\n",
    "        \n",
    "        if not isinstance(offset_minutes, numbers.Integral):\n",
    "            raise ValueError('Minute offset must be an integer.')\n",
    "        \n",
    "        if offset_minutes > 59 or offset_minutes < -59:\n",
    "            raise ValueError('Minutes offset must be between -59 and 59 (inclusive).')\n",
    "        \n",
    "        offset = timedelta(hours=offset_hours, minutes=offset_minutes)\n",
    "        if offset < timedelta(hours=-12, minutes=0) or offset > timedelta(hours=14, minutes=0):\n",
    "            raise ValueError('Offset must be between -12:00 and +14:00.')\n",
    "        \n",
    "        self._offset_hours = offset_hours\n",
    "        self._offset_minutes = offset_minutes\n",
    "        self._offset = offset\n",
    "        \n",
    "    @property\n",
    "    def offset(self):\n",
    "        return self._offset\n",
    "    \n",
    "    @property\n",
    "    def name(self):\n",
    "        return self._name\n",
    "    \n",
    "    # @name.setter\n",
    "    # def name(self, value):\n",
    "    #     self._name = value\n",
    "    \n",
    "    def __eq__(self, other):\n",
    "        return (isinstance(other, TimeZone) and\n",
    "                self.name == other.name and\n",
    "                self._offset_hours == other._offset_hours and\n",
    "                self._offset_minutes == other._offset_minutes)\n",
    "    \n",
    "    def __repr__(self):\n",
    "        return (f\"TimeZone(name='{self.name}',\"\n",
    "                f\"offset_hours={self._offset_hours},\"\n",
    "                f\"offset_minutes={self._offset_minutes})\")\n",
    "\n",
    "\n"
   ],
   "metadata": {
    "collapsed": false,
    "pycharm": {
     "name": "#%%\n"
    }
   }
  },
  {
   "cell_type": "code",
   "execution_count": null,
   "outputs": [],
   "source": [
    "class Account:\n",
    "    transaction_id = itertools.count(100)\n",
    "    _interest_rate = 0.5 # percent\n",
    "    \n",
    "    _transaction_codes = {\n",
    "        'deposit': 'D',\n",
    "        'withdraw': 'W',\n",
    "        'interest': 'I',\n",
    "        'rejected': 'X'\n",
    "    }\n",
    "    \n",
    "    def __init__(self, account_number, first_name, last_name,\n",
    "                 initial_balance=0,timezone=None):\n",
    "        self._account_number = account_number\n",
    "        self.first_name = first_name\n",
    "        self.last_name = last_name\n",
    "        \n",
    "        if timezone is None:\n",
    "            timezone = TimeZone('UTC', 0, 0)\n",
    "        self.timezone = timezone\n",
    "        \n",
    "        # in reality we should we decimal instead of float\n",
    "        self._balance = float(initial_balance)\n",
    "        \n",
    "    @property\n",
    "    def account_number(self):\n",
    "        return self._account_number\n",
    "    \n",
    "    @property\n",
    "    def first_name(self):\n",
    "        return self._first_name\n",
    "    \n",
    "    @first_name.setter\n",
    "    def first_name(self, value):\n",
    "        # if len(str(value).strip()) == 0:\n",
    "        #     raise ValueError('First name cannot be empty.')\n",
    "        # self._first_name = value\n",
    "        self.validate_and_set_name('_first_name', value, 'First Name')\n",
    "    @property\n",
    "    def last_name(self):\n",
    "        return self._last_name\n",
    "    \n",
    "    @last_name.setter\n",
    "    def last_name(self, value):\n",
    "        # if len(str(value).strip()) == 0:\n",
    "        #     raise ValueError('Last name cannot be empty')\n",
    "        # self._last_name = value\n",
    "        self.validate_and_set_name('_last_name', value, 'Last Name')\n",
    "    \n",
    "    @property\n",
    "    def balance(self):\n",
    "        return self._balance\n",
    "    \n",
    "    @property\n",
    "    def timezone(self):\n",
    "        return self._timezone\n",
    "    \n",
    "    @timezone.setter\n",
    "    def timezone(self, value):\n",
    "        if not isinstance(value, TimeZone):\n",
    "            raise ValueError('Time Zone must be a valid TimeZone object.')\n",
    "        self._timezone = value\n",
    "    \n",
    "    @classmethod\n",
    "    def get_interest_rate(cls):\n",
    "        # we could have also done it as\n",
    "        # return Account._interest_rate\n",
    "        return cls._interest_rate\n",
    "    \n",
    "    @classmethod\n",
    "    def set_interest_rate(cls, value):\n",
    "        if not isinstance(value, numbers.Real):\n",
    "            raise ValueError('Interest rate must be a real number.')\n",
    "        \n",
    "        if value < 0:\n",
    "            raise ValueError('Interest rate cannot be negative.')\n",
    "        cls._interest_rate = value\n",
    "    \n",
    "    def validate_and_set_name(self, attr_name, value, field_title):\n",
    "        # if len(str(value).strip()) == 0:\n",
    "        if value is None or len(str(value).strip()) == 0: \n",
    "            raise ValueError(f'{field_title} cannot be empty')\n",
    "        setattr(self, attr_name, value)\n",
    "\n"
   ],
   "metadata": {
    "collapsed": false,
    "pycharm": {
     "name": "#%%\n"
    }
   }
  }
 ],
 "metadata": {
  "kernelspec": {
   "display_name": "Python 3",
   "language": "python",
   "name": "python3"
  },
  "language_info": {
   "codemirror_mode": {
    "name": "ipython",
    "version": 2
   },
   "file_extension": ".py",
   "mimetype": "text/x-python",
   "name": "python",
   "nbconvert_exporter": "python",
   "pygments_lexer": "ipython2",
   "version": "2.7.6"
  },
  "pycharm": {
   "stem_cell": {
    "cell_type": "raw",
    "source": [],
    "metadata": {
     "collapsed": false
    }
   }
  }
 },
 "nbformat": 4,
 "nbformat_minor": 0
}