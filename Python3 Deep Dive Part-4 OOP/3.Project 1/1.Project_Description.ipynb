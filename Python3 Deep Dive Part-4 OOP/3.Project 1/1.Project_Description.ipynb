{
 "cells": [
  {
   "cell_type": "markdown",
   "metadata": {
    "collapsed": true,
    "pycharm": {
     "name": "#%% md\n"
    }
   },
   "source": [
    "# Project 1\n",
    "\n",
    "We need to design and implement a class that will be used to represent bank accounts.\n",
    "\n",
    "We want to following functionality and characteristics:\n",
    "- accounts are uniquely identified by an **account number** (assume it will just be passed\n",
    "in the initializer)\n",
    "- account holders have a `first` and `last` name\n",
    "- accounts have an associated `preferred time zone offset` (e.g. -7 for MST)\n",
    "- `balances` need to be zero or higher, and should not be directly settable.\n",
    "- but, `deposits` and `withdrawals` can be made (given sufficient funds)\n",
    "    - if a withdrawal is attempted that would result in negative funds, the transaction\n",
    "    should be declined.\n",
    "- a `monthly interest rate` exists and is applicable to all accounts `uniformly`. There\n",
    "should be a method that can be called to calculate the interest on the current balance\n",
    "using the current interest rate, and `add it` to the balance.\n",
    "- each deposit and withdrawal must generate a **confirmation number** composed of :\n",
    "    - the transaction type: `D` for deposit, and `W` for withdrawal, `I` for interest deposit,\n",
    "    and `X` for declined (in which case the balance remains unaffected)\n",
    "    - the account number\n",
    "    - the time the transaction was made, using UTC\n",
    "    - an incrementing number (that increments across all accounts and transactions)\n",
    "    - for (extreme) simplcity assume that the trasaction id starts at zero (or whatever number\n",
    "    you choose) whenever the program starts\n",
    "    - the confirmation number should be returned from any of the transaction methods (deposit,\n",
    "    withdraw, etc)\n",
    "- create a **method** that, given a confirmation number, returns:\n",
    "    - the account number, transaction code(D, W, etc), datetime (UTC format), date time\n",
    "    (in whatever timezone is specified in the argument, but more human readable), the transaction ID\n",
    "    - make it so it is a nicely structure object (so can use dotted notation to access these\n",
    "    three attributes)\n",
    "    - I purposefully made it so the desired timezone is passed as an argument. Can you figure\n",
    "    out why? (hint: does this method require any information from any instance?)\n",
    "---------------------------------------------------------------------------------------------\n",
    "For example, we may have an account with:\n",
    "- account number `140568`\n",
    "- preferred time zone offset of -7 (MST)\n",
    "- an existing balance of `100.00`\n",
    "\n",
    "Suppose the last transaction ID in the system was `123`, and a deposit is made for `50.00` on\n",
    "`2019-03-15T14:59:00` (UTC) on that account (or `2019-03-15T07:59:00` in account's preferred time zone offset)\n",
    "\n",
    "The new balance should refelect `150.00` and the confirmation number returned should look something\n",
    "like this: `D-140568-20190315145900-124`\n",
    "\n",
    "We also want a method that given the confirmation number returns an object with attributes:\n",
    "- `result.account_number` --> `140568`\n",
    "- `result.transaction_code` --> `D`\n",
    "- `result.transaction_id` --> `124`\n",
    "- `result.time` --> `2019-03-15 07:59:00 (MST)`\n",
    "- `result.time_utc` --> `2019-03-15T14:59:00`\n",
    "\n",
    "----------------------------------------------------------------------------------------------\n",
    "Furthermore, if current interest rate is `0.5%`, and the account's balance is `1000.00`, the \n",
    "the result of calling the `deposit_interest` (or whatever name you choose) method, should result\n",
    "in a new transaction and a new balance of `1050.00`. Calling this method should also return\n",
    "a confirmation number.\n",
    "\n",
    "For simplicity, just use floats, but be aware that for these type of situations you'll probably\n",
    "want to use `Decimal` objects instead of floats.\n",
    "\n",
    "---------------------------------------------------------------------------------------------\n",
    "There are going to be many ways to design somethings like this, especially since I have not\n",
    "nailed down all the specific requirements, so you'll have to fill the gaps yourself and decide\n",
    "what other things you may want to implement (like is the account number going to be a mutable\n",
    "property or 'read-only' and so on).\n",
    "\n",
    "See how many different ideas you can use from what we covered in the last section.\n",
    "\n",
    "----------------------------------------------------------------------------------------------\n",
    "My approach will end up creating two classes: a `TimeZone` class used to store the time zone\n",
    "name and offset definition (in hours and minutes). and a main class called `Account` that will\n",
    "have the following 'public' interface:\n",
    "- Initializer with account number, first name, last name, optional preferred time zone, starting \n",
    "balance (defaults to 0)\n",
    "- a first name property (read/write)\n",
    "- a last name property (read/write)\n",
    "- a full name property (computed, read-only)\n",
    "- a balance property (read-only)\n",
    "- an interest rate property (class level property)\n",
    "- deposit, withdraw, pay_interest methods\n",
    "- parse confirmation code\n",
    "\n",
    "Class will have additional state and methods, but those will be used for implementation.\n",
    "\n",
    "-----------------------------------------------------------------------------------------------\n",
    "You should also remeber to test your code. Use Python's `unittest` package for testing the code.\n",
    "    \n",
    "\n",
    "\n"
   ]
  }
 ],
 "metadata": {
  "kernelspec": {
   "display_name": "Python 3",
   "language": "python",
   "name": "python3"
  },
  "language_info": {
   "codemirror_mode": {
    "name": "ipython",
    "version": 2
   },
   "file_extension": ".py",
   "mimetype": "text/x-python",
   "name": "python",
   "nbconvert_exporter": "python",
   "pygments_lexer": "ipython2",
   "version": "2.7.6"
  },
  "pycharm": {
   "stem_cell": {
    "cell_type": "raw",
    "source": [],
    "metadata": {
     "collapsed": false
    }
   }
  }
 },
 "nbformat": 4,
 "nbformat_minor": 0
}