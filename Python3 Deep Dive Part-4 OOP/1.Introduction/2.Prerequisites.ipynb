{
 "cells": [
  {
   "cell_type": "markdown",
   "metadata": {
    "collapsed": true,
    "pycharm": {
     "name": "#%% md\n"
    }
   },
   "source": [
    "# Prerequisites\n",
    "\n",
    "- scopes and namespaces\n",
    "- Boolean truth values `id`, `==` vs `is`\n",
    "- functions and function arguments `lambdas`\n",
    "- packing and unpacking iterables `my_func(*my_list)`, `f, *_, l = (1, 2, 3, 4, 5)`\n",
    "- closures, nested scopes, free variables\n",
    "- decorators\n",
    "- `zip`, `sorted`, `any`, `all` -> `iterables` module\n",
    "- sequences, iterables, iterators -> `yeild` `__iter__` `__next__` `__getitem__`\n",
    "- comprehensions\n",
    "    - list, dictionary, set, generator exp\n",
    "    - relation to functions and closures\n",
    "- generators\n",
    "- context managers\n",
    "- mapping types\n",
    "    - dictionaries, sets, `collections` module\n",
    "- object equality and hashing\n",
    "- importing modules and symbols\n",
    "\n",
    "`should have some basic exposure to creating and using classes in Python`\n",
    "\n",
    "```python\n",
    "\n",
    "class Person:\n",
    "    def __init__(self, name, age):\n",
    "        self.name = name\n",
    "        self._age = age\n",
    "        \n",
    "    @property\n",
    "    def age(self):\n",
    "        return self._age(\n",
    "    def __eq__(self, other):\n",
    "        return isinstance(other, Person) and self.name == other.name  \n",
    "     \n",
    "    def __hash__(self):\n",
    "        return hash(self.name)\n",
    "    \n",
    "    def __lt__(self, other):\n",
    "        pass\n",
    "```\n",
    " "
   ]
  }
 ],
 "metadata": {
  "kernelspec": {
   "display_name": "Python 3",
   "language": "python",
   "name": "python3"
  },
  "language_info": {
   "codemirror_mode": {
    "name": "ipython",
    "version": 2
   },
   "file_extension": ".py",
   "mimetype": "text/x-python",
   "name": "python",
   "nbconvert_exporter": "python",
   "pygments_lexer": "ipython2",
   "version": "2.7.6"
  },
  "pycharm": {
   "stem_cell": {
    "cell_type": "raw",
    "source": [],
    "metadata": {
     "collapsed": false
    }
   }
  }
 },
 "nbformat": 4,
 "nbformat_minor": 0
}