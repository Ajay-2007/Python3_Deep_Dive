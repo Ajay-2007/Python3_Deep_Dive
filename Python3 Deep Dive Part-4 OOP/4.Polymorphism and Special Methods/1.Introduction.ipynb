{
 "cells": [
  {
   "cell_type": "markdown",
   "metadata": {
    "collapsed": true,
    "pycharm": {
     "name": "#%% md\n"
    }
   },
   "source": [
    "# Polymorphism\n",
    "- the ability to define a generic type of behavior that will (potentially) behave differently\n",
    "when applied to different types\n",
    "\n",
    "- Python is very `polymorphic` in nature\n",
    "    - `duck typing`\n",
    "        - if it walks like a duck and quacks like a duck then it is a duck\n",
    "        \n",
    "    - e.g. when we iterate over a collection\n",
    "        - object just needs to supports the `iterable` protocol\n",
    "    - does it matter if the collection is a list, a tuple, a dictionary, a generator?\n",
    "        - No only thing we care about is that it supports the `iterable` protocol, so we\n",
    "        can call `iter()` \n",
    "        - to get an iterator, that itself can anything as long as it implements the\n",
    "         `iterator` protocol \n",
    "- Similary, operators such as `+`, `-`, `*`, `/` are polymorphic\n",
    "    - integer, floats, decimals, complex numbers\n",
    "    - lists, tuples\n",
    "    - custom objects\n",
    "- We can add support to our own classes for the `+` operator by implementing `__add__`\n",
    "method \n",
    "----------------------------------------------------------------------------------------\n",
    "- `Special Methods`\n",
    "    - We can add support in our classes for many of Python's functionality using special methods\n",
    "    - These are methods that start with a `double underscore` and end with a `double underscore`\n",
    "        - `dunder` methods\n",
    "    - `Never use this naming standard for you own methods or attributes` \n",
    "    - Although you may not clash with Python's current special methods, it may in the future\n",
    "        - No need to use `__my_func__`\n",
    "        \n",
    "- We've already seen many such special methods\n",
    "    - `__init__`\n",
    "        - used during class instantiation\n",
    "    - `__enter__`, `__exit__`\n",
    "        - context managers `with ctx() as obj:`\n",
    "    - `__getitem__`, `__setitem__`, `__delitem__`\n",
    "        - sequence types `a[i], a[i:j], del a[i]`\n",
    "    - `__iter__`, `__next__`\n",
    "        - iterables and iterators  `iter()` and `next()`\n",
    "    - `__len__` \n",
    "        - implements `len()`\n",
    "    -  `__contains__`\n",
    "        - implements `in`"
   ]
  },
  {
   "cell_type": "markdown",
   "source": [
    "## `__str__` and `__repr__` methods            \n",
    "\n",
    "- `__str__` vs  `_-repr__`\n",
    "    - both used for creating a string representation of an object\n",
    "    - typically `__repr__` is used by developers\n",
    "        - try to make it so that the string could be used to recreated the object\n",
    "        - otherwise make it as descriptive as possible\n",
    "        - useful for debugging\n",
    "        - called when using the `repr()` function\n",
    "    - `__str__` is used by `str()` and `print()` functions, as well as various formatting\n",
    "    functions\n",
    "        - typically used for display purposes to end user, logging, etc\n",
    "        - if `__str__` is not implemented, Python will look for `__repr__` instead\n",
    "    - if neither is implemented and since all objects inherit from `Object`, will use `__repr__`\n",
    "    defined there instead"
   ],
   "metadata": {
    "collapsed": false,
    "pycharm": {
     "name": "#%% md\n"
    }
   }
  },
  {
   "cell_type": "code",
   "execution_count": 1,
   "outputs": [],
   "source": [
    "class Person:\n",
    "    def __init__(self, name, age):\n",
    "        self.name = name\n",
    "        self.age = age\n",
    "        \n",
    "    def __repr__(self):\n",
    "        print('__repr__ called')\n",
    "        return f\"Person(name='{self.name}', age={self.age})\"\n"
   ],
   "metadata": {
    "collapsed": false,
    "pycharm": {
     "name": "#%%\n",
     "is_executing": false
    }
   }
  },
  {
   "cell_type": "code",
   "execution_count": 2,
   "outputs": [],
   "source": [
    "p = Person('Python', 30)"
   ],
   "metadata": {
    "collapsed": false,
    "pycharm": {
     "name": "#%%\n",
     "is_executing": false
    }
   }
  },
  {
   "cell_type": "code",
   "execution_count": 3,
   "outputs": [
    {
     "name": "stdout",
     "text": [
      "__repr__ called\n"
     ],
     "output_type": "stream"
    },
    {
     "data": {
      "text/plain": "Person(name='Python', age=30)"
     },
     "metadata": {},
     "output_type": "execute_result",
     "execution_count": 3
    }
   ],
   "source": [
    "p"
   ],
   "metadata": {
    "collapsed": false,
    "pycharm": {
     "name": "#%%\n",
     "is_executing": false
    }
   }
  },
  {
   "cell_type": "code",
   "execution_count": 4,
   "outputs": [
    {
     "name": "stdout",
     "text": [
      "__repr__ called\nPerson(name='Python', age=30)\n"
     ],
     "output_type": "stream"
    }
   ],
   "source": [
    "print(p)"
   ],
   "metadata": {
    "collapsed": false,
    "pycharm": {
     "name": "#%%\n",
     "is_executing": false
    }
   }
  },
  {
   "cell_type": "code",
   "execution_count": 5,
   "outputs": [
    {
     "name": "stdout",
     "text": [
      "__repr__ called\n"
     ],
     "output_type": "stream"
    },
    {
     "data": {
      "text/plain": "\"Person(name='Python', age=30)\""
     },
     "metadata": {},
     "output_type": "execute_result",
     "execution_count": 5
    }
   ],
   "source": [
    "str(p)"
   ],
   "metadata": {
    "collapsed": false,
    "pycharm": {
     "name": "#%%\n",
     "is_executing": false
    }
   }
  },
  {
   "cell_type": "code",
   "execution_count": 6,
   "outputs": [],
   "source": [
    "\n",
    "class Person:\n",
    "    def __init__(self, name, age):\n",
    "        self.name = name\n",
    "        self.age = age\n",
    "        \n",
    "    def __repr__(self):\n",
    "        print('__repr__ called')\n",
    "        return f\"Person(name='{self.name}', age={self.age})\"\n",
    "    \n",
    "    def __str__(self):\n",
    "        print('__str__ called')\n",
    "        return self.name"
   ],
   "metadata": {
    "collapsed": false,
    "pycharm": {
     "name": "#%%\n",
     "is_executing": false
    }
   }
  },
  {
   "cell_type": "code",
   "execution_count": 7,
   "outputs": [],
   "source": [
    "p = Person('Python', 30)"
   ],
   "metadata": {
    "collapsed": false,
    "pycharm": {
     "name": "#%%\n",
     "is_executing": false
    }
   }
  },
  {
   "cell_type": "code",
   "execution_count": 8,
   "outputs": [
    {
     "name": "stdout",
     "text": [
      "__repr__ called\n"
     ],
     "output_type": "stream"
    },
    {
     "data": {
      "text/plain": "Person(name='Python', age=30)"
     },
     "metadata": {},
     "output_type": "execute_result",
     "execution_count": 8
    }
   ],
   "source": [
    "p"
   ],
   "metadata": {
    "collapsed": false,
    "pycharm": {
     "name": "#%%\n",
     "is_executing": false
    }
   }
  },
  {
   "cell_type": "code",
   "execution_count": 9,
   "outputs": [
    {
     "name": "stdout",
     "text": [
      "__str__ called\nPython\n"
     ],
     "output_type": "stream"
    }
   ],
   "source": [
    "print(p)"
   ],
   "metadata": {
    "collapsed": false,
    "pycharm": {
     "name": "#%%\n",
     "is_executing": false
    }
   }
  },
  {
   "cell_type": "code",
   "execution_count": 10,
   "outputs": [
    {
     "name": "stdout",
     "text": [
      "__str__ called\n"
     ],
     "output_type": "stream"
    },
    {
     "data": {
      "text/plain": "'Python'"
     },
     "metadata": {},
     "output_type": "execute_result",
     "execution_count": 10
    }
   ],
   "source": [
    "str(p)"
   ],
   "metadata": {
    "collapsed": false,
    "pycharm": {
     "name": "#%%\n",
     "is_executing": false
    }
   }
  },
  {
   "cell_type": "code",
   "execution_count": 11,
   "outputs": [
    {
     "name": "stdout",
     "text": [
      "__repr__ called\n"
     ],
     "output_type": "stream"
    },
    {
     "data": {
      "text/plain": "\"Person(name='Python', age=30)\""
     },
     "metadata": {},
     "output_type": "execute_result",
     "execution_count": 11
    }
   ],
   "source": [
    "repr(p)"
   ],
   "metadata": {
    "collapsed": false,
    "pycharm": {
     "name": "#%%\n",
     "is_executing": false
    }
   }
  },
  {
   "cell_type": "code",
   "execution_count": 12,
   "outputs": [],
   "source": [
    "class Person:\n",
    "    pass\n",
    "\n",
    "class Point:\n",
    "    pass"
   ],
   "metadata": {
    "collapsed": false,
    "pycharm": {
     "name": "#%%\n",
     "is_executing": false
    }
   }
  },
  {
   "cell_type": "code",
   "execution_count": 13,
   "outputs": [],
   "source": [
    "person = Person()\n",
    "point = Point()"
   ],
   "metadata": {
    "collapsed": false,
    "pycharm": {
     "name": "#%%\n",
     "is_executing": false
    }
   }
  },
  {
   "cell_type": "code",
   "execution_count": 14,
   "outputs": [
    {
     "data": {
      "text/plain": "('<__main__.Person object at 0x05BD9150>',\n '<__main__.Point object at 0x05BD9690>')"
     },
     "metadata": {},
     "output_type": "execute_result",
     "execution_count": 14
    }
   ],
   "source": [
    "repr(person), repr(point)"
   ],
   "metadata": {
    "collapsed": false,
    "pycharm": {
     "name": "#%%\n",
     "is_executing": false
    }
   }
  },
  {
   "cell_type": "code",
   "execution_count": 15,
   "outputs": [
    {
     "data": {
      "text/plain": "('<__main__.Person object at 0x05BD9150>',\n '<__main__.Point object at 0x05BD9690>')"
     },
     "metadata": {},
     "output_type": "execute_result",
     "execution_count": 15
    }
   ],
   "source": [
    "str(person), str(point)"
   ],
   "metadata": {
    "collapsed": false,
    "pycharm": {
     "name": "#%%\n",
     "is_executing": false
    }
   }
  },
  {
   "cell_type": "code",
   "execution_count": 16,
   "outputs": [],
   "source": [
    "class Person:\n",
    "    def __init__(self, name, age):\n",
    "        self.name = name\n",
    "        self.age = age\n",
    " \n",
    "    def __str__(self):\n",
    "        print('__str__ called')\n",
    "        return self.name\n",
    "\n"
   ],
   "metadata": {
    "collapsed": false,
    "pycharm": {
     "name": "#%%\n",
     "is_executing": false
    }
   }
  },
  {
   "cell_type": "code",
   "execution_count": 17,
   "outputs": [],
   "source": [
    "p = Person('Python', 30)"
   ],
   "metadata": {
    "collapsed": false,
    "pycharm": {
     "name": "#%%\n",
     "is_executing": false
    }
   }
  },
  {
   "cell_type": "code",
   "execution_count": 18,
   "outputs": [
    {
     "data": {
      "text/plain": "<__main__.Person at 0x5b57150>"
     },
     "metadata": {},
     "output_type": "execute_result",
     "execution_count": 18
    }
   ],
   "source": [
    "p"
   ],
   "metadata": {
    "collapsed": false,
    "pycharm": {
     "name": "#%%\n",
     "is_executing": false
    }
   }
  },
  {
   "cell_type": "code",
   "execution_count": 19,
   "outputs": [
    {
     "data": {
      "text/plain": "'<__main__.Person object at 0x05B57150>'"
     },
     "metadata": {},
     "output_type": "execute_result",
     "execution_count": 19
    }
   ],
   "source": [
    "repr(p)"
   ],
   "metadata": {
    "collapsed": false,
    "pycharm": {
     "name": "#%%\n",
     "is_executing": false
    }
   }
  },
  {
   "cell_type": "code",
   "execution_count": 20,
   "outputs": [
    {
     "name": "stdout",
     "text": [
      "__str__ called\nPython\n"
     ],
     "output_type": "stream"
    }
   ],
   "source": [
    "print(p)"
   ],
   "metadata": {
    "collapsed": false,
    "pycharm": {
     "name": "#%%\n",
     "is_executing": false
    }
   }
  },
  {
   "cell_type": "code",
   "execution_count": 21,
   "outputs": [
    {
     "name": "stdout",
     "text": [
      "__str__ called\n"
     ],
     "output_type": "stream"
    },
    {
     "data": {
      "text/plain": "'Python'"
     },
     "metadata": {},
     "output_type": "execute_result",
     "execution_count": 21
    }
   ],
   "source": [
    "str(p)"
   ],
   "metadata": {
    "collapsed": false,
    "pycharm": {
     "name": "#%%\n",
     "is_executing": false
    }
   }
  },
  {
   "cell_type": "code",
   "execution_count": 22,
   "outputs": [],
   "source": [
    "class Person:\n",
    "    def __init__(self, name, age):\n",
    "        self.name = name\n",
    "        self.age = age\n",
    "        \n",
    "    def __repr__(self):\n",
    "        print('__repr__ called')\n",
    "        return f\"Person(name='{self.name}', age={self.age})\"\n",
    "    \n",
    "    def __str__(self):\n",
    "        print('__str__ called')\n",
    "        return self.name\n",
    "\n",
    "\n"
   ],
   "metadata": {
    "collapsed": false,
    "pycharm": {
     "name": "#%%\n",
     "is_executing": false
    }
   }
  },
  {
   "cell_type": "code",
   "execution_count": 23,
   "outputs": [],
   "source": [
    "p = Person('Python', 30)"
   ],
   "metadata": {
    "collapsed": false,
    "pycharm": {
     "name": "#%%\n",
     "is_executing": false
    }
   }
  },
  {
   "cell_type": "code",
   "execution_count": 24,
   "outputs": [
    {
     "name": "stdout",
     "text": [
      "__str__ called\n"
     ],
     "output_type": "stream"
    },
    {
     "data": {
      "text/plain": "'The person is Python'"
     },
     "metadata": {},
     "output_type": "execute_result",
     "execution_count": 24
    }
   ],
   "source": [
    "f'The person is {p}'"
   ],
   "metadata": {
    "collapsed": false,
    "pycharm": {
     "name": "#%%\n",
     "is_executing": false
    }
   }
  },
  {
   "cell_type": "code",
   "execution_count": 25,
   "outputs": [],
   "source": [
    "class Person:\n",
    "    def __init__(self, name, age):\n",
    "        self.name = name\n",
    "        self.age = age\n",
    "        \n",
    "    def __repr__(self):\n",
    "        print('__repr__ called')\n",
    "        return f\"Person(name='{self.name}', age={self.age})\"\n",
    " \n",
    "\n"
   ],
   "metadata": {
    "collapsed": false,
    "pycharm": {
     "name": "#%%\n",
     "is_executing": false
    }
   }
  },
  {
   "cell_type": "code",
   "execution_count": 26,
   "outputs": [],
   "source": [
    "p = Person('Python', 30)"
   ],
   "metadata": {
    "collapsed": false,
    "pycharm": {
     "name": "#%%\n",
     "is_executing": false
    }
   }
  },
  {
   "cell_type": "code",
   "execution_count": 27,
   "outputs": [
    {
     "name": "stdout",
     "text": [
      "__repr__ called\n"
     ],
     "output_type": "stream"
    },
    {
     "data": {
      "text/plain": "\"The person is Person(name='Python', age=30)\""
     },
     "metadata": {},
     "output_type": "execute_result",
     "execution_count": 27
    }
   ],
   "source": [
    "f'The person is {p}'"
   ],
   "metadata": {
    "collapsed": false,
    "pycharm": {
     "name": "#%%\n",
     "is_executing": false
    }
   }
  },
  {
   "cell_type": "code",
   "execution_count": 28,
   "outputs": [
    {
     "name": "stdout",
     "text": [
      "__repr__ called\n"
     ],
     "output_type": "stream"
    },
    {
     "data": {
      "text/plain": "\"The person is Person(name='Python', age=30)\""
     },
     "metadata": {},
     "output_type": "execute_result",
     "execution_count": 28
    }
   ],
   "source": [
    "'The person is {}'.format(p)"
   ],
   "metadata": {
    "collapsed": false,
    "pycharm": {
     "name": "#%%\n",
     "is_executing": false
    }
   }
  },
  {
   "cell_type": "code",
   "execution_count": 29,
   "outputs": [],
   "source": [
    "class Person:\n",
    "    def __init__(self, name, age):\n",
    "        self.name = name\n",
    "        self.age = age\n",
    "        \n",
    "    def __repr__(self):\n",
    "        print('__repr__ called')\n",
    "        return f\"Person(name='{self.name}', age={self.age})\"\n",
    "    \n",
    "    def __str__(self):\n",
    "        print('__str__ called')\n",
    "        return self.name\n",
    "\n",
    "\n"
   ],
   "metadata": {
    "collapsed": false,
    "pycharm": {
     "name": "#%%\n",
     "is_executing": false
    }
   }
  },
  {
   "cell_type": "code",
   "execution_count": 30,
   "outputs": [],
   "source": [
    "p = Person('Python', 30)"
   ],
   "metadata": {
    "collapsed": false,
    "pycharm": {
     "name": "#%%\n",
     "is_executing": false
    }
   }
  },
  {
   "cell_type": "code",
   "execution_count": 31,
   "outputs": [
    {
     "name": "stdout",
     "text": [
      "__str__ called\n"
     ],
     "output_type": "stream"
    },
    {
     "data": {
      "text/plain": "'The person is Python'"
     },
     "metadata": {},
     "output_type": "execute_result",
     "execution_count": 31
    }
   ],
   "source": [
    "'The person is {}'.format(p)"
   ],
   "metadata": {
    "collapsed": false,
    "pycharm": {
     "name": "#%%\n",
     "is_executing": false
    }
   }
  },
  {
   "cell_type": "code",
   "execution_count": 33,
   "outputs": [
    {
     "name": "stdout",
     "text": [
      "__str__ called\n"
     ],
     "output_type": "stream"
    },
    {
     "data": {
      "text/plain": "'The person is Python'"
     },
     "metadata": {},
     "output_type": "execute_result",
     "execution_count": 33
    }
   ],
   "source": [
    "'The person is %s' %p\n"
   ],
   "metadata": {
    "collapsed": false,
    "pycharm": {
     "name": "#%%\n",
     "is_executing": false
    }
   }
  }
 ],
 "metadata": {
  "kernelspec": {
   "display_name": "Python 3",
   "language": "python",
   "name": "python3"
  },
  "language_info": {
   "codemirror_mode": {
    "name": "ipython",
    "version": 2
   },
   "file_extension": ".py",
   "mimetype": "text/x-python",
   "name": "python",
   "nbconvert_exporter": "python",
   "pygments_lexer": "ipython2",
   "version": "2.7.6"
  },
  "pycharm": {
   "stem_cell": {
    "cell_type": "raw",
    "source": [],
    "metadata": {
     "collapsed": false
    }
   }
  }
 },
 "nbformat": 4,
 "nbformat_minor": 0
}