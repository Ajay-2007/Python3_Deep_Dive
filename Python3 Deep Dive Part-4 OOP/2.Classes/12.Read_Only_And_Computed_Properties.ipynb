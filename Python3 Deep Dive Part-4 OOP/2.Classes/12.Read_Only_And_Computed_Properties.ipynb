{
 "cells": [
  {
   "cell_type": "markdown",
   "metadata": {
    "collapsed": true,
    "pycharm": {
     "name": "#%% md\n"
    }
   },
   "source": [
    "# Read-Only Properties\n",
    "\n",
    "- To create a read-only property, we just need to create a property with only the get\n",
    "accessor defined\n",
    "    - not truly read-only since underlying storage variable could be accessed directly\n",
    "- useful for computed properties\n",
    "\n",
    "```python\n",
    "import math\n",
    "class Circle:\n",
    "    def __init__(self, r):\n",
    "        self.r = r\n",
    "    def area(self):\n",
    "        return math.pi * self.r * self.r\n",
    "\n",
    "c = Circle(1) \n",
    "c.area()    # returns 3.14...\n",
    "\n",
    "# we can use decorator instead to make read-only and use the area as a property of a circle\n",
    "# not as a function\n",
    "# feels more natural since area is really a property of a circle\n",
    "\n",
    "class Circle:\n",
    "    def __init__(self, r):\n",
    "        self.r = r\n",
    "    @property\n",
    "    def area(self):\n",
    "        return math.pi * self.r * self.r\n",
    "\n",
    "c = Circle(1)\n",
    "# not here area is not a property\n",
    "c.area  # returns 3.14..\n",
    "\n",
    "```\n",
    "- `Application: Caching Computed Properties`\n",
    "    - Using propoerty setters is sometimes useful for controlling how other computed properties are cached\n",
    "    - `Circle`\n",
    "        - `area` is computed properly\n",
    "            - `lazy` computation - only calculate `area` if requested\n",
    "            - cache value - so if re-requested we save the computation\n",
    "                - but what if someone changes the `radius` ?\n",
    "                - need to `invalidate` the cache\n",
    "        - control setting the `radius` using a `property`\n",
    "            - we are now `aware` when the property has been changed\n",
    "            \n",
    "```python\n",
    "import math\n",
    "\n",
    "class Circle:\n",
    "    def __init__(self, r):\n",
    "        self._r = r\n",
    "        self._area = None   # seting _area cache to None\n",
    "\n",
    "    @property\n",
    "    def radius(self):\n",
    "        return self._r\n",
    "\n",
    "    @radius.setter\n",
    "    def radius(self, r):\n",
    "        if r < 0:\n",
    "            raise ValueError('Radius must be non-negative')\n",
    "        self._r = r\n",
    "        self._area = None   # invalidate cache\n",
    "    \n",
    "    # read-only property\n",
    "    @property\n",
    "    def area(self):\n",
    "        if self._area is None:\n",
    "            self._area = math.pi * (self.radius ** 2)\n",
    "        return self._area\n",
    "\n",
    "```                            "
   ]
  },
  {
   "cell_type": "code",
   "execution_count": 5,
   "outputs": [],
   "source": [
    "from math import pi\n",
    "\n",
    "class Circle:\n",
    "    def __init__(self, radius):\n",
    "        self.radius = radius\n",
    "        \n",
    "    @property\n",
    "    def area(self):\n",
    "        print('calculatin area...')\n",
    "        return pi * (self.radius ** 2)\n",
    "\n"
   ],
   "metadata": {
    "collapsed": false,
    "pycharm": {
     "name": "#%%\n",
     "is_executing": false
    }
   }
  },
  {
   "cell_type": "code",
   "execution_count": 6,
   "outputs": [],
   "source": [
    "c = Circle(1)"
   ],
   "metadata": {
    "collapsed": false,
    "pycharm": {
     "name": "#%%\n",
     "is_executing": false
    }
   }
  },
  {
   "cell_type": "code",
   "execution_count": 7,
   "outputs": [
    {
     "data": {
      "text/plain": "1"
     },
     "metadata": {},
     "output_type": "execute_result",
     "execution_count": 7
    }
   ],
   "source": [
    "c.radius"
   ],
   "metadata": {
    "collapsed": false,
    "pycharm": {
     "name": "#%%\n",
     "is_executing": false
    }
   }
  },
  {
   "cell_type": "code",
   "execution_count": 8,
   "outputs": [
    {
     "name": "stdout",
     "text": [
      "calculatin area...\n"
     ],
     "output_type": "stream"
    },
    {
     "data": {
      "text/plain": "3.141592653589793"
     },
     "metadata": {},
     "output_type": "execute_result",
     "execution_count": 8
    }
   ],
   "source": [
    "c.area"
   ],
   "metadata": {
    "collapsed": false,
    "pycharm": {
     "name": "#%%\n",
     "is_executing": false
    }
   }
  },
  {
   "cell_type": "code",
   "execution_count": 9,
   "outputs": [
    {
     "name": "stdout",
     "text": [
      "calculatin area...\n"
     ],
     "output_type": "stream"
    },
    {
     "data": {
      "text/plain": "3.141592653589793"
     },
     "metadata": {},
     "output_type": "execute_result",
     "execution_count": 9
    }
   ],
   "source": [
    "# so every time I reinvoke the area its going to recalculate it, thats not very good\n",
    "# thats why we use cache\n",
    "# so we only wanna recalculate it if the radius is changed, but if the radius is not \n",
    "# changed then theres no point calculating the area again and again\n",
    "\n",
    "# So how we are going to know if the are is changed\n",
    "# we are going to use a property to keep track when the raidus is being set\n",
    "# and then we are going to cache the area itself\n",
    "# if the radius hasnt change we will just pull the value out of the cache\n",
    "# if the radius has change we will recalculate the area put it in the cache and then use that\n",
    "c.area"
   ],
   "metadata": {
    "collapsed": false,
    "pycharm": {
     "name": "#%%\n",
     "is_executing": false
    }
   }
  },
  {
   "cell_type": "code",
   "execution_count": 10,
   "outputs": [],
   "source": [
    "class Circle:\n",
    "    def __init__(self, radius):\n",
    "        self._radius = radius # pesudo private variable\n",
    "        self._area = None\n",
    "        \n",
    "    @property\n",
    "    def radius(self):\n",
    "        return self._radius\n",
    "    \n",
    "    @radius.setter\n",
    "    def radius(self, value):\n",
    "        self._area = None\n",
    "        self._radius = value\n",
    "    \n",
    "    @property\n",
    "    def area(self):\n",
    "        if self._area is None: # means i havent calculated the area\n",
    "            print('Calculating the area')\n",
    "            self._area = pi * (self.radius ** 2)\n",
    "        return self._area\n",
    "\n"
   ],
   "metadata": {
    "collapsed": false,
    "pycharm": {
     "name": "#%%\n",
     "is_executing": false
    }
   }
  },
  {
   "cell_type": "code",
   "execution_count": 11,
   "outputs": [],
   "source": [
    "c = Circle(1)"
   ],
   "metadata": {
    "collapsed": false,
    "pycharm": {
     "name": "#%%\n",
     "is_executing": false
    }
   }
  },
  {
   "cell_type": "code",
   "execution_count": 12,
   "outputs": [
    {
     "name": "stdout",
     "text": [
      "Calculating the area\n"
     ],
     "output_type": "stream"
    },
    {
     "data": {
      "text/plain": "3.141592653589793"
     },
     "metadata": {},
     "output_type": "execute_result",
     "execution_count": 12
    }
   ],
   "source": [
    "c.area"
   ],
   "metadata": {
    "collapsed": false,
    "pycharm": {
     "name": "#%%\n",
     "is_executing": false
    }
   }
  },
  {
   "cell_type": "code",
   "execution_count": 14,
   "outputs": [
    {
     "data": {
      "text/plain": "3.141592653589793"
     },
     "metadata": {},
     "output_type": "execute_result",
     "execution_count": 14
    }
   ],
   "source": [
    "# observe it didnt calculate the area again it just returned the cached area(value)\n",
    "c.area\n"
   ],
   "metadata": {
    "collapsed": false,
    "pycharm": {
     "name": "#%%\n",
     "is_executing": false
    }
   }
  },
  {
   "cell_type": "code",
   "execution_count": 15,
   "outputs": [],
   "source": [
    "c.radius = 2"
   ],
   "metadata": {
    "collapsed": false,
    "pycharm": {
     "name": "#%%\n",
     "is_executing": false
    }
   }
  },
  {
   "cell_type": "code",
   "execution_count": 17,
   "outputs": [
    {
     "data": {
      "text/plain": "{'_radius': 2, '_area': None}"
     },
     "metadata": {},
     "output_type": "execute_result",
     "execution_count": 17
    }
   ],
   "source": [
    "# area is set to None by setter\n",
    "c.__dict__"
   ],
   "metadata": {
    "collapsed": false,
    "pycharm": {
     "name": "#%%\n",
     "is_executing": false
    }
   }
  },
  {
   "cell_type": "code",
   "execution_count": 18,
   "outputs": [
    {
     "name": "stdout",
     "text": [
      "Calculating the area\n"
     ],
     "output_type": "stream"
    },
    {
     "data": {
      "text/plain": "12.566370614359172"
     },
     "metadata": {},
     "output_type": "execute_result",
     "execution_count": 18
    }
   ],
   "source": [
    "c.area"
   ],
   "metadata": {
    "collapsed": false,
    "pycharm": {
     "name": "#%%\n",
     "is_executing": false
    }
   }
  },
  {
   "cell_type": "code",
   "execution_count": 19,
   "outputs": [
    {
     "data": {
      "text/plain": "12.566370614359172"
     },
     "metadata": {},
     "output_type": "execute_result",
     "execution_count": 19
    }
   ],
   "source": [
    "c.area"
   ],
   "metadata": {
    "collapsed": false,
    "pycharm": {
     "name": "#%%\n",
     "is_executing": false
    }
   }
  },
  {
   "cell_type": "code",
   "execution_count": 20,
   "outputs": [],
   "source": [
    "import urllib\n",
    "from time import perf_counter"
   ],
   "metadata": {
    "collapsed": false,
    "pycharm": {
     "name": "#%%\n",
     "is_executing": false
    }
   }
  },
  {
   "cell_type": "code",
   "execution_count": 24,
   "outputs": [],
   "source": [
    "class WebPage:\n",
    "    def __init__(self, url):\n",
    "        self.url = url\n",
    "        self._page = None\n",
    "        self._load_time_secs = None\n",
    "        self._page_size = None\n",
    "    \n",
    "    @property\n",
    "    def url(self):\n",
    "        return self._url\n",
    "    \n",
    "    @url.setter\n",
    "    def url(self, value):\n",
    "        self._url = value\n",
    "        self._page = None\n",
    "        \n",
    "    @property\n",
    "    def page(self):\n",
    "        if self._page is None:\n",
    "            self.download_page()\n",
    "        return self._page\n",
    "    \n",
    "    @property\n",
    "    def page_size(self):\n",
    "        if self._page is None:\n",
    "            self.download_page()\n",
    "        return self._page_size\n",
    "    \n",
    "    @property\n",
    "    def time_elapsed(self):\n",
    "        if self._page is None:\n",
    "            self.download_page()\n",
    "        return self._load_time_secs\n",
    "    \n",
    "    def download_page(self):\n",
    "        self._page_size = None\n",
    "        self._load_time_secs = None\n",
    "        start_time = perf_counter()\n",
    "        with urllib.request.urlopen(self.url) as f:\n",
    "            self._page = f.read()\n",
    "        end_time = perf_counter()\n",
    "        self._page_size = len(self._page)\n",
    "        self._load_time_secs = end_time - start_time"
   ],
   "metadata": {
    "collapsed": false,
    "pycharm": {
     "name": "#%%\n",
     "is_executing": false
    }
   }
  },
  {
   "cell_type": "code",
   "execution_count": 25,
   "outputs": [],
   "source": [
    "urls = [\n",
    "    'https://www.google.com',\n",
    "    'https://www.python.org',\n",
    "    'https://www.yahoo.com'\n",
    "]"
   ],
   "metadata": {
    "collapsed": false,
    "pycharm": {
     "name": "#%%\n",
     "is_executing": false
    }
   }
  },
  {
   "cell_type": "code",
   "execution_count": 26,
   "outputs": [
    {
     "name": "stdout",
     "text": [
      "https://www.google.com\tsize=15_111\telapsed=1.05 secs\n",
      "https://www.python.org\tsize=48_981\telapsed=0.40 secs\n",
      "https://www.yahoo.com\tsize=452_125\telapsed=1.96 secs\n"
     ],
     "output_type": "stream"
    }
   ],
   "source": [
    "for url in urls:\n",
    "    page = WebPage(url)\n",
    "    print(f'{url}\\tsize={format(page.page_size,\"_\" )}\\telapsed={page.time_elapsed:.2f} secs')\n",
    "\n",
    "# so this is a example of using properties, and calculator properties and doign lazy loading\n",
    "# and caching and stuff like that.\n",
    "\n",
    "# hopefully you get an understanding of when you might or might not want to use a bare attribute\n",
    "# so very often when we write classes in Python we are gonna use bare attributes until such\n",
    "# a time when we need them to be properties then we can transform them into properties at that\n",
    "# time without braking backward compatibility"
   ],
   "metadata": {
    "collapsed": false,
    "pycharm": {
     "name": "#%%\n",
     "is_executing": false
    }
   }
  },
  {
   "cell_type": "code",
   "execution_count": null,
   "outputs": [],
   "source": [
    "\n"
   ],
   "metadata": {
    "collapsed": false,
    "pycharm": {
     "name": "#%%\n"
    }
   }
  }
 ],
 "metadata": {
  "kernelspec": {
   "display_name": "Python 3",
   "language": "python",
   "name": "python3"
  },
  "language_info": {
   "codemirror_mode": {
    "name": "ipython",
    "version": 2
   },
   "file_extension": ".py",
   "mimetype": "text/x-python",
   "name": "python",
   "nbconvert_exporter": "python",
   "pygments_lexer": "ipython2",
   "version": "2.7.6"
  },
  "pycharm": {
   "stem_cell": {
    "cell_type": "raw",
    "source": [],
    "metadata": {
     "collapsed": false
    }
   }
  }
 },
 "nbformat": 4,
 "nbformat_minor": 0
}