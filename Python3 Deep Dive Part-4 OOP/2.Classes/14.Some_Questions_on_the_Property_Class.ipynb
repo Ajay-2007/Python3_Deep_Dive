{
 "cells": [
  {
   "cell_type": "markdown",
   "metadata": {
    "collapsed": true,
    "pycharm": {
     "name": "#%% md\n"
    }
   },
   "source": [
    "- The `property` Class\n",
    "    - Can we define properties without using the `property` class ? Yes\n",
    "    - The `property` class is a convenience class, but we don't have to use it\n",
    "    - But it is really convenient and works just fine most of the time\n",
    "    - Where might it fall short ?\n",
    "        - Reusability\n",
    "            - If we want to have the same property (with some functionality) in many different\n",
    "            classes, having to redefine the accessor methods in each of the classes can become tedious\n",
    "            \n",
    "        - More control\n",
    "            - may want more control over a property's **behaviors**\n",
    "        - We'll come back to this when we study `data descriptors`       \n",
    "\n",
    "- Another Question\n",
    "    - We saw how to use the `property` class (and corresponding decorators) to define `instance` properties\n",
    "        - Can we create `class` properties (that are bound to the class)\n",
    "            - like a class attribute, but using accessor methods\n",
    "            \n",
    "            - Yes\n",
    "                - metaclasses \n",
    "\n"
   ]
  }
 ],
 "metadata": {
  "kernelspec": {
   "display_name": "Python 3",
   "language": "python",
   "name": "python3"
  },
  "language_info": {
   "codemirror_mode": {
    "name": "ipython",
    "version": 2
   },
   "file_extension": ".py",
   "mimetype": "text/x-python",
   "name": "python",
   "nbconvert_exporter": "python",
   "pygments_lexer": "ipython2",
   "version": "2.7.6"
  },
  "pycharm": {
   "stem_cell": {
    "cell_type": "raw",
    "source": [],
    "metadata": {
     "collapsed": false
    }
   }
  }
 },
 "nbformat": 4,
 "nbformat_minor": 0
}