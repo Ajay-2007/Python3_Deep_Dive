{
 "cells": [
  {
   "cell_type": "markdown",
   "metadata": {
    "collapsed": true,
    "pycharm": {
     "name": "#%% md\n"
    }
   },
   "source": [
    "# Classes\n",
    "\n",
    "- What are `objects` in general\n",
    "- What are `classes`\n",
    "- `instantiating` and `initializing` objects from a class\n",
    "- class and instance `attributes`\n",
    "    - data\n",
    "    - functions\n",
    "- function `bindings` and methods\n",
    "    - `instance` methods\n",
    "    - `class` methods\n",
    "    - `static` methods\n",
    "- `properties`        \n",
    "\n",
    "\n"
   ]
  }
 ],
 "metadata": {
  "kernelspec": {
   "display_name": "Python 3",
   "language": "python",
   "name": "python3"
  },
  "language_info": {
   "codemirror_mode": {
    "name": "ipython",
    "version": 2
   },
   "file_extension": ".py",
   "mimetype": "text/x-python",
   "name": "python",
   "nbconvert_exporter": "python",
   "pygments_lexer": "ipython2",
   "version": "2.7.6"
  },
  "pycharm": {
   "stem_cell": {
    "cell_type": "raw",
    "source": [],
    "metadata": {
     "collapsed": false
    }
   }
  }
 },
 "nbformat": 4,
 "nbformat_minor": 0
}