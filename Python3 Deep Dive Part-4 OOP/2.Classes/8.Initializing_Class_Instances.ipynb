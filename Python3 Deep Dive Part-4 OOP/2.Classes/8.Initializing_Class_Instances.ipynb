{
 "cells": [
  {
   "cell_type": "markdown",
   "metadata": {
    "collapsed": true,
    "pycharm": {
     "name": "#%% md\n"
    }
   },
   "source": [
    "# Initializing Class Instances\n",
    "\n",
    "- When we instantiate a class, by default Python does two seperate things:\n",
    "    - creates a `new instance` of the class\n",
    "    - `initializes` the namespace of the class\n",
    "    \n",
    "    ```python\n",
    "        class MyClass: \n",
    "            language = 'Python' \n",
    "        \n",
    "        obj = MyClass()\n",
    "        obj.__dict__ # {}  \n",
    "    ```\n",
    "    - We can provide a custom initializer method that Python will use instead of its own:\n",
    "    \n",
    "    ```python\n",
    "      class MyClass:\n",
    "          language = 'Python'\n",
    "          \n",
    "          def __init__(obj, version):\n",
    "              obj.version = version # notice that __init__ is defined to work as a bound instance method\n",
    "  \n",
    "    ``` \n",
    "    - `language`is a class attribute -> in `class namespace`\n",
    "    - `__init__` is a class attribute -> in `class namespace` (as a `function`)\n",
    "    - When we call `MyClass('3.7')\n",
    "        - Python creates a new instance of the object with an empty namespace\n",
    "        - if we have defined on `__init__` function in the class\n",
    "            - it calls obj.__init__('3.7') -> bound method -> `MyClass.__init__(obj, '3.7')`\n",
    "            - our function runs and adds `version` to `obj's` namespace\n",
    "            - `version` is an instance attribute\n",
    "                - `obj.__dict__` -> {'version' : '3.7'}\n",
    "            - a standard `convention` is to use an argument named `self`.\n",
    "     - Important\n",
    "        - By the time `__init__` is called\n",
    "            - Python has `already` created the object and a namespace for it \n",
    "            (like a `__dict__` in most cases)\n",
    "            - then `__init__` is called as a `method` bound to the newly created instance\n",
    "        - We can actually also specify a custom function to `create` the object `__new__`\n",
    "        - But `__init__` is not creating the object, it is only running some code `after` the\n",
    "        instance has been created.                  "
   ]
  },
  {
   "cell_type": "code",
   "execution_count": 1,
   "outputs": [],
   "source": [
    "class Person:\n",
    "    # init is an instance method\n",
    "    def __init__(self):\n",
    "        print(f'Initializing a new Person object: {self}')"
   ],
   "metadata": {
    "collapsed": false,
    "pycharm": {
     "name": "#%%\n",
     "is_executing": false
    }
   }
  },
  {
   "cell_type": "code",
   "execution_count": 2,
   "outputs": [
    {
     "name": "stdout",
     "text": [
      "Initializing a new Person object: <__main__.Person object at 0x0652E0F0>\n"
     ],
     "output_type": "stream"
    }
   ],
   "source": [
    "p = Person()\n",
    "\n"
   ],
   "metadata": {
    "collapsed": false,
    "pycharm": {
     "name": "#%%\n",
     "is_executing": false
    }
   }
  },
  {
   "cell_type": "code",
   "execution_count": 3,
   "outputs": [
    {
     "data": {
      "text/plain": "'0x652e0f0'"
     },
     "metadata": {},
     "output_type": "execute_result",
     "execution_count": 3
    }
   ],
   "source": [
    "hex(id(p))"
   ],
   "metadata": {
    "collapsed": false,
    "pycharm": {
     "name": "#%%\n",
     "is_executing": false
    }
   }
  },
  {
   "cell_type": "code",
   "execution_count": 4,
   "outputs": [],
   "source": [
    "class Person:\n",
    "    def __init__(self, name):\n",
    "        self.name = name\n",
    "\n"
   ],
   "metadata": {
    "collapsed": false,
    "pycharm": {
     "name": "#%%\n",
     "is_executing": false
    }
   }
  },
  {
   "cell_type": "code",
   "execution_count": 5,
   "outputs": [],
   "source": [
    "p = Person('Eric')"
   ],
   "metadata": {
    "collapsed": false,
    "pycharm": {
     "name": "#%%\n",
     "is_executing": false
    }
   }
  },
  {
   "cell_type": "code",
   "execution_count": 6,
   "outputs": [
    {
     "data": {
      "text/plain": "{'name': 'Eric'}"
     },
     "metadata": {},
     "output_type": "execute_result",
     "execution_count": 6
    }
   ],
   "source": [
    "p.__dict__"
   ],
   "metadata": {
    "collapsed": false,
    "pycharm": {
     "name": "#%%\n",
     "is_executing": false
    }
   }
  },
  {
   "cell_type": "code",
   "execution_count": 7,
   "outputs": [],
   "source": [
    "class Person:\n",
    "    def init(self, name):\n",
    "        self.name = name"
   ],
   "metadata": {
    "collapsed": false,
    "pycharm": {
     "name": "#%%\n",
     "is_executing": false
    }
   }
  },
  {
   "cell_type": "code",
   "execution_count": 8,
   "outputs": [],
   "source": [
    "p = Person()"
   ],
   "metadata": {
    "collapsed": false,
    "pycharm": {
     "name": "#%%\n",
     "is_executing": false
    }
   }
  },
  {
   "cell_type": "code",
   "execution_count": 9,
   "outputs": [
    {
     "data": {
      "text/plain": "{}"
     },
     "metadata": {},
     "output_type": "execute_result",
     "execution_count": 9
    }
   ],
   "source": [
    "p.__dict__"
   ],
   "metadata": {
    "collapsed": false,
    "pycharm": {
     "name": "#%%\n",
     "is_executing": false
    }
   }
  },
  {
   "cell_type": "code",
   "execution_count": 10,
   "outputs": [],
   "source": [
    "p.init('Eric')"
   ],
   "metadata": {
    "collapsed": false,
    "pycharm": {
     "name": "#%%\n",
     "is_executing": false
    }
   }
  },
  {
   "cell_type": "code",
   "execution_count": 11,
   "outputs": [
    {
     "data": {
      "text/plain": "{'name': 'Eric'}"
     },
     "metadata": {},
     "output_type": "execute_result",
     "execution_count": 11
    }
   ],
   "source": [
    "p.__dict__"
   ],
   "metadata": {
    "collapsed": false,
    "pycharm": {
     "name": "#%%\n",
     "is_executing": false
    }
   }
  },
  {
   "cell_type": "code",
   "execution_count": null,
   "outputs": [],
   "source": [
    "\n"
   ],
   "metadata": {
    "collapsed": false,
    "pycharm": {
     "name": "#%%\n"
    }
   }
  }
 ],
 "metadata": {
  "kernelspec": {
   "display_name": "Python 3",
   "language": "python",
   "name": "python3"
  },
  "language_info": {
   "codemirror_mode": {
    "name": "ipython",
    "version": 2
   },
   "file_extension": ".py",
   "mimetype": "text/x-python",
   "name": "python",
   "nbconvert_exporter": "python",
   "pygments_lexer": "ipython2",
   "version": "2.7.6"
  },
  "pycharm": {
   "stem_cell": {
    "cell_type": "raw",
    "source": [],
    "metadata": {
     "collapsed": false
    }
   }
  }
 },
 "nbformat": 4,
 "nbformat_minor": 0
}