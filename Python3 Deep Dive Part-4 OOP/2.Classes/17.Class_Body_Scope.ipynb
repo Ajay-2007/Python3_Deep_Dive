{
 "cells": [
  {
   "cell_type": "markdown",
   "metadata": {
    "collapsed": true,
    "pycharm": {
     "name": "#%% md\n"
    }
   },
   "source": [
    "# Nested scopes in Class defintions\n",
    "\n",
    "```python\n",
    "# module1.py\n",
    "class Python:\n",
    "    \n",
    "    kingdom = 'animalia'\n",
    "    phylum = 'chordata'\n",
    "    family = 'pythonidae'\n",
    "\n",
    "    def __init__(self, species):\n",
    "        self.species = species\n",
    "    \n",
    "    def say_hello(self):\n",
    "        return 'ssss...'\n",
    "\n",
    "p = Python('monty')\n",
    "```\n",
    "\n",
    "- `module` has its own (global) scope \n",
    "    - contains `Python`, `p`\n",
    "- `class body` has its own scope\n",
    "    - contains `kingdom`, `phylum`, `family`, `__init__`, `say_hello`\n",
    "- What about the scope of `function` defined in the body of a class ?\n",
    "    - turns out they are `NOT` nested inside the class body scope\n",
    "    - `symbols` `__init__`, `say_hello` are in the `class body scope`\n",
    "    - but `functions` themselves are nested in the `class's containing scope` (`module1` in this example)\n",
    "- Think of it this way\n",
    "\n",
    "```python\n",
    "# module1.py\n",
    "class Python:\n",
    "    \n",
    "    kingdom = 'animalia'\n",
    "    phylum = 'chordata'\n",
    "    family = 'pythonidae'\n",
    "\n",
    "    __init__ = callable_1\n",
    "    say_hello1 = callable_2\n",
    "\n",
    "p = Python('monty')\n",
    "```\n",
    "- when Python looks for a symbol in a function, it will therefore <u>not</u> use the class body scope   \n",
    "\n",
    "- In practical terms...\n",
    "\n",
    "```python\n",
    "class Account:\n",
    "    COMP_FREQ = 12\n",
    "    APR = 0.02  # 2%\n",
    "    # this works because APR and COMP_FREQ are symbols in the same (class body) namespace\n",
    "    APY = (1 + APR/COMP_FREQ) ** COMP_FREQ - 1\n",
    "\n",
    "    def __init__(self, balance):\n",
    "        self.balance = balance\n",
    "\n",
    "    def monthly_interest(self):\n",
    "        # this works because we used self.APY\n",
    "        return self.balance * self.APY\n",
    "\n",
    "    @classmethod\n",
    "    def monthly_interest_2(cls, amount):\n",
    "        # this works because we used cls.APY\n",
    "        return amount * cls.APY\n",
    "\n",
    "    @staticmethod\n",
    "    def monthly_interest_3(amount):\n",
    "        # this works because we used Account.APY\n",
    "        return amount * Account.APY\n",
    "\n",
    "    def monthly_interest_3(self):\n",
    "        # this will fail if APY is not defined in this function's scope or in any enclosing scope\n",
    "        # BEWARE: This can produce subtle bugs\n",
    "        return self.amount * APY\n",
    "\n",
    "\n",
    "\n",
    "```"
   ]
  },
  {
   "cell_type": "code",
   "execution_count": 1,
   "outputs": [],
   "source": [
    "class Language:\n",
    "    MAJOR = 3\n",
    "    MINOR = 7\n",
    "    REVISION = 4\n",
    "    FULL = '{}.{}.{}'.format(MAJOR, MINOR, REVISION)\n"
   ],
   "metadata": {
    "collapsed": false,
    "pycharm": {
     "name": "#%%\n",
     "is_executing": false
    }
   }
  },
  {
   "cell_type": "code",
   "execution_count": 2,
   "outputs": [
    {
     "data": {
      "text/plain": "'3.7.4'"
     },
     "metadata": {},
     "output_type": "execute_result",
     "execution_count": 2
    }
   ],
   "source": [
    "Language.FULL"
   ],
   "metadata": {
    "collapsed": false,
    "pycharm": {
     "name": "#%%\n",
     "is_executing": false
    }
   }
  },
  {
   "cell_type": "code",
   "execution_count": 14,
   "outputs": [],
   "source": [
    "class Language:\n",
    "    MAJOR = 3\n",
    "    MINOR = 7\n",
    "    REVISION = 4\n",
    "    \n",
    "    @property\n",
    "    def version(self):\n",
    "        return '{}.{}.{}'.format(self.MAJOR, self.MINOR, self.REVISION)\n",
    "\n",
    "    @classmethod\n",
    "    def cls_version(cls):\n",
    "        '{}.{}.{}'.format(cls.MAJOR, cls.MINOR, cls.REVISION)\n",
    "        \n",
    "    @staticmethod\n",
    "    def static_version():\n",
    "        '{}.{}.{}'.format(Language.MAJOR, Language.MINOR, Language.REVISION)\n",
    "        "
   ],
   "metadata": {
    "collapsed": false,
    "pycharm": {
     "name": "#%%\n",
     "is_executing": false
    }
   }
  },
  {
   "cell_type": "code",
   "execution_count": 15,
   "outputs": [
    {
     "data": {
      "text/plain": "'3.7.4'"
     },
     "metadata": {},
     "output_type": "execute_result",
     "execution_count": 15
    }
   ],
   "source": [
    "l = Language()\n",
    "l.version"
   ],
   "metadata": {
    "collapsed": false,
    "pycharm": {
     "name": "#%%\n",
     "is_executing": false
    }
   }
  },
  {
   "cell_type": "code",
   "execution_count": 16,
   "outputs": [],
   "source": [
    "Language.cls_version()"
   ],
   "metadata": {
    "collapsed": false,
    "pycharm": {
     "name": "#%%\n",
     "is_executing": false
    }
   }
  },
  {
   "cell_type": "code",
   "execution_count": 17,
   "outputs": [],
   "source": [
    "Language.static_version()"
   ],
   "metadata": {
    "collapsed": false,
    "pycharm": {
     "name": "#%%\n",
     "is_executing": false
    }
   }
  },
  {
   "cell_type": "code",
   "execution_count": 18,
   "outputs": [],
   "source": [
    "class Language:\n",
    "    MAJOR = 3\n",
    "    MINOR = 7\n",
    "    REVISION = 4\n",
    "    \n",
    "def full_version():\n",
    "    return '{}.{}.{}'.format(Language.MAJOR, Language.MINOR, Language.REVISION)\n",
    "\n"
   ],
   "metadata": {
    "collapsed": false,
    "pycharm": {
     "name": "#%%\n",
     "is_executing": false
    }
   }
  },
  {
   "cell_type": "code",
   "execution_count": 19,
   "outputs": [
    {
     "data": {
      "text/plain": "'3.7.4'"
     },
     "metadata": {},
     "output_type": "execute_result",
     "execution_count": 19
    }
   ],
   "source": [
    "full_version()"
   ],
   "metadata": {
    "collapsed": false,
    "pycharm": {
     "name": "#%%\n",
     "is_executing": false
    }
   }
  },
  {
   "cell_type": "code",
   "execution_count": 20,
   "outputs": [],
   "source": [
    "class Language:\n",
    "    MAJOR = 3\n",
    "    MINOR = 7\n",
    "    REVISION = 4\n",
    "    \n",
    "    version = full_version\n",
    "\n"
   ],
   "metadata": {
    "collapsed": false,
    "pycharm": {
     "name": "#%%\n",
     "is_executing": false
    }
   }
  },
  {
   "cell_type": "code",
   "execution_count": 22,
   "outputs": [
    {
     "data": {
      "text/plain": "True"
     },
     "metadata": {},
     "output_type": "execute_result",
     "execution_count": 22
    }
   ],
   "source": [
    "Language.version is full_version "
   ],
   "metadata": {
    "collapsed": false,
    "pycharm": {
     "name": "#%%\n",
     "is_executing": false
    }
   }
  },
  {
   "cell_type": "code",
   "execution_count": 23,
   "outputs": [
    {
     "data": {
      "text/plain": "'3.7.4'"
     },
     "metadata": {},
     "output_type": "execute_result",
     "execution_count": 23
    }
   ],
   "source": [
    "Language.version()"
   ],
   "metadata": {
    "collapsed": false,
    "pycharm": {
     "name": "#%%\n",
     "is_executing": false
    }
   }
  },
  {
   "cell_type": "code",
   "execution_count": 24,
   "outputs": [],
   "source": [
    "def full_version():\n",
    "    return '{}.{}.{}'.format(MAJOR, MINOR, REVISION)\n",
    "\n",
    "class Language:\n",
    "    MAJOR = 3\n",
    "    MINOR = 7\n",
    "    REVISION = 4\n",
    "    \n",
    "    version = full_version\n",
    "\n",
    "\n"
   ],
   "metadata": {
    "collapsed": false,
    "pycharm": {
     "name": "#%%\n",
     "is_executing": false
    }
   }
  },
  {
   "cell_type": "code",
   "execution_count": 25,
   "outputs": [
    {
     "traceback": [
      "\u001b[1;31m---------------------------------------------------------------------------\u001b[0m",
      "\u001b[1;31mNameError\u001b[0m                                 Traceback (most recent call last)",
      "\u001b[1;32m<ipython-input-25-a932178e2dbc>\u001b[0m in \u001b[0;36m<module>\u001b[1;34m\u001b[0m\n\u001b[1;32m----> 1\u001b[1;33m \u001b[0mfull_version\u001b[0m\u001b[1;33m(\u001b[0m\u001b[1;33m)\u001b[0m\u001b[1;33m\u001b[0m\u001b[1;33m\u001b[0m\u001b[0m\n\u001b[0m\u001b[0;32m      2\u001b[0m \u001b[1;33m\u001b[0m\u001b[0m\n",
      "\u001b[1;32m<ipython-input-24-5d069f3e8467>\u001b[0m in \u001b[0;36mfull_version\u001b[1;34m()\u001b[0m\n\u001b[0;32m      1\u001b[0m \u001b[1;32mdef\u001b[0m \u001b[0mfull_version\u001b[0m\u001b[1;33m(\u001b[0m\u001b[1;33m)\u001b[0m\u001b[1;33m:\u001b[0m\u001b[1;33m\u001b[0m\u001b[1;33m\u001b[0m\u001b[0m\n\u001b[1;32m----> 2\u001b[1;33m     \u001b[1;32mreturn\u001b[0m \u001b[1;34m'{}.{}.{}'\u001b[0m\u001b[1;33m.\u001b[0m\u001b[0mformat\u001b[0m\u001b[1;33m(\u001b[0m\u001b[0mMAJOR\u001b[0m\u001b[1;33m,\u001b[0m \u001b[0mMINOR\u001b[0m\u001b[1;33m,\u001b[0m \u001b[0mREVISION\u001b[0m\u001b[1;33m)\u001b[0m\u001b[1;33m\u001b[0m\u001b[1;33m\u001b[0m\u001b[0m\n\u001b[0m\u001b[0;32m      3\u001b[0m \u001b[1;33m\u001b[0m\u001b[0m\n\u001b[0;32m      4\u001b[0m \u001b[1;32mclass\u001b[0m \u001b[0mLanguage\u001b[0m\u001b[1;33m:\u001b[0m\u001b[1;33m\u001b[0m\u001b[1;33m\u001b[0m\u001b[0m\n\u001b[0;32m      5\u001b[0m     \u001b[0mMAJOR\u001b[0m \u001b[1;33m=\u001b[0m \u001b[1;36m3\u001b[0m\u001b[1;33m\u001b[0m\u001b[1;33m\u001b[0m\u001b[0m\n",
      "\u001b[1;31mNameError\u001b[0m: name 'MAJOR' is not defined"
     ],
     "ename": "NameError",
     "evalue": "name 'MAJOR' is not defined",
     "output_type": "error"
    }
   ],
   "source": [
    "full_version()"
   ],
   "metadata": {
    "collapsed": false,
    "pycharm": {
     "name": "#%%\n",
     "is_executing": false
    }
   }
  },
  {
   "cell_type": "code",
   "execution_count": 26,
   "outputs": [
    {
     "data": {
      "text/plain": "True"
     },
     "metadata": {},
     "output_type": "execute_result",
     "execution_count": 26
    }
   ],
   "source": [
    "Language.version is full_version "
   ],
   "metadata": {
    "collapsed": false,
    "pycharm": {
     "name": "#%%\n",
     "is_executing": false
    }
   }
  },
  {
   "cell_type": "code",
   "execution_count": 27,
   "outputs": [
    {
     "traceback": [
      "\u001b[1;31m---------------------------------------------------------------------------\u001b[0m",
      "\u001b[1;31mNameError\u001b[0m                                 Traceback (most recent call last)",
      "\u001b[1;32m<ipython-input-27-b4ab83341843>\u001b[0m in \u001b[0;36m<module>\u001b[1;34m\u001b[0m\n\u001b[1;32m----> 1\u001b[1;33m \u001b[0mLanguage\u001b[0m\u001b[1;33m.\u001b[0m\u001b[0mversion\u001b[0m\u001b[1;33m(\u001b[0m\u001b[1;33m)\u001b[0m\u001b[1;33m\u001b[0m\u001b[1;33m\u001b[0m\u001b[0m\n\u001b[0m\u001b[0;32m      2\u001b[0m \u001b[1;33m\u001b[0m\u001b[0m\n",
      "\u001b[1;32m<ipython-input-24-5d069f3e8467>\u001b[0m in \u001b[0;36mfull_version\u001b[1;34m()\u001b[0m\n\u001b[0;32m      1\u001b[0m \u001b[1;32mdef\u001b[0m \u001b[0mfull_version\u001b[0m\u001b[1;33m(\u001b[0m\u001b[1;33m)\u001b[0m\u001b[1;33m:\u001b[0m\u001b[1;33m\u001b[0m\u001b[1;33m\u001b[0m\u001b[0m\n\u001b[1;32m----> 2\u001b[1;33m     \u001b[1;32mreturn\u001b[0m \u001b[1;34m'{}.{}.{}'\u001b[0m\u001b[1;33m.\u001b[0m\u001b[0mformat\u001b[0m\u001b[1;33m(\u001b[0m\u001b[0mMAJOR\u001b[0m\u001b[1;33m,\u001b[0m \u001b[0mMINOR\u001b[0m\u001b[1;33m,\u001b[0m \u001b[0mREVISION\u001b[0m\u001b[1;33m)\u001b[0m\u001b[1;33m\u001b[0m\u001b[1;33m\u001b[0m\u001b[0m\n\u001b[0m\u001b[0;32m      3\u001b[0m \u001b[1;33m\u001b[0m\u001b[0m\n\u001b[0;32m      4\u001b[0m \u001b[1;32mclass\u001b[0m \u001b[0mLanguage\u001b[0m\u001b[1;33m:\u001b[0m\u001b[1;33m\u001b[0m\u001b[1;33m\u001b[0m\u001b[0m\n\u001b[0;32m      5\u001b[0m     \u001b[0mMAJOR\u001b[0m \u001b[1;33m=\u001b[0m \u001b[1;36m3\u001b[0m\u001b[1;33m\u001b[0m\u001b[1;33m\u001b[0m\u001b[0m\n",
      "\u001b[1;31mNameError\u001b[0m: name 'MAJOR' is not defined"
     ],
     "ename": "NameError",
     "evalue": "name 'MAJOR' is not defined",
     "output_type": "error"
    }
   ],
   "source": [
    "Language.version()"
   ],
   "metadata": {
    "collapsed": false,
    "pycharm": {
     "name": "#%%\n",
     "is_executing": false
    }
   }
  },
  {
   "cell_type": "code",
   "execution_count": 32,
   "outputs": [],
   "source": [
    "class Language:\n",
    "    MAJOR = 3\n",
    "    MINOR = 7\n",
    "    REVISION = 4\n",
    "    \n",
    "    def version(self):\n",
    "        return '{}.{}.{}'.format( MAJOR,  MINOR,  REVISION)\n",
    "\n"
   ],
   "metadata": {
    "collapsed": false,
    "pycharm": {
     "name": "#%%\n",
     "is_executing": false
    }
   }
  },
  {
   "cell_type": "code",
   "execution_count": 33,
   "outputs": [
    {
     "traceback": [
      "\u001b[1;31m---------------------------------------------------------------------------\u001b[0m",
      "\u001b[1;31mNameError\u001b[0m                                 Traceback (most recent call last)",
      "\u001b[1;32m<ipython-input-33-4ad765d07ef2>\u001b[0m in \u001b[0;36m<module>\u001b[1;34m\u001b[0m\n\u001b[0;32m      1\u001b[0m \u001b[0ml\u001b[0m \u001b[1;33m=\u001b[0m \u001b[0mLanguage\u001b[0m\u001b[1;33m(\u001b[0m\u001b[1;33m)\u001b[0m\u001b[1;33m\u001b[0m\u001b[1;33m\u001b[0m\u001b[0m\n\u001b[1;32m----> 2\u001b[1;33m \u001b[0ml\u001b[0m\u001b[1;33m.\u001b[0m\u001b[0mversion\u001b[0m\u001b[1;33m(\u001b[0m\u001b[1;33m)\u001b[0m\u001b[1;33m\u001b[0m\u001b[1;33m\u001b[0m\u001b[0m\n\u001b[0m\u001b[0;32m      3\u001b[0m \u001b[1;33m\u001b[0m\u001b[0m\n",
      "\u001b[1;32m<ipython-input-32-9bbf7f9b1be0>\u001b[0m in \u001b[0;36mversion\u001b[1;34m(self)\u001b[0m\n\u001b[0;32m      5\u001b[0m \u001b[1;33m\u001b[0m\u001b[0m\n\u001b[0;32m      6\u001b[0m     \u001b[1;32mdef\u001b[0m \u001b[0mversion\u001b[0m\u001b[1;33m(\u001b[0m\u001b[0mself\u001b[0m\u001b[1;33m)\u001b[0m\u001b[1;33m:\u001b[0m\u001b[1;33m\u001b[0m\u001b[1;33m\u001b[0m\u001b[0m\n\u001b[1;32m----> 7\u001b[1;33m         \u001b[1;32mreturn\u001b[0m \u001b[1;34m'{}.{}.{}'\u001b[0m\u001b[1;33m.\u001b[0m\u001b[0mformat\u001b[0m\u001b[1;33m(\u001b[0m \u001b[0mMAJOR\u001b[0m\u001b[1;33m,\u001b[0m  \u001b[0mMINOR\u001b[0m\u001b[1;33m,\u001b[0m  \u001b[0mREVISION\u001b[0m\u001b[1;33m)\u001b[0m\u001b[1;33m\u001b[0m\u001b[1;33m\u001b[0m\u001b[0m\n\u001b[0m\u001b[0;32m      8\u001b[0m \u001b[1;33m\u001b[0m\u001b[0m\n\u001b[0;32m      9\u001b[0m \u001b[1;33m\u001b[0m\u001b[0m\n",
      "\u001b[1;31mNameError\u001b[0m: name 'MAJOR' is not defined"
     ],
     "ename": "NameError",
     "evalue": "name 'MAJOR' is not defined",
     "output_type": "error"
    }
   ],
   "source": [
    "l = Language()\n",
    "l.version()"
   ],
   "metadata": {
    "collapsed": false,
    "pycharm": {
     "name": "#%%\n",
     "is_executing": false
    }
   }
  },
  {
   "cell_type": "code",
   "execution_count": 37,
   "outputs": [],
   "source": [
    "MAJOR = 0\n",
    "MINOR = 0\n",
    "REVISION = 1\n",
    "\n",
    "def gen_class():\n",
    "    MAJOR = 0\n",
    "    MINOR = 4\n",
    "    REVISION = 2\n",
    "    \n",
    "    class Language:\n",
    "        MAJOR = 3\n",
    "        MINOR = 7\n",
    "        REVISION = 4\n",
    "        \n",
    "        @classmethod\n",
    "        def version(cls):\n",
    "            return '{}.{}.{}'.format(MAJOR, MINOR, REVISION)\n",
    "        \n",
    "    return Language\n"
   ],
   "metadata": {
    "collapsed": false,
    "pycharm": {
     "name": "#%%\n",
     "is_executing": false
    }
   }
  },
  {
   "cell_type": "code",
   "execution_count": 38,
   "outputs": [],
   "source": [
    "cls = gen_class()"
   ],
   "metadata": {
    "collapsed": false,
    "pycharm": {
     "name": "#%%\n",
     "is_executing": false
    }
   }
  },
  {
   "cell_type": "code",
   "execution_count": 39,
   "outputs": [
    {
     "data": {
      "text/plain": "'0.4.2'"
     },
     "metadata": {},
     "output_type": "execute_result",
     "execution_count": 39
    }
   ],
   "source": [
    "cls.version()"
   ],
   "metadata": {
    "collapsed": false,
    "pycharm": {
     "name": "#%%\n",
     "is_executing": false
    }
   }
  },
  {
   "cell_type": "code",
   "execution_count": 40,
   "outputs": [],
   "source": [
    "MAJOR = 0\n",
    "MINOR = 0\n",
    "REVISION = 1\n",
    "\n",
    "def gen_class():\n",
    " \n",
    "    class Language:\n",
    "        MAJOR = 3\n",
    "        MINOR = 7\n",
    "        REVISION = 4\n",
    "        \n",
    "        @classmethod\n",
    "        def version(cls):\n",
    "            return '{}.{}.{}'.format(MAJOR, MINOR, REVISION)\n",
    "        \n",
    "    return Language"
   ],
   "metadata": {
    "collapsed": false,
    "pycharm": {
     "name": "#%%\n",
     "is_executing": false
    }
   }
  },
  {
   "cell_type": "code",
   "execution_count": 41,
   "outputs": [
    {
     "data": {
      "text/plain": "'0.0.1'"
     },
     "metadata": {},
     "output_type": "execute_result",
     "execution_count": 41
    }
   ],
   "source": [
    "cls = gen_class()\n",
    "cls.version()"
   ],
   "metadata": {
    "collapsed": false,
    "pycharm": {
     "name": "#%%\n",
     "is_executing": false
    }
   }
  },
  {
   "cell_type": "code",
   "execution_count": 42,
   "outputs": [],
   "source": [
    "import inspect"
   ],
   "metadata": {
    "collapsed": false,
    "pycharm": {
     "name": "#%%\n",
     "is_executing": false
    }
   }
  },
  {
   "cell_type": "code",
   "execution_count": 43,
   "outputs": [
    {
     "data": {
      "text/plain": "ClosureVars(nonlocals={}, globals={'MAJOR': 0, 'MINOR': 0, 'REVISION': 1}, builtins={'format': <built-in function format>}, unbound=set())"
     },
     "metadata": {},
     "output_type": "execute_result",
     "execution_count": 43
    }
   ],
   "source": [
    "inspect.getclosurevars(cls.version)"
   ],
   "metadata": {
    "collapsed": false,
    "pycharm": {
     "name": "#%%\n",
     "is_executing": false
    }
   }
  },
  {
   "cell_type": "code",
   "execution_count": 47,
   "outputs": [],
   "source": [
    "name = 'Guido'\n",
    "\n",
    "class MyClass:\n",
    "    name = 'Raymond'\n",
    "    list_1 = [name] * 3\n",
    "    # a comprehension is actually nothing more than a function\n",
    "    list_2 = [name for i in range(3)]\n",
    "    \n",
    "    @classmethod\n",
    "    def hello(cls):\n",
    "        return '{} says hello'.format(name)"
   ],
   "metadata": {
    "collapsed": false,
    "pycharm": {
     "name": "#%%\n",
     "is_executing": false
    }
   }
  },
  {
   "cell_type": "code",
   "execution_count": 48,
   "outputs": [
    {
     "data": {
      "text/plain": "'Guido says hello'"
     },
     "metadata": {},
     "output_type": "execute_result",
     "execution_count": 48
    }
   ],
   "source": [
    "MyClass.hello()"
   ],
   "metadata": {
    "collapsed": false,
    "pycharm": {
     "name": "#%%\n",
     "is_executing": false
    }
   }
  },
  {
   "cell_type": "code",
   "execution_count": 49,
   "outputs": [
    {
     "data": {
      "text/plain": "['Raymond', 'Raymond', 'Raymond']"
     },
     "metadata": {},
     "output_type": "execute_result",
     "execution_count": 49
    }
   ],
   "source": [
    "MyClass.list_1"
   ],
   "metadata": {
    "collapsed": false,
    "pycharm": {
     "name": "#%%\n",
     "is_executing": false
    }
   }
  },
  {
   "cell_type": "code",
   "execution_count": 50,
   "outputs": [
    {
     "data": {
      "text/plain": "['Guido', 'Guido', 'Guido']"
     },
     "metadata": {},
     "output_type": "execute_result",
     "execution_count": 50
    }
   ],
   "source": [
    "MyClass.list_2"
   ],
   "metadata": {
    "collapsed": false,
    "pycharm": {
     "name": "#%%\n",
     "is_executing": false
    }
   }
  },
  {
   "cell_type": "code",
   "execution_count": null,
   "outputs": [],
   "source": [
    "\n"
   ],
   "metadata": {
    "collapsed": false,
    "pycharm": {
     "name": "#%%\n"
    }
   }
  }
 ],
 "metadata": {
  "kernelspec": {
   "display_name": "Python 3",
   "language": "python",
   "name": "python3"
  },
  "language_info": {
   "codemirror_mode": {
    "name": "ipython",
    "version": 2
   },
   "file_extension": ".py",
   "mimetype": "text/x-python",
   "name": "python",
   "nbconvert_exporter": "python",
   "pygments_lexer": "ipython2",
   "version": "2.7.6"
  },
  "pycharm": {
   "stem_cell": {
    "cell_type": "raw",
    "source": [],
    "metadata": {
     "collapsed": false
    }
   }
  }
 },
 "nbformat": 4,
 "nbformat_minor": 0
}