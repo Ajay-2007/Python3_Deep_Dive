{
 "cells": [
  {
   "cell_type": "markdown",
   "metadata": {
    "collapsed": true,
    "pycharm": {
     "name": "#%% md\n"
    }
   },
   "source": [
    "# Python Builtin and Standard Types\n",
    "\n",
    "- `Not all types are in the builtin module...`\n",
    "- Certain types that we use commonly in Python `int` `str` `list` `tuple` ... are part of the builtins\n",
    "\n",
    "```python\n",
    "l = [1, 2, 3]\n",
    "type(l) is list # list is a type\n",
    "isinstance(l, list) # True\n",
    "\n",
    "```\n",
    "\n",
    "- But some types are not available directly in the builtins `functions` `modules` `genrators`   ...\n",
    "\n",
    "```python\n",
    "def my_func():\n",
    "    pass\n",
    "\n",
    "print(type(my_func))    # 'function'    <- this is a string \n",
    "                        # but type(my_func) actually returns a type (think class)\n",
    "\n",
    "```\n",
    "- The `types` Module\n",
    "    - The function type can actually be found in the `types` module\n",
    "\n",
    "```python\n",
    "import types\n",
    "def my_func():\n",
    "    pass\n",
    "\n",
    "type(my_func) is types.FunctionType     # returns True\n",
    "isinstance(my_func, types.FunctionType) # returns True\n",
    "\n",
    "```\n",
    "\n",
    "    \n",
    " \n",
    "\n",
    "\n"
   ]
  }
 ],
 "metadata": {
  "kernelspec": {
   "display_name": "Python 3",
   "language": "python",
   "name": "python3"
  },
  "language_info": {
   "codemirror_mode": {
    "name": "ipython",
    "version": 2
   },
   "file_extension": ".py",
   "mimetype": "text/x-python",
   "name": "python",
   "nbconvert_exporter": "python",
   "pygments_lexer": "ipython2",
   "version": "2.7.6"
  },
  "pycharm": {
   "stem_cell": {
    "cell_type": "raw",
    "source": [],
    "metadata": {
     "collapsed": false
    }
   }
  }
 },
 "nbformat": 4,
 "nbformat_minor": 0
}