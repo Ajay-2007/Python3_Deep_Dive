{
 "cells": [
  {
   "cell_type": "markdown",
   "metadata": {
    "collapsed": true,
    "pycharm": {
     "name": "#%% md\n"
    }
   },
   "source": [
    "# Recap"
   ]
  },
  {
   "cell_type": "code",
   "execution_count": null,
   "outputs": [],
   "source": [
    "class Circle:\n",
    "    # c = Circle()  -> c is an instance of Circle\n",
    "    # class attribute - Circle.origin\n",
    "    origin = (0, 0)\n",
    "    \n",
    "    # custom initializer -> instance method (bount to instance)\n",
    "    def __init__(self, r):\n",
    "        # _r is an instance attribute (private by convention only)\n",
    "        # can still access using c._r\n",
    "        self._r = r\n",
    "        \n",
    "    # static method - not bound to anything\n",
    "    # c2 = Circle.create_unit_circle()\n",
    "    @staticmethod\n",
    "    def create_unit_circle():\n",
    "        return Circle(1)\n",
    "    \n",
    "    # class method - bound to class\n",
    "    # Circle.set_origin(10, 10)\n",
    "    # can also be called using c.set_origin(10, 10)\n",
    "    @classmethod\n",
    "    def set_origin(cls, x, y):\n",
    "        cls.origin = (x, y)\n",
    "        \n",
    "    #instance method - bound to instance\n",
    "    # c.double_radius()\n",
    "    def double_radius(self):\n",
    "        self._r *= 2\n",
    "\n",
    "    # instance property (radius) with getter/setter methods\n",
    "    @property\n",
    "    def radius(self):\n",
    "        return self._r\n",
    "    \n",
    "    @radius.setter\n",
    "    def radius(self, value):\n",
    "        self._r = value\n",
    "\n"
   ],
   "metadata": {
    "collapsed": false,
    "pycharm": {
     "name": "#%%\n"
    }
   }
  }
 ],
 "metadata": {
  "kernelspec": {
   "display_name": "Python 3",
   "language": "python",
   "name": "python3"
  },
  "language_info": {
   "codemirror_mode": {
    "name": "ipython",
    "version": 2
   },
   "file_extension": ".py",
   "mimetype": "text/x-python",
   "name": "python",
   "nbconvert_exporter": "python",
   "pygments_lexer": "ipython2",
   "version": "2.7.6"
  },
  "pycharm": {
   "stem_cell": {
    "cell_type": "raw",
    "source": [],
    "metadata": {
     "collapsed": false
    }
   }
  }
 },
 "nbformat": 4,
 "nbformat_minor": 0
}