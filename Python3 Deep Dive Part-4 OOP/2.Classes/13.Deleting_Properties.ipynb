{
 "cells": [
  {
   "cell_type": "markdown",
   "metadata": {
    "collapsed": true,
    "pycharm": {
     "name": "#%% md\n"
    }
   },
   "source": [
    "# Deleting Properties\n",
    "\n",
    "- Just like we can delete attributes from an object:\n",
    "\n",
    "```python\n",
    "c = Circle() \n",
    "c.color = \"yello\"   \n",
    "c.color     # returns yellow\n",
    "\n",
    "del c.color # or delattr(c, \"color\")\n",
    "c.color     # returns AttributeError \n",
    "```\n",
    "\n",
    "- We can also support deleting `properties` from an `instance` object:\n",
    "    - `deleter` argument of the `property` initializer  `@prop_name.delter`\n",
    "    \n",
    "    - generally used to perform some cleanup activity upon deletion of the property\n",
    "        - not used very often\n",
    "        \n",
    "    - Important: calling the deleter runs code contained in the `deleter` method\n",
    "        - does not remove properly from <u>class</u> itself\n",
    "        - it just calls the deleter method\n",
    "\n",
    "```python\n",
    "class Color:\n",
    "    def __init__(self, color):  \n",
    "        self._color = color\n",
    "    \n",
    "    def get_color(self):\n",
    "        return self._color\n",
    "    \n",
    "    def set_color(self, value):\n",
    "        self._color = value\n",
    "\n",
    "    # when this method is invoked, it will remove _color from the instance namespace (dictioanry)\n",
    "    def del_color(self):\n",
    "        del self._color\n",
    "     \n",
    "    color = property(get_color, set_color, del_color)\n",
    "\n",
    "c = Color(\"yellow\")\n",
    "c.__dict__  # returns {\"color\" : \"yellow\"}\n",
    "c.color     # returns \"yellow\"\n",
    "del c.color\n",
    "c.__dict__  # returns {}\n",
    "\n",
    "c.color     # returns AttributeError\n",
    "c._color    # returns AttributeError\n",
    "\n",
    "``` \n",
    "- We can also use the decorator syntax:\n",
    "\n",
    "```python\n",
    "class UnitCircle:\n",
    "    def __init__(self, color):\n",
    "        self._color = color\n",
    "\n",
    "    @property\n",
    "    def color(self):\n",
    "        return self._color\n",
    "\n",
    "    @color.setter\n",
    "    def color(self, value):\n",
    "        self._color = value\n",
    "\n",
    "    @color.deleter\n",
    "    def color(self):\n",
    "        del self._color\n",
    "\n",
    "c = UnitCircle(\"red\")\n",
    "c.__dict__      # returns {\"color\" : \"red\"}\n",
    "\n",
    "del c.color\n",
    "c.__dict__      # returns {}\n",
    "\n",
    "c.color         # returns AttributeError\n",
    "                # because getter tries to read self._color\n",
    "                # But the property still exists -> defined on class\n",
    "\n",
    "c.color = \"blue\"\n",
    "c.__dict__      # returns {\"color\" : \"blue\"}\n",
    "c.color         # returns \"blue\"\n",
    "\n",
    "\n",
    "```"
   ]
  },
  {
   "cell_type": "code",
   "execution_count": 1,
   "outputs": [],
   "source": [
    "class Person:\n",
    "    def __init__(self, name):\n",
    "        self.name = name\n",
    "        \n",
    "    def get_name(self):\n",
    "        print(\"getter...\")\n",
    "        return self._name\n",
    "    \n",
    "    def set_name(self, value):\n",
    "        print(\"setter...\")\n",
    "        self._name = value\n",
    "        \n",
    "    def del_name(self):\n",
    "        print(\"delter...\")\n",
    "        del self._name\n",
    "        \n",
    "    name = property(fget=get_name, fset=set_name, fdel=del_name, doc=\"Person name\")\n",
    "\n",
    "\n"
   ],
   "metadata": {
    "collapsed": false,
    "pycharm": {
     "name": "#%%\n",
     "is_executing": false
    }
   }
  },
  {
   "cell_type": "code",
   "execution_count": 8,
   "outputs": [
    {
     "name": "stdout",
     "text": [
      "setter...\n"
     ],
     "output_type": "stream"
    }
   ],
   "source": [
    "p = Person(\"Guido\")"
   ],
   "metadata": {
    "collapsed": false,
    "pycharm": {
     "name": "#%%\n",
     "is_executing": false
    }
   }
  },
  {
   "cell_type": "code",
   "execution_count": 9,
   "outputs": [
    {
     "name": "stdout",
     "text": [
      "getter...\n"
     ],
     "output_type": "stream"
    },
    {
     "data": {
      "text/plain": "'Guido'"
     },
     "metadata": {},
     "output_type": "execute_result",
     "execution_count": 9
    }
   ],
   "source": [
    "p.name"
   ],
   "metadata": {
    "collapsed": false,
    "pycharm": {
     "name": "#%%\n",
     "is_executing": false
    }
   }
  },
  {
   "cell_type": "code",
   "execution_count": 10,
   "outputs": [
    {
     "data": {
      "text/plain": "{'_name': 'Guido'}"
     },
     "metadata": {},
     "output_type": "execute_result",
     "execution_count": 10
    }
   ],
   "source": [
    "p.__dict__"
   ],
   "metadata": {
    "collapsed": false,
    "pycharm": {
     "name": "#%%\n",
     "is_executing": false
    }
   }
  },
  {
   "cell_type": "code",
   "execution_count": 11,
   "outputs": [
    {
     "name": "stdout",
     "text": [
      "delter...\n"
     ],
     "output_type": "stream"
    }
   ],
   "source": [
    "# delattr(p, \"name\")\n",
    "del p.name"
   ],
   "metadata": {
    "collapsed": false,
    "pycharm": {
     "name": "#%%\n",
     "is_executing": false
    }
   }
  },
  {
   "cell_type": "code",
   "execution_count": 12,
   "outputs": [
    {
     "data": {
      "text/plain": "{}"
     },
     "metadata": {},
     "output_type": "execute_result",
     "execution_count": 12
    }
   ],
   "source": [
    "p.__dict__"
   ],
   "metadata": {
    "collapsed": false,
    "pycharm": {
     "name": "#%%\n",
     "is_executing": false
    }
   }
  },
  {
   "cell_type": "code",
   "execution_count": 13,
   "outputs": [
    {
     "data": {
      "text/plain": "mappingproxy({'__module__': '__main__',\n              '__init__': <function __main__.Person.__init__(self, name)>,\n              'get_name': <function __main__.Person.get_name(self)>,\n              'set_name': <function __main__.Person.set_name(self, value)>,\n              'del_name': <function __main__.Person.del_name(self)>,\n              'name': <property at 0x60d4060>,\n              '__dict__': <attribute '__dict__' of 'Person' objects>,\n              '__weakref__': <attribute '__weakref__' of 'Person' objects>,\n              '__doc__': None})"
     },
     "metadata": {},
     "output_type": "execute_result",
     "execution_count": 13
    }
   ],
   "source": [
    "Person.__dict__"
   ],
   "metadata": {
    "collapsed": false,
    "pycharm": {
     "name": "#%%\n",
     "is_executing": false
    }
   }
  },
  {
   "cell_type": "code",
   "execution_count": 14,
   "outputs": [
    {
     "name": "stdout",
     "text": [
      "setter...\n"
     ],
     "output_type": "stream"
    }
   ],
   "source": [
    "p.name = \"Alex\""
   ],
   "metadata": {
    "collapsed": false,
    "pycharm": {
     "name": "#%%\n",
     "is_executing": false
    }
   }
  },
  {
   "cell_type": "code",
   "execution_count": 15,
   "outputs": [
    {
     "data": {
      "text/plain": "{'_name': 'Alex'}"
     },
     "metadata": {},
     "output_type": "execute_result",
     "execution_count": 15
    }
   ],
   "source": [
    "p.__dict__"
   ],
   "metadata": {
    "collapsed": false,
    "pycharm": {
     "name": "#%%\n",
     "is_executing": false
    }
   }
  },
  {
   "cell_type": "code",
   "execution_count": 16,
   "outputs": [],
   "source": [
    "class Person:\n",
    "    def __init__(self, name):\n",
    "        self.name = name\n",
    "    \n",
    "    @property    \n",
    "    def name(self):\n",
    "        print(\"getter...\")\n",
    "        return self._name\n",
    "    \n",
    "    @name.setter\n",
    "    def name(self, value):\n",
    "        print(\"setter...\")\n",
    "        self._name = value\n",
    "       \n",
    "    @name.deleter   \n",
    "    def name(self):\n",
    "        print(\"delter...\")\n",
    "        del self._name\n",
    "        \n",
    "    #name = property(fget=get_name, fset=set_name, fdel=del_name, doc=\"Person name\")"
   ],
   "metadata": {
    "collapsed": false,
    "pycharm": {
     "name": "#%%\n",
     "is_executing": false
    }
   }
  },
  {
   "cell_type": "code",
   "execution_count": 17,
   "outputs": [
    {
     "name": "stdout",
     "text": [
      "setter...\n"
     ],
     "output_type": "stream"
    }
   ],
   "source": [
    "p = Person(\"Alex\")"
   ],
   "metadata": {
    "collapsed": false,
    "pycharm": {
     "name": "#%%\n",
     "is_executing": false
    }
   }
  },
  {
   "cell_type": "code",
   "execution_count": 18,
   "outputs": [
    {
     "data": {
      "text/plain": "{'_name': 'Alex'}"
     },
     "metadata": {},
     "output_type": "execute_result",
     "execution_count": 18
    }
   ],
   "source": [
    "p.__dict__"
   ],
   "metadata": {
    "collapsed": false,
    "pycharm": {
     "name": "#%%\n",
     "is_executing": false
    }
   }
  },
  {
   "cell_type": "code",
   "execution_count": 19,
   "outputs": [
    {
     "name": "stdout",
     "text": [
      "delter...\n"
     ],
     "output_type": "stream"
    }
   ],
   "source": [
    "del p.name"
   ],
   "metadata": {
    "collapsed": false,
    "pycharm": {
     "name": "#%%\n",
     "is_executing": false
    }
   }
  },
  {
   "cell_type": "code",
   "execution_count": 20,
   "outputs": [
    {
     "data": {
      "text/plain": "{}"
     },
     "metadata": {},
     "output_type": "execute_result",
     "execution_count": 20
    }
   ],
   "source": [
    "p.__dict__"
   ],
   "metadata": {
    "collapsed": false,
    "pycharm": {
     "name": "#%%\n",
     "is_executing": false
    }
   }
  },
  {
   "cell_type": "code",
   "execution_count": 21,
   "outputs": [
    {
     "name": "stdout",
     "text": [
      "setter...\n"
     ],
     "output_type": "stream"
    }
   ],
   "source": [
    "p.name = \"Guido\""
   ],
   "metadata": {
    "collapsed": false,
    "pycharm": {
     "name": "#%%\n",
     "is_executing": false
    }
   }
  },
  {
   "cell_type": "code",
   "execution_count": 22,
   "outputs": [
    {
     "data": {
      "text/plain": "{'_name': 'Guido'}"
     },
     "metadata": {},
     "output_type": "execute_result",
     "execution_count": 22
    }
   ],
   "source": [
    "p.__dict__"
   ],
   "metadata": {
    "collapsed": false,
    "pycharm": {
     "name": "#%%\n",
     "is_executing": false
    }
   }
  },
  {
   "cell_type": "code",
   "execution_count": null,
   "outputs": [],
   "source": [
    "\n"
   ],
   "metadata": {
    "collapsed": false,
    "pycharm": {
     "name": "#%%\n"
    }
   }
  }
 ],
 "metadata": {
  "kernelspec": {
   "display_name": "Python 3",
   "language": "python",
   "name": "python3"
  },
  "language_info": {
   "codemirror_mode": {
    "name": "ipython",
    "version": 2
   },
   "file_extension": ".py",
   "mimetype": "text/x-python",
   "name": "python",
   "nbconvert_exporter": "python",
   "pygments_lexer": "ipython2",
   "version": "2.7.6"
  },
  "pycharm": {
   "stem_cell": {
    "cell_type": "raw",
    "source": [],
    "metadata": {
     "collapsed": false
    }
   }
  }
 },
 "nbformat": 4,
 "nbformat_minor": 0
}