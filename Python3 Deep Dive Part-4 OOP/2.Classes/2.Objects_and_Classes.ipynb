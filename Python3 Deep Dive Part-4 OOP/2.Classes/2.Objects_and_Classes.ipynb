{
 "cells": [
  {
   "cell_type": "markdown",
   "metadata": {
    "collapsed": true,
    "pycharm": {
     "name": "#%% md\n"
    }
   },
   "source": [
    "# Objects And Classes\n",
    "\n",
    "- What is an object?\n",
    "    - a container\n",
    "        - contains data -> state    -> attributes\n",
    "        - contains functionality    -> behavior -> methods\n",
    "<br> \n",
    "-----------------------------------------------------------------\n",
    "`my_car`<br>\n",
    "```text\n",
    "state\n",
    "    brand = Ferrari\n",
    "    model = 599XX\n",
    "    year  = 2010\n",
    "behavior\n",
    "    accelerate\n",
    "    brake\n",
    "    steer \n",
    "```       \n",
    "`dot notation`\n",
    "```text\n",
    "my_car.brand -> Ferrari\n",
    "my_car.purchase_price = 1,600,000\n",
    "\n",
    "my_car.accelerate(10)\n",
    "my_car.steer(-15)\n",
    "```\n",
    "---------------------------------------------------------------\n",
    "`Creating Objects`\n",
    "\n",
    "- How do we create the `container`?\n",
    "   - How do we define set `state`?\n",
    "       - How do we define and implement `behavior`?\n",
    "- Many languages use a `class-based` approach -> C++, Java, Python, etc\n",
    "\n",
    "- A class is like a `template` used to create objects\n",
    "    - also called a `type` \n",
    "    - objects created from that class are called `instances` of that `class` or `type`\n",
    "\n",
    "- `Classes`\n",
    "    - Classes are `themselves` objects\n",
    "    - They have attributes (state)\n",
    "        - e.g. class `name` (or `type` name)\n",
    "    - They have behavior\n",
    "        - e.g. how to create an instance of the class\n",
    "    - if a class is an object, and objects are created from classes, how are classes `created`?\n",
    "        - Python classes are created from the type `metaclass`  \n",
    "\n",
    "- `Instances`\n",
    "    - Classes have bahavior\n",
    "    - They are `callable`  `MyClass()`\n",
    "    - `MyClass()` this returns an `instance` of the class\n",
    "        - often called `objects`, differentiating from `class` (even though a class is technically an object as well)\n",
    "    - `Instances` are created from classes their `type` is the class they were created from\n",
    "        \n",
    "    if MyClass() is a class in Python and my_obj is an instance of that class <br>\n",
    "    my_obj = MyClass() <br>\n",
    "    \n",
    "    type(my_obj) -> MyClass (this is an object (classes are objects)) <br>\n",
    "    isintance(my_obj, MyClass) -> True <br>\n",
    "\n",
    "---------------------------------------------------------------------------------\n",
    "`Creating Classes`\n",
    "- use the `class` keyword \n",
    "```python\n",
    "class MyClass:\n",
    "    pass\n",
    "```\n",
    "- Python creates an `object`\n",
    "    - called `MyClass`\n",
    "    - of type `type`\n",
    "    - automatically provides us certain attributes (state) and methods (behavior)\n",
    "\n",
    "```python\n",
    "class MyClass:\n",
    "    pass\n",
    "\n",
    "MyClass.__name__    # 'MyClass' (returns a string) state\n",
    "\n",
    "MyClass()       # returns an instance of MyClass (behavior)\n",
    " \n",
    "type(MyClass)   # type\n",
    "\n",
    "isinstance(MyClass, type)   # True\n",
    "\n",
    "```     "
   ]
  },
  {
   "cell_type": "code",
   "execution_count": 5,
   "outputs": [],
   "source": [
    "class Person:\n",
    "    pass\n",
    "\n",
    "# type(Person)"
   ],
   "metadata": {
    "collapsed": false,
    "pycharm": {
     "name": "#%%\n",
     "is_executing": false
    }
   }
  },
  {
   "cell_type": "code",
   "execution_count": 6,
   "outputs": [
    {
     "data": {
      "text/plain": "type"
     },
     "metadata": {},
     "output_type": "execute_result",
     "execution_count": 6
    }
   ],
   "source": [
    "type(Person)"
   ],
   "metadata": {
    "collapsed": false,
    "pycharm": {
     "name": "#%%\n",
     "is_executing": false
    }
   }
  },
  {
   "cell_type": "code",
   "execution_count": 7,
   "outputs": [
    {
     "data": {
      "text/plain": "type"
     },
     "metadata": {},
     "output_type": "execute_result",
     "execution_count": 7
    }
   ],
   "source": [
    "type(type)\n",
    "\n"
   ],
   "metadata": {
    "collapsed": false,
    "pycharm": {
     "name": "#%%\n",
     "is_executing": false
    }
   }
  },
  {
   "cell_type": "code",
   "execution_count": 8,
   "outputs": [
    {
     "data": {
      "text/plain": "'Person'"
     },
     "metadata": {},
     "output_type": "execute_result",
     "execution_count": 8
    }
   ],
   "source": [
    "Person.__name__"
   ],
   "metadata": {
    "collapsed": false,
    "pycharm": {
     "name": "#%%\n",
     "is_executing": false
    }
   }
  },
  {
   "cell_type": "code",
   "execution_count": 9,
   "outputs": [],
   "source": [
    "p = Person()"
   ],
   "metadata": {
    "collapsed": false,
    "pycharm": {
     "name": "#%%\n",
     "is_executing": false
    }
   }
  },
  {
   "cell_type": "code",
   "execution_count": 10,
   "outputs": [
    {
     "data": {
      "text/plain": "__main__.Person"
     },
     "metadata": {},
     "output_type": "execute_result",
     "execution_count": 10
    }
   ],
   "source": [
    "type(p)"
   ],
   "metadata": {
    "collapsed": false,
    "pycharm": {
     "name": "#%%\n",
     "is_executing": false
    }
   }
  },
  {
   "cell_type": "code",
   "execution_count": 11,
   "outputs": [
    {
     "data": {
      "text/plain": "__main__.Person"
     },
     "metadata": {},
     "output_type": "execute_result",
     "execution_count": 11
    }
   ],
   "source": [
    "p.__class__"
   ],
   "metadata": {
    "collapsed": false,
    "pycharm": {
     "name": "#%%\n",
     "is_executing": false
    }
   }
  },
  {
   "cell_type": "code",
   "execution_count": 12,
   "outputs": [
    {
     "data": {
      "text/plain": "True"
     },
     "metadata": {},
     "output_type": "execute_result",
     "execution_count": 12
    }
   ],
   "source": [
    "type(p) is p.__class__"
   ],
   "metadata": {
    "collapsed": false,
    "pycharm": {
     "name": "#%%\n",
     "is_executing": false
    }
   }
  },
  {
   "cell_type": "code",
   "execution_count": 13,
   "outputs": [
    {
     "data": {
      "text/plain": "True"
     },
     "metadata": {},
     "output_type": "execute_result",
     "execution_count": 13
    }
   ],
   "source": [
    "isinstance(p, Person)"
   ],
   "metadata": {
    "collapsed": false,
    "pycharm": {
     "name": "#%%\n",
     "is_executing": false
    }
   }
  },
  {
   "cell_type": "code",
   "execution_count": 14,
   "outputs": [
    {
     "data": {
      "text/plain": "False"
     },
     "metadata": {},
     "output_type": "execute_result",
     "execution_count": 14
    }
   ],
   "source": [
    "isinstance(p, str)"
   ],
   "metadata": {
    "collapsed": false,
    "pycharm": {
     "name": "#%%\n",
     "is_executing": false
    }
   }
  },
  {
   "cell_type": "code",
   "execution_count": 15,
   "outputs": [
    {
     "data": {
      "text/plain": "True"
     },
     "metadata": {},
     "output_type": "execute_result",
     "execution_count": 15
    }
   ],
   "source": [
    "isinstance('hello', str)"
   ],
   "metadata": {
    "collapsed": false,
    "pycharm": {
     "name": "#%%\n",
     "is_executing": false
    }
   }
  },
  {
   "cell_type": "code",
   "execution_count": 16,
   "outputs": [
    {
     "data": {
      "text/plain": "type"
     },
     "metadata": {},
     "output_type": "execute_result",
     "execution_count": 16
    }
   ],
   "source": [
    "type(str) # here type is a metaclass"
   ],
   "metadata": {
    "collapsed": false,
    "pycharm": {
     "name": "#%%\n",
     "is_executing": false
    }
   }
  },
  {
   "cell_type": "code",
   "execution_count": 17,
   "outputs": [
    {
     "name": "stdout",
     "text": [
      "Help on class type in module builtins:\n\nclass type(object)\n |  type(object_or_name, bases, dict)\n |  type(object) -> the object's type\n |  type(name, bases, dict) -> a new type\n |  \n |  Methods defined here:\n |  \n |  __call__(self, /, *args, **kwargs)\n |      Call self as a function.\n |  \n |  __delattr__(self, name, /)\n |      Implement delattr(self, name).\n |  \n |  __dir__(self, /)\n |      Specialized __dir__ implementation for types.\n |  \n |  __getattribute__(self, name, /)\n |      Return getattr(self, name).\n |  \n |  __init__(self, /, *args, **kwargs)\n |      Initialize self.  See help(type(self)) for accurate signature.\n |  \n |  __instancecheck__(self, instance, /)\n |      Check if an object is an instance.\n |  \n |  __repr__(self, /)\n |      Return repr(self).\n |  \n |  __setattr__(self, name, value, /)\n |      Implement setattr(self, name, value).\n |  \n |  __sizeof__(self, /)\n |      Return memory consumption of the type object.\n |  \n |  __subclasscheck__(self, subclass, /)\n |      Check if a class is a subclass.\n |  \n |  __subclasses__(self, /)\n |      Return a list of immediate subclasses.\n |  \n |  mro(self, /)\n |      Return a type's method resolution order.\n |  \n |  ----------------------------------------------------------------------\n |  Class methods defined here:\n |  \n |  __prepare__(...)\n |      __prepare__() -> dict\n |      used to create the namespace for the class statement\n |  \n |  ----------------------------------------------------------------------\n |  Static methods defined here:\n |  \n |  __new__(*args, **kwargs)\n |      Create and return a new object.  See help(type) for accurate signature.\n |  \n |  ----------------------------------------------------------------------\n |  Data descriptors defined here:\n |  \n |  __abstractmethods__\n |  \n |  __dict__\n |  \n |  __text_signature__\n |  \n |  ----------------------------------------------------------------------\n |  Data and other attributes defined here:\n |  \n |  __base__ = <class 'object'>\n |      The most base type\n |  \n |  __bases__ = (<class 'object'>,)\n |  \n |  __basicsize__ = 432\n |  \n |  __dictoffset__ = 132\n |  \n |  __flags__ = 2148291584\n |  \n |  __itemsize__ = 20\n |  \n |  __mro__ = (<class 'type'>, <class 'object'>)\n |  \n |  __weakrefoffset__ = 184\n\n"
     ],
     "output_type": "stream"
    }
   ],
   "source": [
    "help(type)\n",
    " "
   ],
   "metadata": {
    "collapsed": false,
    "pycharm": {
     "name": "#%%\n",
     "is_executing": false
    }
   }
  }
 ],
 "metadata": {
  "kernelspec": {
   "display_name": "Python 3",
   "language": "python",
   "name": "python3"
  },
  "language_info": {
   "codemirror_mode": {
    "name": "ipython",
    "version": 2
   },
   "file_extension": ".py",
   "mimetype": "text/x-python",
   "name": "python",
   "nbconvert_exporter": "python",
   "pygments_lexer": "ipython2",
   "version": "2.7.6"
  },
  "pycharm": {
   "stem_cell": {
    "cell_type": "raw",
    "source": [],
    "metadata": {
     "collapsed": false
    }
   }
  }
 },
 "nbformat": 4,
 "nbformat_minor": 0
}