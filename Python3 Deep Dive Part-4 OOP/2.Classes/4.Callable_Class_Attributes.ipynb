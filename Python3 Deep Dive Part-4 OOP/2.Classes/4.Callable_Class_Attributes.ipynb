{
 "cells": [
  {
   "cell_type": "markdown",
   "metadata": {
    "collapsed": true,
    "pycharm": {
     "name": "#%% md\n"
    }
   },
   "source": [
    "# Callable Call Attributes\n",
    "*Click the Expland Button to see the Explanation*\n",
    "<details><summary>Explanation</summary>\n",
    "\n",
    "<p>\n",
    "\n",
    "\n",
    "- `Setting Attribute Value to a Callable`\n",
    "    - Attribute values can be any object \n",
    "        - other classes\n",
    "        - any callable\n",
    "        - anything...\n",
    "    - So we can do this:\n",
    "        ```python\n",
    "      class MyClass:\n",
    "          language = 'Python' \n",
    "          def say_hello(self):\n",
    "              print('Hello World')\n",
    "        ```\n",
    "    - `say_hello` is also an attribute of the class\n",
    "        - its value happens to be a `callable`\n",
    "    - `MyClass.__dict__`\n",
    "        - mappingproxy({'language' : 'Python',\n",
    "                        'say_hello': `<function __main__.MyClass.say_hello()>`, ...})\n",
    "----------------------------------------------------\n",
    "- `How do we call it ?`\n",
    "    - We could get it straight from the namespace dictionary:\n",
    "        - my_func = `MyClass.__dict__['say_hello']`\n",
    "        - my_func()     # this will return 'Hello World'\n",
    "        - `MyClass.__dict__['say_hello']()`   # 'Hello World'\n",
    "        - or we could use `getattr`:\n",
    "            - `getattr(MyClass, 'say_hello')()`   # 'Hello World'\n",
    "        - or we could use dot notation:\n",
    "            - `MyClass.say_hello()`   # 'Hello World'                                      \n",
    "\n",
    "</details>"
   ]
  },
  {
   "cell_type": "code",
   "execution_count": 21,
   "outputs": [],
   "source": [
    "class Program:\n",
    "    language = 'Python'\n",
    "    \n",
    "    def say_hello():\n",
    "        print(f'Hello from {Program.language}')"
   ],
   "metadata": {
    "collapsed": false,
    "pycharm": {
     "name": "#%%\n",
     "is_executing": false
    }
   }
  },
  {
   "cell_type": "code",
   "execution_count": 22,
   "outputs": [
    {
     "data": {
      "text/plain": "mappingproxy({'__module__': '__main__',\n              'language': 'Python',\n              'say_hello': <function __main__.Program.say_hello()>,\n              '__dict__': <attribute '__dict__' of 'Program' objects>,\n              '__weakref__': <attribute '__weakref__' of 'Program' objects>,\n              '__doc__': None})"
     },
     "metadata": {},
     "output_type": "execute_result",
     "execution_count": 22
    }
   ],
   "source": [
    "Program.__dict__\n",
    "\n"
   ],
   "metadata": {
    "collapsed": false,
    "pycharm": {
     "name": "#%%\n",
     "is_executing": false
    }
   }
  },
  {
   "cell_type": "code",
   "execution_count": 23,
   "outputs": [
    {
     "data": {
      "text/plain": "(<function __main__.Program.say_hello()>,\n <function __main__.Program.say_hello()>)"
     },
     "metadata": {},
     "output_type": "execute_result",
     "execution_count": 23
    }
   ],
   "source": [
    "Program.say_hello, getattr(Program, 'say_hello')"
   ],
   "metadata": {
    "collapsed": false,
    "pycharm": {
     "name": "#%%\n",
     "is_executing": false
    }
   }
  },
  {
   "cell_type": "code",
   "execution_count": 25,
   "outputs": [
    {
     "name": "stdout",
     "text": [
      "Hello from Python\n"
     ],
     "output_type": "stream"
    }
   ],
   "source": [
    "Program.say_hello()"
   ],
   "metadata": {
    "collapsed": false,
    "pycharm": {
     "name": "#%%\n",
     "is_executing": false
    }
   }
  },
  {
   "cell_type": "code",
   "execution_count": 26,
   "outputs": [
    {
     "name": "stdout",
     "text": [
      "Hello from Python\n"
     ],
     "output_type": "stream"
    }
   ],
   "source": [
    "getattr(Program, 'say_hello')() "
   ],
   "metadata": {
    "collapsed": false,
    "pycharm": {
     "name": "#%%\n",
     "is_executing": false
    }
   }
  },
  {
   "cell_type": "code",
   "execution_count": 28,
   "outputs": [
    {
     "name": "stdout",
     "text": [
      "Hello from Python\n"
     ],
     "output_type": "stream"
    }
   ],
   "source": [
    "Program.__dict__['say_hello']() \n",
    " \n"
   ],
   "metadata": {
    "collapsed": false,
    "pycharm": {
     "name": "#%%\n",
     "is_executing": false
    }
   }
  }
 ],
 "metadata": {
  "kernelspec": {
   "display_name": "Python 3",
   "language": "python",
   "name": "python3"
  },
  "language_info": {
   "codemirror_mode": {
    "name": "ipython",
    "version": 2
   },
   "file_extension": ".py",
   "mimetype": "text/x-python",
   "name": "python",
   "nbconvert_exporter": "python",
   "pygments_lexer": "ipython2",
   "version": "2.7.6"
  },
  "pycharm": {
   "stem_cell": {
    "cell_type": "raw",
    "source": [],
    "metadata": {
     "collapsed": false
    }
   }
  }
 },
 "nbformat": 4,
 "nbformat_minor": 0
}