{
 "cells": [
  {
   "cell_type": "markdown",
   "metadata": {
    "collapsed": true,
    "pycharm": {
     "name": "#%% md\n"
    }
   },
   "source": [
    "# Class Attributes\n",
    "*Click the Expland Button to see the Explanation*\n",
    "<details><summary>Explanation</summary>\n",
    "\n",
    "<p>\n",
    "\n",
    "`Defining Attributes in Classes`\n",
    "\n",
    "```python\n",
    "class MyClass:\n",
    "    language = 'Python'\n",
    "    version = '3.6'\n",
    "```\n",
    "\n",
    "- `MyClass` is a class -> it is an object of type `type`\n",
    "- in addition to whatever attributes Python automatically creates for us e.g `__name__` with a state of '`MyClass`'\n",
    "- It also has `language` and `version` attributes with a state of `Python` and `3.6` respectively\n",
    "------------------------------------------------------------------------\n",
    "`Retrieving Attribute Values from Objects`\n",
    "```python\n",
    "class MyClass:\n",
    "    language = 'Python'\n",
    "    version = '3.6'\n",
    "```\n",
    "- getattr function\n",
    "    - getattr(object_symbol, attribute_name, optional_default)\n",
    "    - getattr(MyClass, 'language')  # 'Python'\n",
    "    - getattr(MyClass, 'x')         # `AttributeError` exception\n",
    "    - getattr(MyClass, 'x', 'N/A')  # 'N/A'\n",
    "\n",
    "- `dot notation` (shorhand)\n",
    "    - MyClass.language      # 'Python'\n",
    "    - MyClass.x             # `AttributeError` exception\n",
    "---------------------------------------------------------------------\n",
    "`Setting Attribute Values in Objects`\n",
    "```python\n",
    "class MyClass:\n",
    "    language = 'Python'\n",
    "    version = '3.6'\n",
    "```\n",
    "- `setattr` function\n",
    "    - `setattr`(object_symbol(object symbol), attribute_name(string), attribute_value)\n",
    "    - `setattr(MyClass, 'version', '3.7')`\n",
    "    - `MyClass.version = '3.7' ` \n",
    "        - this has modified the state of `MyClass` -> `MyClass` was mutated\n",
    "- `getattr(MyClass, 'version')`\n",
    "- MyClass.version   # '3.7' \n",
    "\n",
    "- What happens if we call `setattr` for an attribute we did not define in our class?\n",
    "    - Python is a dynamic language means we can modify our classes at runtime(usually)\n",
    "    - `setattr(MyClass, 'x', 100)` or `MyClass.x = 100`\n",
    "    - `MyClass` now has a `new` attribute named `x` with a state of `100`\n",
    "    - `getattr(MyClass, 'x')` or `MyClass.x` # returns `100`\n",
    "-------------------------------------------------------------------------\n",
    "- `Where is the state stored ?`  \n",
    "    - in a dictionary\n",
    "    - `MyClass.__dict__`\n",
    "    - mappingproxy({'__module__':'__main__',\n",
    "                    'language' : 'Python',\n",
    "                    'version' : '3.6',\n",
    "                    '__dict__': <attribute '__dict__' of 'MyClass' objects>,\n",
    "                    '__weakref__': <attribute '__weakref__' of 'MyClass' objects>,\n",
    "                    '__doc__' : None})\n",
    "     - `mappingproxy` is not directly mutable dictionary (but `setattr` can)\n",
    "     - `mappingproxy` ensures keys are strings (helps speed things up for Python)                \n",
    "-----------------------------------------------------------------------------\n",
    "- `Mutating Attributes`\n",
    "    - we can modify the state or create a brand new attribute using `setattr` using the dot notation, We can then mutate MyClass.\n",
    "    - `setattr(MyClass, 'x', 100)` or `MyClass.x = 100` and this is reflected in the namespace. MyClass.__dict__                                          \n",
    "    - mappingproxy({'__module__':'__main__',\n",
    "                    'language' : 'Python',\n",
    "                    'version' : '3.6',\n",
    "                    'x' : 100,\n",
    "                    '__dict__': <attribute '__dict__' of 'MyClass' objects>,\n",
    "                    '__weakref__': <attribute '__weakref__' of 'MyClass' objects>,\n",
    "                    '__doc__' : None})    \n",
    "      \n",
    "-----------------------------------------------------------------------------\n",
    "- `Deleting Attributes`\n",
    "    - So if we can mutate the namespace at runtime by using `setattr` (or equivalent dot notation)\n",
    "    - Can we `remove` an attribute at runtime?\n",
    "    - `Yes`(usually) \n",
    "        - `delattr(obj_symbol, attribute_name)` or `del keyword`\n",
    "    - `delattr(MyClass, 'version')` or `del MyClass.version` \n",
    "    - mappingproxy({'__module__':'__main__',\n",
    "                    'language' : 'Python', \n",
    "                    'x' : 100,\n",
    "                    '__dict__': <attribute '__dict__' of 'MyClass' objects>,\n",
    "                    '__weakref__': <attribute '__weakref__' of 'MyClass' objects>,\n",
    "                    '__doc__' : None})\n",
    "    - `version` has been removed from namespace\n",
    "    \n",
    "-----------------------------------------------------------------------------\n",
    "- `Accessing the Namespace Directly`\n",
    "    - The class namespace uses a dictionary, which we can request using the `__dict__` attribute of the class\n",
    "    - The `__dict__` attribute of a `class` returns a `mappingproxy` object\n",
    "    - Although this is not a `dict`, it is still a *hash map* (dictionary), so we can at least read\n",
    "    access the class namespace directly - not common practice\n",
    "    - `MyClass.language`                   # 'Python'\n",
    "    - `getattr(MyClass, 'language')`       # 'Python'\n",
    "    - `MyClass.__dict__['language']`       # 'Python'\n",
    "    \n",
    "    - Be careful with this, sometimes classes have attributes that don't show up in that dictionary                        \n",
    "   \n",
    "</p>"
   ]
  },
  {
   "cell_type": "code",
   "execution_count": 1,
   "outputs": [],
   "source": [
    "class Person:\n",
    "    pass\n"
   ],
   "metadata": {
    "collapsed": false,
    "pycharm": {
     "name": "#%%\n",
     "is_executing": false
    }
   }
  },
  {
   "cell_type": "code",
   "execution_count": 2,
   "outputs": [
    {
     "data": {
      "text/plain": "'Person'"
     },
     "metadata": {},
     "output_type": "execute_result",
     "execution_count": 2
    }
   ],
   "source": [
    "Person.__name__"
   ],
   "metadata": {
    "collapsed": false,
    "pycharm": {
     "name": "#%%\n",
     "is_executing": false
    }
   }
  },
  {
   "cell_type": "code",
   "execution_count": 3,
   "outputs": [],
   "source": [
    "class Program:\n",
    "    language = 'Python'\n",
    "    version = '3.6'"
   ],
   "metadata": {
    "collapsed": false,
    "pycharm": {
     "name": "#%%\n",
     "is_executing": false
    }
   }
  },
  {
   "cell_type": "code",
   "execution_count": 4,
   "outputs": [
    {
     "data": {
      "text/plain": "'Program'"
     },
     "metadata": {},
     "output_type": "execute_result",
     "execution_count": 4
    }
   ],
   "source": [
    "Program.__name__"
   ],
   "metadata": {
    "collapsed": false,
    "pycharm": {
     "name": "#%%\n",
     "is_executing": false
    }
   }
  },
  {
   "cell_type": "code",
   "execution_count": 5,
   "outputs": [
    {
     "data": {
      "text/plain": "type"
     },
     "metadata": {},
     "output_type": "execute_result",
     "execution_count": 5
    }
   ],
   "source": [
    "type(Program)"
   ],
   "metadata": {
    "collapsed": false,
    "pycharm": {
     "name": "#%%\n",
     "is_executing": false
    }
   }
  },
  {
   "cell_type": "code",
   "execution_count": 6,
   "outputs": [
    {
     "data": {
      "text/plain": "'Python'"
     },
     "metadata": {},
     "output_type": "execute_result",
     "execution_count": 6
    }
   ],
   "source": [
    "Program.language"
   ],
   "metadata": {
    "collapsed": false,
    "pycharm": {
     "name": "#%%\n",
     "is_executing": false
    }
   }
  },
  {
   "cell_type": "code",
   "execution_count": 7,
   "outputs": [
    {
     "data": {
      "text/plain": "'3.6'"
     },
     "metadata": {},
     "output_type": "execute_result",
     "execution_count": 7
    }
   ],
   "source": [
    "Program.version\n"
   ],
   "metadata": {
    "collapsed": false,
    "pycharm": {
     "name": "#%%\n",
     "is_executing": false
    }
   }
  },
  {
   "cell_type": "code",
   "execution_count": 10,
   "outputs": [],
   "source": [
    "Program.version = '3.7'"
   ],
   "metadata": {
    "collapsed": false,
    "pycharm": {
     "name": "#%%\n",
     "is_executing": false
    }
   }
  },
  {
   "cell_type": "code",
   "execution_count": 11,
   "outputs": [
    {
     "data": {
      "text/plain": "'3.7'"
     },
     "metadata": {},
     "output_type": "execute_result",
     "execution_count": 11
    }
   ],
   "source": [
    "Program.version"
   ],
   "metadata": {
    "collapsed": false,
    "pycharm": {
     "name": "#%%\n",
     "is_executing": false
    }
   }
  },
  {
   "cell_type": "code",
   "execution_count": 12,
   "outputs": [
    {
     "data": {
      "text/plain": "'3.7'"
     },
     "metadata": {},
     "output_type": "execute_result",
     "execution_count": 12
    }
   ],
   "source": [
    "getattr(Program, 'version')"
   ],
   "metadata": {
    "collapsed": false,
    "pycharm": {
     "name": "#%%\n",
     "is_executing": false
    }
   }
  },
  {
   "cell_type": "code",
   "execution_count": 13,
   "outputs": [],
   "source": [
    "setattr(Program, 'version', '3.6')"
   ],
   "metadata": {
    "collapsed": false,
    "pycharm": {
     "name": "#%%\n",
     "is_executing": false
    }
   }
  },
  {
   "cell_type": "code",
   "execution_count": 14,
   "outputs": [
    {
     "data": {
      "text/plain": "'3.6'"
     },
     "metadata": {},
     "output_type": "execute_result",
     "execution_count": 14
    }
   ],
   "source": [
    "getattr(Program, 'version')"
   ],
   "metadata": {
    "collapsed": false,
    "pycharm": {
     "name": "#%%\n",
     "is_executing": false
    }
   }
  },
  {
   "cell_type": "code",
   "execution_count": 15,
   "outputs": [
    {
     "traceback": [
      "\u001b[1;31m---------------------------------------------------------------------------\u001b[0m",
      "\u001b[1;31mAttributeError\u001b[0m                            Traceback (most recent call last)",
      "\u001b[1;32m<ipython-input-15-4cb7ae831cf6>\u001b[0m in \u001b[0;36m<module>\u001b[1;34m\u001b[0m\n\u001b[1;32m----> 1\u001b[1;33m \u001b[0mgetattr\u001b[0m\u001b[1;33m(\u001b[0m\u001b[0mProgram\u001b[0m\u001b[1;33m,\u001b[0m \u001b[1;34m'x'\u001b[0m\u001b[1;33m)\u001b[0m\u001b[1;33m\u001b[0m\u001b[1;33m\u001b[0m\u001b[0m\n\u001b[0m\u001b[0;32m      2\u001b[0m \u001b[1;33m\u001b[0m\u001b[0m\n",
      "\u001b[1;31mAttributeError\u001b[0m: type object 'Program' has no attribute 'x'"
     ],
     "ename": "AttributeError",
     "evalue": "type object 'Program' has no attribute 'x'",
     "output_type": "error"
    }
   ],
   "source": [
    "getattr(Program, 'x')"
   ],
   "metadata": {
    "collapsed": false,
    "pycharm": {
     "name": "#%%\n",
     "is_executing": false
    }
   }
  },
  {
   "cell_type": "code",
   "execution_count": 16,
   "outputs": [
    {
     "data": {
      "text/plain": "'N/A'"
     },
     "metadata": {},
     "output_type": "execute_result",
     "execution_count": 16
    }
   ],
   "source": [
    "getattr(Program, 'x', 'N/A')\n",
    "\n"
   ],
   "metadata": {
    "collapsed": false,
    "pycharm": {
     "name": "#%%\n",
     "is_executing": false
    }
   }
  },
  {
   "cell_type": "code",
   "execution_count": 17,
   "outputs": [
    {
     "data": {
      "text/plain": "'N/A'"
     },
     "metadata": {},
     "output_type": "execute_result",
     "execution_count": 17
    }
   ],
   "source": [
    "getattr('hello', 'x', 'N/A')\n",
    "\n"
   ],
   "metadata": {
    "collapsed": false,
    "pycharm": {
     "name": "#%%\n",
     "is_executing": false
    }
   }
  },
  {
   "cell_type": "code",
   "execution_count": 18,
   "outputs": [],
   "source": [
    "Program.x = 100"
   ],
   "metadata": {
    "collapsed": false,
    "pycharm": {
     "name": "#%%\n",
     "is_executing": false
    }
   }
  },
  {
   "cell_type": "code",
   "execution_count": 19,
   "outputs": [
    {
     "data": {
      "text/plain": "(100, 100)"
     },
     "metadata": {},
     "output_type": "execute_result",
     "execution_count": 19
    }
   ],
   "source": [
    "Program.x, getattr(Program, 'x')"
   ],
   "metadata": {
    "collapsed": false,
    "pycharm": {
     "name": "#%%\n",
     "is_executing": false
    }
   }
  },
  {
   "cell_type": "code",
   "execution_count": 20,
   "outputs": [],
   "source": [
    "a = 'hello'"
   ],
   "metadata": {
    "collapsed": false,
    "pycharm": {
     "name": "#%%\n",
     "is_executing": false
    }
   }
  },
  {
   "cell_type": "code",
   "execution_count": 21,
   "outputs": [
    {
     "traceback": [
      "\u001b[1;31m---------------------------------------------------------------------------\u001b[0m",
      "\u001b[1;31mAttributeError\u001b[0m                            Traceback (most recent call last)",
      "\u001b[1;32m<ipython-input-21-c58f0eea034f>\u001b[0m in \u001b[0;36m<module>\u001b[1;34m\u001b[0m\n\u001b[1;32m----> 1\u001b[1;33m \u001b[0ma\u001b[0m\u001b[1;33m.\u001b[0m\u001b[0mx\u001b[0m \u001b[1;33m=\u001b[0m \u001b[1;36m100\u001b[0m\u001b[1;33m\u001b[0m\u001b[1;33m\u001b[0m\u001b[0m\n\u001b[0m\u001b[0;32m      2\u001b[0m \u001b[1;33m\u001b[0m\u001b[0m\n",
      "\u001b[1;31mAttributeError\u001b[0m: 'str' object has no attribute 'x'"
     ],
     "ename": "AttributeError",
     "evalue": "'str' object has no attribute 'x'",
     "output_type": "error"
    }
   ],
   "source": [
    "a.x = 100"
   ],
   "metadata": {
    "collapsed": false,
    "pycharm": {
     "name": "#%%\n",
     "is_executing": false
    }
   }
  },
  {
   "cell_type": "code",
   "execution_count": 22,
   "outputs": [
    {
     "traceback": [
      "\u001b[1;31m---------------------------------------------------------------------------\u001b[0m",
      "\u001b[1;31mTypeError\u001b[0m                                 Traceback (most recent call last)",
      "\u001b[1;32m<ipython-input-22-8b0378392885>\u001b[0m in \u001b[0;36m<module>\u001b[1;34m\u001b[0m\n\u001b[1;32m----> 1\u001b[1;33m \u001b[0mstr\u001b[0m\u001b[1;33m.\u001b[0m\u001b[0mx\u001b[0m \u001b[1;33m=\u001b[0m \u001b[1;36m100\u001b[0m \u001b[1;31m# this is not going to work\u001b[0m\u001b[1;33m\u001b[0m\u001b[1;33m\u001b[0m\u001b[0m\n\u001b[0m\u001b[0;32m      2\u001b[0m \u001b[1;33m\u001b[0m\u001b[0m\n\u001b[0;32m      3\u001b[0m \u001b[1;33m\u001b[0m\u001b[0m\n",
      "\u001b[1;31mTypeError\u001b[0m: can't set attributes of built-in/extension type 'str'"
     ],
     "ename": "TypeError",
     "evalue": "can't set attributes of built-in/extension type 'str'",
     "output_type": "error"
    }
   ],
   "source": [
    "str.x = 100 # this is not going to work\n"
   ],
   "metadata": {
    "collapsed": false,
    "pycharm": {
     "name": "#%%\n",
     "is_executing": false
    }
   }
  },
  {
   "cell_type": "code",
   "execution_count": 23,
   "outputs": [
    {
     "data": {
      "text/plain": "mappingproxy({'__module__': '__main__',\n              'language': 'Python',\n              'version': '3.6',\n              '__dict__': <attribute '__dict__' of 'Program' objects>,\n              '__weakref__': <attribute '__weakref__' of 'Program' objects>,\n              '__doc__': None,\n              'x': 100})"
     },
     "metadata": {},
     "output_type": "execute_result",
     "execution_count": 23
    }
   ],
   "source": [
    "Program.__dict__"
   ],
   "metadata": {
    "collapsed": false,
    "pycharm": {
     "name": "#%%\n",
     "is_executing": false
    }
   }
  },
  {
   "cell_type": "code",
   "execution_count": 24,
   "outputs": [],
   "source": [
    "setattr(Program, 'x', -100)        \n",
    "\n"
   ],
   "metadata": {
    "collapsed": false,
    "pycharm": {
     "name": "#%%\n",
     "is_executing": false
    }
   }
  },
  {
   "cell_type": "code",
   "execution_count": 25,
   "outputs": [
    {
     "data": {
      "text/plain": "mappingproxy({'__module__': '__main__',\n              'language': 'Python',\n              'version': '3.6',\n              '__dict__': <attribute '__dict__' of 'Program' objects>,\n              '__weakref__': <attribute '__weakref__' of 'Program' objects>,\n              '__doc__': None,\n              'x': -100})"
     },
     "metadata": {},
     "output_type": "execute_result",
     "execution_count": 25
    }
   ],
   "source": [
    "Program.__dict__"
   ],
   "metadata": {
    "collapsed": false,
    "pycharm": {
     "name": "#%%\n",
     "is_executing": false
    }
   }
  },
  {
   "cell_type": "code",
   "execution_count": 26,
   "outputs": [],
   "source": [
    "delattr(Program, 'x')\n",
    "\n"
   ],
   "metadata": {
    "collapsed": false,
    "pycharm": {
     "name": "#%%\n",
     "is_executing": false
    }
   }
  },
  {
   "cell_type": "code",
   "execution_count": 27,
   "outputs": [
    {
     "data": {
      "text/plain": "mappingproxy({'__module__': '__main__',\n              'language': 'Python',\n              'version': '3.6',\n              '__dict__': <attribute '__dict__' of 'Program' objects>,\n              '__weakref__': <attribute '__weakref__' of 'Program' objects>,\n              '__doc__': None})"
     },
     "metadata": {},
     "output_type": "execute_result",
     "execution_count": 27
    }
   ],
   "source": [
    "Program.__dict__"
   ],
   "metadata": {
    "collapsed": false,
    "pycharm": {
     "name": "#%%\n",
     "is_executing": false
    }
   }
  },
  {
   "cell_type": "code",
   "execution_count": 28,
   "outputs": [],
   "source": [
    "Program.y = 'hello'\n",
    "\n"
   ],
   "metadata": {
    "collapsed": false,
    "pycharm": {
     "name": "#%%\n",
     "is_executing": false
    }
   }
  },
  {
   "cell_type": "code",
   "execution_count": 29,
   "outputs": [
    {
     "data": {
      "text/plain": "mappingproxy({'__module__': '__main__',\n              'language': 'Python',\n              'version': '3.6',\n              '__dict__': <attribute '__dict__' of 'Program' objects>,\n              '__weakref__': <attribute '__weakref__' of 'Program' objects>,\n              '__doc__': None,\n              'y': 'hello'})"
     },
     "metadata": {},
     "output_type": "execute_result",
     "execution_count": 29
    }
   ],
   "source": [
    "Program.__dict__"
   ],
   "metadata": {
    "collapsed": false,
    "pycharm": {
     "name": "#%%\n",
     "is_executing": false
    }
   }
  },
  {
   "cell_type": "code",
   "execution_count": 30,
   "outputs": [],
   "source": [
    "del Program.y # remove the attribute y from the dictionary state\n",
    "\n"
   ],
   "metadata": {
    "collapsed": false,
    "pycharm": {
     "name": "#%%\n",
     "is_executing": false
    }
   }
  },
  {
   "cell_type": "code",
   "execution_count": 31,
   "outputs": [
    {
     "data": {
      "text/plain": "mappingproxy({'__module__': '__main__',\n              'language': 'Python',\n              'version': '3.6',\n              '__dict__': <attribute '__dict__' of 'Program' objects>,\n              '__weakref__': <attribute '__weakref__' of 'Program' objects>,\n              '__doc__': None})"
     },
     "metadata": {},
     "output_type": "execute_result",
     "execution_count": 31
    }
   ],
   "source": [
    "Program.__dict__"
   ],
   "metadata": {
    "collapsed": false,
    "pycharm": {
     "name": "#%%\n",
     "is_executing": false
    }
   }
  },
  {
   "cell_type": "code",
   "execution_count": 32,
   "outputs": [
    {
     "data": {
      "text/plain": "'Python'"
     },
     "metadata": {},
     "output_type": "execute_result",
     "execution_count": 32
    }
   ],
   "source": [
    "Program.__dict__['language']\n",
    "\n"
   ],
   "metadata": {
    "collapsed": false,
    "pycharm": {
     "name": "#%%\n",
     "is_executing": false
    }
   }
  },
  {
   "cell_type": "code",
   "execution_count": 33,
   "outputs": [
    {
     "data": {
      "text/plain": "[('__module__', '__main__'),\n ('language', 'Python'),\n ('version', '3.6'),\n ('__dict__', <attribute '__dict__' of 'Program' objects>),\n ('__weakref__', <attribute '__weakref__' of 'Program' objects>),\n ('__doc__', None)]"
     },
     "metadata": {},
     "output_type": "execute_result",
     "execution_count": 33
    }
   ],
   "source": [
    "list(Program.__dict__.items())\n",
    "\n"
   ],
   "metadata": {
    "collapsed": false,
    "pycharm": {
     "name": "#%%\n",
     "is_executing": false
    }
   }
  },
  {
   "cell_type": "code",
   "execution_count": 34,
   "outputs": [
    {
     "traceback": [
      "\u001b[1;31m---------------------------------------------------------------------------\u001b[0m",
      "\u001b[1;31mTypeError\u001b[0m                                 Traceback (most recent call last)",
      "\u001b[1;32m<ipython-input-34-638ea687e953>\u001b[0m in \u001b[0;36m<module>\u001b[1;34m\u001b[0m\n\u001b[1;32m----> 1\u001b[1;33m \u001b[0mProgram\u001b[0m\u001b[1;33m.\u001b[0m\u001b[0m__dict__\u001b[0m\u001b[1;33m[\u001b[0m\u001b[1;34m'language'\u001b[0m\u001b[1;33m]\u001b[0m \u001b[1;33m=\u001b[0m \u001b[1;34m'Java'\u001b[0m\u001b[1;33m\u001b[0m\u001b[1;33m\u001b[0m\u001b[0m\n\u001b[0m\u001b[0;32m      2\u001b[0m \u001b[1;33m\u001b[0m\u001b[0m\n\u001b[0;32m      3\u001b[0m \u001b[1;33m\u001b[0m\u001b[0m\n",
      "\u001b[1;31mTypeError\u001b[0m: 'mappingproxy' object does not support item assignment"
     ],
     "ename": "TypeError",
     "evalue": "'mappingproxy' object does not support item assignment",
     "output_type": "error"
    }
   ],
   "source": [
    "Program.__dict__['language'] = 'Java'\n",
    "\n"
   ],
   "metadata": {
    "collapsed": false,
    "pycharm": {
     "name": "#%%\n",
     "is_executing": false
    }
   }
  },
  {
   "cell_type": "code",
   "execution_count": 35,
   "outputs": [
    {
     "data": {
      "text/plain": "'Program'"
     },
     "metadata": {},
     "output_type": "execute_result",
     "execution_count": 35
    }
   ],
   "source": [
    "Program.__name__ # yet it is not in the dictionary"
   ],
   "metadata": {
    "collapsed": false,
    "pycharm": {
     "name": "#%%\n",
     "is_executing": false
    }
   }
  },
  {
   "cell_type": "code",
   "execution_count": null,
   "outputs": [],
   "source": [
    "\n"
   ],
   "metadata": {
    "collapsed": false,
    "pycharm": {
     "name": "#%%\n"
    }
   }
  }
 ],
 "metadata": {
  "kernelspec": {
   "display_name": "Python 3",
   "language": "python",
   "name": "python3"
  },
  "language_info": {
   "codemirror_mode": {
    "name": "ipython",
    "version": 2
   },
   "file_extension": ".py",
   "mimetype": "text/x-python",
   "name": "python",
   "nbconvert_exporter": "python",
   "pygments_lexer": "ipython2",
   "version": "2.7.6"
  },
  "pycharm": {
   "stem_cell": {
    "cell_type": "raw",
    "source": [],
    "metadata": {
     "collapsed": false
    }
   }
  }
 },
 "nbformat": 4,
 "nbformat_minor": 0
}