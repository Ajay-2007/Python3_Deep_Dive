{
  "nbformat": 4,
  "nbformat_minor": 0,
  "metadata": {
    "colab": {
      "name": "loops.ipynb",
      "provenance": [],
      "authorship_tag": "ABX9TyPYa9/Nw2uQW0oLH4CgSIKV",
      "include_colab_link": true
    },
    "kernelspec": {
      "name": "python3",
      "display_name": "Python 3"
    }
  },
  "cells": [
    {
      "cell_type": "markdown",
      "metadata": {
        "id": "view-in-github",
        "colab_type": "text"
      },
      "source": [
        "<a href=\"https://colab.research.google.com/github/Ajay-2007/Python3_Deep_Dive/blob/master/loops.ipynb\" target=\"_parent\"><img src=\"https://colab.research.google.com/assets/colab-badge.svg\" alt=\"Open In Colab\"/></a>"
      ]
    },
    {
      "cell_type": "code",
      "metadata": {
        "id": "TAp2wvPRg2FN",
        "outputId": "b208d18c-79ea-45cc-917b-d31ec0fe4c56",
        "colab": {
          "base_uri": "https://localhost:8080/"
        }
      },
      "source": [
        " s = \"abcd\"\n",
        "\n",
        " for c in s:\n",
        "   print(c)"
      ],
      "execution_count": 1,
      "outputs": [
        {
          "output_type": "stream",
          "text": [
            "a\n",
            "b\n",
            "c\n",
            "d\n"
          ],
          "name": "stdout"
        }
      ]
    },
    {
      "cell_type": "code",
      "metadata": {
        "id": "SgdQ8DBXhM6X",
        "outputId": "0a1ab220-51f8-4dfe-f2e3-26986f672136",
        "colab": {
          "base_uri": "https://localhost:8080/"
        }
      },
      "source": [
        "# print num from 1 to n\n",
        "# giving all three values to range\n",
        "n = int(input())\n",
        "\n",
        "for i in range(1, n + 1, 1):\n",
        "  print(i)"
      ],
      "execution_count": 3,
      "outputs": [
        {
          "output_type": "stream",
          "text": [
            "4\n",
            "1\n",
            "2\n",
            "3\n",
            "4\n"
          ],
          "name": "stdout"
        }
      ]
    },
    {
      "cell_type": "code",
      "metadata": {
        "id": "0_k7458NhMJ4",
        "outputId": "674d7561-11fb-40c9-a081-d69e7fc0930b",
        "colab": {
          "base_uri": "https://localhost:8080/"
        }
      },
      "source": [
        "# print num from 1 to n\n",
        "# only one value to range and it uses it as stop and be default 0 for start and 1 for step\n",
        "n = int(input())\n",
        "\n",
        "for i in range(n + 1):\n",
        "  print(i)"
      ],
      "execution_count": 4,
      "outputs": [
        {
          "output_type": "stream",
          "text": [
            "4\n",
            "0\n",
            "1\n",
            "2\n",
            "3\n",
            "4\n"
          ],
          "name": "stdout"
        }
      ]
    },
    {
      "cell_type": "code",
      "metadata": {
        "id": "8dS2nwZahMHh",
        "outputId": "7e1f4228-0e81-4707-b319-9208b43f5f27",
        "colab": {
          "base_uri": "https://localhost:8080/"
        }
      },
      "source": [
        "# print num from 1 to n\n",
        "# only two value to range and it uses the first argument as start and second as stop and step is by default 1\n",
        "n = int(input())\n",
        "\n",
        "for i in range(1, n + 1):\n",
        "  print(i)"
      ],
      "execution_count": 6,
      "outputs": [
        {
          "output_type": "stream",
          "text": [
            "4\n",
            "1\n",
            "2\n",
            "3\n",
            "4\n"
          ],
          "name": "stdout"
        }
      ]
    },
    {
      "cell_type": "code",
      "metadata": {
        "id": "roUWSpg0hMD-",
        "outputId": "f0e655d9-624c-44a6-a6e5-ad92ae31de7d",
        "colab": {
          "base_uri": "https://localhost:8080/"
        }
      },
      "source": [
        "# numbers from n to 1\n",
        "n = int(input())\n",
        "for i in range(n, 1, -1):\n",
        "  print(i)"
      ],
      "execution_count": 7,
      "outputs": [
        {
          "output_type": "stream",
          "text": [
            "4\n",
            "4\n",
            "3\n",
            "2\n"
          ],
          "name": "stdout"
        }
      ]
    },
    {
      "cell_type": "code",
      "metadata": {
        "id": "l7LSZ8tZhL_z",
        "outputId": "c7be8d90-c0b5-4c73-df36-c9e6a439399f",
        "colab": {
          "base_uri": "https://localhost:8080/"
        }
      },
      "source": [
        "# numbers from n to 1\n",
        "n = int(input())\n",
        "for i in range(n, 0, -1):\n",
        "  print(i)"
      ],
      "execution_count": 8,
      "outputs": [
        {
          "output_type": "stream",
          "text": [
            "4\n",
            "4\n",
            "3\n",
            "2\n",
            "1\n"
          ],
          "name": "stdout"
        }
      ]
    },
    {
      "cell_type": "code",
      "metadata": {
        "id": "g97ywbSchL9R",
        "outputId": "1fe0351d-78b7-4c3f-a1c1-bd43e08e47ae",
        "colab": {
          "base_uri": "https://localhost:8080/"
        }
      },
      "source": [
        "# a < b\n",
        "\n",
        "a = int(input())\n",
        "b = int(input())\n",
        "\n",
        "for i in range(a, b + 1, 1):\n",
        "  if i % 3 == 0:\n",
        "    print(i)"
      ],
      "execution_count": 14,
      "outputs": [
        {
          "output_type": "stream",
          "text": [
            "1\n",
            "10\n",
            "3\n",
            "6\n",
            "9\n"
          ],
          "name": "stdout"
        }
      ]
    },
    {
      "cell_type": "code",
      "metadata": {
        "id": "QlHCc8_1hL5-",
        "outputId": "6d0fd63a-d664-4105-c2e3-902f7f56ff49",
        "colab": {
          "base_uri": "https://localhost:8080/"
        }
      },
      "source": [
        "# a < b\n",
        "a = int(input())\n",
        "b = int(input())\n",
        "\n",
        "if a % 3 == 0:\n",
        "  s = a\n",
        "elif a % 3 == 1:\n",
        "  s = a + 2\n",
        "else:\n",
        "  s = a + 1\n",
        "\n",
        "for i in range(s, b + 1, 3):\n",
        "  print(i)"
      ],
      "execution_count": 16,
      "outputs": [
        {
          "output_type": "stream",
          "text": [
            "7\n",
            "100\n",
            "9\n",
            "12\n",
            "15\n",
            "18\n",
            "21\n",
            "24\n",
            "27\n",
            "30\n",
            "33\n",
            "36\n",
            "39\n",
            "42\n",
            "45\n",
            "48\n",
            "51\n",
            "54\n",
            "57\n",
            "60\n",
            "63\n",
            "66\n",
            "69\n",
            "72\n",
            "75\n",
            "78\n",
            "81\n",
            "84\n",
            "87\n",
            "90\n",
            "93\n",
            "96\n",
            "99\n"
          ],
          "name": "stdout"
        }
      ]
    },
    {
      "cell_type": "code",
      "metadata": {
        "id": "SL660LbJhL2X",
        "outputId": "76390715-85fc-4dd9-d365-9bd1e058a06e",
        "colab": {
          "base_uri": "https://localhost:8080/"
        }
      },
      "source": [
        "n = int(input())\n",
        "\n",
        "flag = False\n",
        "for d in range(2, n, 1):\n",
        "  if n % d == 0:\n",
        "    flag = True\n",
        "\n",
        "if flag:\n",
        "  print(\"not prime\")\n",
        "else:\n",
        "  print(\"prime\")"
      ],
      "execution_count": 20,
      "outputs": [
        {
          "output_type": "stream",
          "text": [
            "7\n",
            "prime\n"
          ],
          "name": "stdout"
        }
      ]
    },
    {
      "cell_type": "code",
      "metadata": {
        "id": "yQQHwrmGhLyQ",
        "outputId": "b7c4ad2f-b921-4a51-cb4f-9e0f00315577",
        "colab": {
          "base_uri": "https://localhost:8080/"
        }
      },
      "source": [
        "n = int(input())\n",
        "\n",
        "for i in range(1, n+1, 1):\n",
        "  spaces = \" \" * (n - i)\n",
        "  string = \"\"\n",
        "  for j in range(i, 2*i, 1):\n",
        "    string += str(j)\n",
        "  \n",
        "  for k in range(2*i - 2, i-1, -1):\n",
        "    string += str(k)\n",
        "  \n",
        "  print(spaces + string)\n"
      ],
      "execution_count": 25,
      "outputs": [
        {
          "output_type": "stream",
          "text": [
            "4\n",
            "   1\n",
            "  232\n",
            " 34543\n",
            "4567654\n"
          ],
          "name": "stdout"
        }
      ]
    },
    {
      "cell_type": "code",
      "metadata": {
        "id": "7C6XDjGfhLuU",
        "outputId": "368b1d30-f21f-4846-fdd4-ff938a8bb1f3",
        "colab": {
          "base_uri": "https://localhost:8080/"
        }
      },
      "source": [
        "n = int(input())\n",
        "for i in range(1, n + 1, 1):\n",
        "  for s in range(n - i):\n",
        "    print(\" \", end=\"\")\n",
        "  for j in range(i, 2 * i, 1):\n",
        "    print(j, end=\"\")\n",
        "  for j in range(2*i - 2, i - 1, -1):\n",
        "    print(j, end=\"\")\n",
        "  print()"
      ],
      "execution_count": 27,
      "outputs": [
        {
          "output_type": "stream",
          "text": [
            "4\n",
            "   1\n",
            "  232\n",
            " 34543\n",
            "4567654\n"
          ],
          "name": "stdout"
        }
      ]
    },
    {
      "cell_type": "code",
      "metadata": {
        "id": "plfMeexxhLrh",
        "outputId": "1bbd2406-7756-4701-f7aa-951faacbbde0",
        "colab": {
          "base_uri": "https://localhost:8080/"
        }
      },
      "source": [
        "i = 1\n",
        "while i < 10:\n",
        "  if i == 5:\n",
        "    break\n",
        "  print(i)\n",
        "  i = i + 1"
      ],
      "execution_count": 29,
      "outputs": [
        {
          "output_type": "stream",
          "text": [
            "1\n",
            "2\n",
            "3\n",
            "4\n"
          ],
          "name": "stdout"
        }
      ]
    },
    {
      "cell_type": "markdown",
      "metadata": {
        "id": "c7BvoWhIvB-o"
      },
      "source": [
        "# Break"
      ]
    },
    {
      "cell_type": "code",
      "metadata": {
        "id": "bcsgNxWJhLpN",
        "outputId": "3a2bb7c8-f6a2-4535-f49a-59262e7f89cd",
        "colab": {
          "base_uri": "https://localhost:8080/"
        }
      },
      "source": [
        "n = int(input())\n",
        "d = 2\n",
        "flag = False\n",
        "\n",
        "while d < n:\n",
        "  if n % d == 0:\n",
        "    flag = True\n",
        "    break\n",
        "  d = d + 1\n",
        "\n",
        "if flag:\n",
        "  print(\"not prime\")\n",
        "else:\n",
        "  print(\"prime\")"
      ],
      "execution_count": 37,
      "outputs": [
        {
          "output_type": "stream",
          "text": [
            "12345678\n",
            "not prime\n"
          ],
          "name": "stdout"
        }
      ]
    },
    {
      "cell_type": "code",
      "metadata": {
        "id": "n9IUGNwqhLnM",
        "outputId": "a6154806-73e4-4573-cb2d-a873b2eef2d2",
        "colab": {
          "base_uri": "https://localhost:8080/"
        }
      },
      "source": [
        "n = int(input())\n",
        "flag = False\n",
        "\n",
        "for d in range(2, n, 1):\n",
        "  if n % d == 0:\n",
        "    flag = True\n",
        "    break\n",
        "  \n",
        "if flag:\n",
        "  print(\"not prime\")\n",
        "else:\n",
        "  print(\"prime\")"
      ],
      "execution_count": 38,
      "outputs": [
        {
          "output_type": "stream",
          "text": [
            "10\n",
            "not prime\n"
          ],
          "name": "stdout"
        }
      ]
    },
    {
      "cell_type": "code",
      "metadata": {
        "id": "m6Ilnsufvm8f",
        "outputId": "fcc375fa-c85f-4a0f-80c7-1d280e3982af",
        "colab": {
          "base_uri": "https://localhost:8080/"
        }
      },
      "source": [
        "n = int(input())\n",
        "k = 2\n",
        "while k <= n:\n",
        "  d = 2\n",
        "  flag = False\n",
        "  while d < k:\n",
        "    if k % d == 0:\n",
        "      flag = True\n",
        "      break\n",
        "    d = d + 1\n",
        "  if (not(flag)):\n",
        "    print(k)\n",
        "  k = k + 1"
      ],
      "execution_count": 39,
      "outputs": [
        {
          "output_type": "stream",
          "text": [
            "10\n",
            "2\n",
            "3\n",
            "5\n",
            "7\n"
          ],
          "name": "stdout"
        }
      ]
    },
    {
      "cell_type": "markdown",
      "metadata": {
        "id": "ZAFzXRHtxZyY"
      },
      "source": [
        "# ELSE with Keyword"
      ]
    },
    {
      "cell_type": "code",
      "metadata": {
        "id": "Ase1Rtk0hLi7",
        "outputId": "5b13f43b-0df2-499f-e415-baf3117a4fe3",
        "colab": {
          "base_uri": "https://localhost:8080/"
        }
      },
      "source": [
        "i = 1\n",
        "while i < 10:\n",
        "  print(i)\n",
        "  i = i + 1\n",
        "else:\n",
        "  print(\"this will be printed once at the end\")"
      ],
      "execution_count": 40,
      "outputs": [
        {
          "output_type": "stream",
          "text": [
            "1\n",
            "2\n",
            "3\n",
            "4\n",
            "5\n",
            "6\n",
            "7\n",
            "8\n",
            "9\n",
            "this will be printed once at the end\n"
          ],
          "name": "stdout"
        }
      ]
    },
    {
      "cell_type": "code",
      "metadata": {
        "id": "RKuZbbeUhLgO",
        "outputId": "dfcaf1d6-59fa-42a8-e41a-f62f76364e2c",
        "colab": {
          "base_uri": "https://localhost:8080/"
        }
      },
      "source": [
        "for i in range(1, 10):\n",
        "  print(i)\n",
        "else:\n",
        "  print(\"this will also be printed once at the end\")"
      ],
      "execution_count": 42,
      "outputs": [
        {
          "output_type": "stream",
          "text": [
            "1\n",
            "2\n",
            "3\n",
            "4\n",
            "5\n",
            "6\n",
            "7\n",
            "8\n",
            "9\n",
            "this will also be printed once at the end\n"
          ],
          "name": "stdout"
        }
      ]
    },
    {
      "cell_type": "code",
      "metadata": {
        "id": "daqhj0MZhLd-",
        "outputId": "346fce28-79f8-483f-aaf1-b0a94fe9216a",
        "colab": {
          "base_uri": "https://localhost:8080/"
        }
      },
      "source": [
        "for i in range(1, 10):\n",
        "  if i == 5:\n",
        "    break \n",
        "  print(i)\n",
        "else:\n",
        "  print(\"this will also be printed once at the end\")"
      ],
      "execution_count": 43,
      "outputs": [
        {
          "output_type": "stream",
          "text": [
            "1\n",
            "2\n",
            "3\n",
            "4\n"
          ],
          "name": "stdout"
        }
      ]
    },
    {
      "cell_type": "code",
      "metadata": {
        "id": "EheX2MpQhLaJ",
        "outputId": "0b263c30-6151-4bf4-bb0e-954863e8ace9",
        "colab": {
          "base_uri": "https://localhost:8080/"
        }
      },
      "source": [
        "n = int(input())\n",
        "for d in range(2, n, 1):\n",
        "  if n % d == 0:\n",
        "    break\n",
        "else:\n",
        "  print(\"prime number\")"
      ],
      "execution_count": 45,
      "outputs": [
        {
          "output_type": "stream",
          "text": [
            "13\n",
            "prime number\n"
          ],
          "name": "stdout"
        }
      ]
    },
    {
      "cell_type": "markdown",
      "metadata": {
        "id": "W5Ztvy5A0IXD"
      },
      "source": [
        "# `continue` keyword"
      ]
    },
    {
      "cell_type": "code",
      "metadata": {
        "id": "HEi6AQLEz3Fc",
        "outputId": "8bbb58ca-5e38-44f6-b5b8-2f3df8f29468",
        "colab": {
          "base_uri": "https://localhost:8080/"
        }
      },
      "source": [
        "n = int(input())\n",
        "for i in range(2, n + 1, 2):\n",
        "  if i % 7 == 0:\n",
        "    continue\n",
        "  print(i)"
      ],
      "execution_count": 48,
      "outputs": [
        {
          "output_type": "stream",
          "text": [
            "100\n",
            "2\n",
            "4\n",
            "6\n",
            "8\n",
            "10\n",
            "12\n",
            "16\n",
            "18\n",
            "20\n",
            "22\n",
            "24\n",
            "26\n",
            "30\n",
            "32\n",
            "34\n",
            "36\n",
            "38\n",
            "40\n",
            "44\n",
            "46\n",
            "48\n",
            "50\n",
            "52\n",
            "54\n",
            "58\n",
            "60\n",
            "62\n",
            "64\n",
            "66\n",
            "68\n",
            "72\n",
            "74\n",
            "76\n",
            "78\n",
            "80\n",
            "82\n",
            "86\n",
            "88\n",
            "90\n",
            "92\n",
            "94\n",
            "96\n",
            "100\n"
          ],
          "name": "stdout"
        }
      ]
    },
    {
      "cell_type": "code",
      "metadata": {
        "id": "3y3ux9Rz1gys",
        "outputId": "87fa9475-8072-4e72-cb99-56fb309960be",
        "colab": {
          "base_uri": "https://localhost:8080/"
        }
      },
      "source": [
        "n = int(input())\n",
        "for i in range(2, n + 1, 2):\n",
        "  print(i)\n",
        "  if i % 7 == 0:\n",
        "    continue\n",
        "  print(i)"
      ],
      "execution_count": 50,
      "outputs": [
        {
          "output_type": "stream",
          "text": [
            "100\n",
            "2\n",
            "2\n",
            "4\n",
            "4\n",
            "6\n",
            "6\n",
            "8\n",
            "8\n",
            "10\n",
            "10\n",
            "12\n",
            "12\n",
            "14\n",
            "16\n",
            "16\n",
            "18\n",
            "18\n",
            "20\n",
            "20\n",
            "22\n",
            "22\n",
            "24\n",
            "24\n",
            "26\n",
            "26\n",
            "28\n",
            "30\n",
            "30\n",
            "32\n",
            "32\n",
            "34\n",
            "34\n",
            "36\n",
            "36\n",
            "38\n",
            "38\n",
            "40\n",
            "40\n",
            "42\n",
            "44\n",
            "44\n",
            "46\n",
            "46\n",
            "48\n",
            "48\n",
            "50\n",
            "50\n",
            "52\n",
            "52\n",
            "54\n",
            "54\n",
            "56\n",
            "58\n",
            "58\n",
            "60\n",
            "60\n",
            "62\n",
            "62\n",
            "64\n",
            "64\n",
            "66\n",
            "66\n",
            "68\n",
            "68\n",
            "70\n",
            "72\n",
            "72\n",
            "74\n",
            "74\n",
            "76\n",
            "76\n",
            "78\n",
            "78\n",
            "80\n",
            "80\n",
            "82\n",
            "82\n",
            "84\n",
            "86\n",
            "86\n",
            "88\n",
            "88\n",
            "90\n",
            "90\n",
            "92\n",
            "92\n",
            "94\n",
            "94\n",
            "96\n",
            "96\n",
            "98\n",
            "100\n",
            "100\n"
          ],
          "name": "stdout"
        }
      ]
    },
    {
      "cell_type": "code",
      "metadata": {
        "id": "jUb7SyvD13oK",
        "outputId": "8e4af375-b86c-49c3-b495-8c25a70a283b",
        "colab": {
          "base_uri": "https://localhost:8080/"
        }
      },
      "source": [
        "n = int(input())\n",
        "i = 2\n",
        "while i <= n:\n",
        "  if i % 7 == 0:\n",
        "    i = i + 2\n",
        "    continue\n",
        "  print(i)\n",
        "  i = i + 2"
      ],
      "execution_count": 54,
      "outputs": [
        {
          "output_type": "stream",
          "text": [
            "100\n",
            "2\n",
            "4\n",
            "6\n",
            "8\n",
            "10\n",
            "12\n",
            "16\n",
            "18\n",
            "20\n",
            "22\n",
            "24\n",
            "26\n",
            "30\n",
            "32\n",
            "34\n",
            "36\n",
            "38\n",
            "40\n",
            "44\n",
            "46\n",
            "48\n",
            "50\n",
            "52\n",
            "54\n",
            "58\n",
            "60\n",
            "62\n",
            "64\n",
            "66\n",
            "68\n",
            "72\n",
            "74\n",
            "76\n",
            "78\n",
            "80\n",
            "82\n",
            "86\n",
            "88\n",
            "90\n",
            "92\n",
            "94\n",
            "96\n",
            "100\n"
          ],
          "name": "stdout"
        }
      ]
    },
    {
      "cell_type": "markdown",
      "metadata": {
        "id": "c0Yg5R8P3cFB"
      },
      "source": [
        "# `pass` Keyword"
      ]
    },
    {
      "cell_type": "code",
      "metadata": {
        "id": "RtkmXW9M2eln",
        "outputId": "b867c683-067e-48ca-da22-c285f5d18d61",
        "colab": {
          "base_uri": "https://localhost:8080/"
        }
      },
      "source": [
        "i = 3\n",
        "if i < 7:\n",
        "  pass\n",
        "\n",
        "print(\"hey\")\n"
      ],
      "execution_count": 57,
      "outputs": [
        {
          "output_type": "stream",
          "text": [
            "hey\n"
          ],
          "name": "stdout"
        }
      ]
    },
    {
      "cell_type": "code",
      "metadata": {
        "id": "nZf2D89b3o2Q",
        "outputId": "98cd7600-8e6c-4d0e-faa3-ea05aa8c85c7",
        "colab": {
          "base_uri": "https://localhost:8080/"
        }
      },
      "source": [
        "i = 1\n",
        "while i <= 3:\n",
        "  pass\n",
        "  i = i + 1\n",
        "print(\"end\")"
      ],
      "execution_count": 59,
      "outputs": [
        {
          "output_type": "stream",
          "text": [
            "end\n"
          ],
          "name": "stdout"
        }
      ]
    },
    {
      "cell_type": "code",
      "metadata": {
        "id": "B9iKbQ414FSg",
        "outputId": "1b5f97a0-f59a-48d6-bc02-41ded5a81a15",
        "colab": {
          "base_uri": "https://localhost:8080/"
        }
      },
      "source": [
        "for i in range(1, 4):\n",
        "  pass\n",
        "\n",
        "print(\"end\")"
      ],
      "execution_count": 60,
      "outputs": [
        {
          "output_type": "stream",
          "text": [
            "end\n"
          ],
          "name": "stdout"
        }
      ]
    },
    {
      "cell_type": "code",
      "metadata": {
        "id": "4qljSx7s4OEZ"
      },
      "source": [
        ""
      ],
      "execution_count": null,
      "outputs": []
    }
  ]
}