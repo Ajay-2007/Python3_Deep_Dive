{
 "cells": [
  {
   "cell_type": "code",
   "execution_count": 1,
   "metadata": {},
   "outputs": [],
   "source": [
    "a = [1, 3, 7, 18, 20, 21, 28, 32]\n",
    "\n",
    "ele = 20\n",
    "\n",
    "def binary_search(a, ele):\n",
    "    l = 0\n",
    "    r = len(a)\n",
    "    while l < r:\n",
    "        mid = l + (r - l) // 2\n",
    "        if a[mid] == ele:\n",
    "            return mid\n",
    "            break\n",
    "        elif a[mid] > ele:\n",
    "            r = mid - 1\n",
    "        else:\n",
    "            l = mid + 1\n",
    "            \n",
    "    return -1\n"
   ]
  },
  {
   "cell_type": "code",
   "execution_count": 2,
   "metadata": {},
   "outputs": [
    {
     "data": {
      "text/plain": [
       "4"
      ]
     },
     "execution_count": 2,
     "metadata": {},
     "output_type": "execute_result"
    }
   ],
   "source": [
    "binary_search(a, ele)"
   ]
  },
  {
   "cell_type": "code",
   "execution_count": 24,
   "metadata": {},
   "outputs": [],
   "source": [
    "def selection_sort(a):\n",
    "    length = len(a)\n",
    "    for i in range(length):\n",
    "        min = a[i]\n",
    "        for j in range(i+1, length):\n",
    "            if a[j] < min:\n",
    "                min = a[j]\n",
    "                a[j] = a[i]\n",
    "                a[i] = min\n",
    "            \n",
    "    return a\n",
    "                "
   ]
  },
  {
   "cell_type": "code",
   "execution_count": 25,
   "metadata": {},
   "outputs": [
    {
     "data": {
      "text/plain": [
       "[1, 2, 3, 5, 6]"
      ]
     },
     "execution_count": 25,
     "metadata": {},
     "output_type": "execute_result"
    }
   ],
   "source": [
    "selection_sort([1, 5, 3, 2, 6])"
   ]
  },
  {
   "cell_type": "code",
   "execution_count": 30,
   "metadata": {},
   "outputs": [],
   "source": [
    "def selection_sort(a):\n",
    "    length = len(a)\n",
    "    for i in range(length):\n",
    "        min_index =  i\n",
    "        for j in range(i + 1, length):\n",
    "            if a[j] < a[min_index]:\n",
    "                min_index = j\n",
    "        else:\n",
    "            a[i], a[min_index] = a[min_index], a[i]\n",
    "    return a"
   ]
  },
  {
   "cell_type": "code",
   "execution_count": 31,
   "metadata": {},
   "outputs": [
    {
     "data": {
      "text/plain": [
       "[1, 2, 3, 4]"
      ]
     },
     "execution_count": 31,
     "metadata": {},
     "output_type": "execute_result"
    }
   ],
   "source": [
    "selection_sort([2, 3, 1, 4])"
   ]
  },
  {
   "cell_type": "code",
   "execution_count": 40,
   "metadata": {},
   "outputs": [],
   "source": [
    "def bubble_sort(a):\n",
    "    length = len(a)\n",
    "    for i in range(length-1):\n",
    "        print(length - i - 1)\n",
    "        for j in range(length - i - 1):\n",
    "            if a[j] > a[j+1]:\n",
    "                a[j], a[j+1] = a[j+1], a[j]\n",
    "    \n",
    "    return a"
   ]
  },
  {
   "cell_type": "code",
   "execution_count": 41,
   "metadata": {},
   "outputs": [
    {
     "name": "stdout",
     "output_type": "stream",
     "text": [
      "5\n",
      "4\n",
      "3\n",
      "2\n",
      "1\n"
     ]
    },
    {
     "data": {
      "text/plain": [
       "[1, 2, 3, 4, 8, 9]"
      ]
     },
     "execution_count": 41,
     "metadata": {},
     "output_type": "execute_result"
    }
   ],
   "source": [
    "\n",
    "bubble_sort([2, 3, 1, 4, 9, 8])"
   ]
  },
  {
   "cell_type": "code",
   "execution_count": 110,
   "metadata": {},
   "outputs": [],
   "source": [
    "def insertion_sort(a):\n",
    "    n = len(a)\n",
    "    for i in range(1, n):\n",
    "        k = i\n",
    "        b = a[i]\n",
    "\n",
    "        for j in range(i-1, -1, -1):\n",
    "            if a[i] < a[j]:\n",
    "                a[j+1] = a[j]\n",
    "                k = j\n",
    "        a[k] = b\n",
    "            \n",
    "    return a\n",
    "    "
   ]
  },
  {
   "cell_type": "code",
   "execution_count": 111,
   "metadata": {},
   "outputs": [
    {
     "data": {
      "text/plain": [
       "[2, 3, 1, 4]"
      ]
     },
     "execution_count": 111,
     "metadata": {},
     "output_type": "execute_result"
    }
   ],
   "source": [
    "li = [4, 2, 3, 1]\n",
    "insertion_sort(li)"
   ]
  },
  {
   "cell_type": "code",
   "execution_count": 64,
   "metadata": {},
   "outputs": [
    {
     "name": "stdout",
     "output_type": "stream",
     "text": [
      "[1, 0]\n"
     ]
    }
   ],
   "source": [
    "print(list(range(1, -1, -1)))"
   ]
  },
  {
   "cell_type": "code",
   "execution_count": 139,
   "metadata": {},
   "outputs": [],
   "source": [
    "def merge_two_sorted_array(a, b):\n",
    "    i = 0\n",
    "    j = 0\n",
    "    result = []\n",
    "    while i < len(a) and j < len(b):\n",
    "        print(i, j)\n",
    "        if a[i] < b[j]:\n",
    "            result.append(a[i])\n",
    "            i += 1\n",
    "        else:\n",
    "            result.append(b[j])\n",
    "            j += 1\n",
    "\n",
    "    if i == len(a):\n",
    "        result.extend(b[j:])\n",
    "    if j == len(b):\n",
    "        result.extend(a[i:])\n",
    "     \n",
    "    return result\n",
    "            \n",
    "            "
   ]
  },
  {
   "cell_type": "code",
   "execution_count": 140,
   "metadata": {},
   "outputs": [
    {
     "name": "stdout",
     "output_type": "stream",
     "text": [
      "0 0\n",
      "1 0\n",
      "1 1\n",
      "1 2\n",
      "2 2\n",
      "2 3\n",
      "2 4\n"
     ]
    },
    {
     "data": {
      "text/plain": [
       "[1, 2, 3, 4, 6, 7, 8, 9, 10]"
      ]
     },
     "execution_count": 140,
     "metadata": {},
     "output_type": "execute_result"
    }
   ],
   "source": [
    "merge_two_sorted_array([1, 4, 9, 10], [2, 3, 6, 7, 8])"
   ]
  },
  {
   "cell_type": "code",
   "execution_count": null,
   "metadata": {},
   "outputs": [],
   "source": []
  }
 ],
 "metadata": {
  "kernelspec": {
   "display_name": "Python 3",
   "language": "python",
   "name": "python3"
  },
  "language_info": {
   "codemirror_mode": {
    "name": "ipython",
    "version": 3
   },
   "file_extension": ".py",
   "mimetype": "text/x-python",
   "name": "python",
   "nbconvert_exporter": "python",
   "pygments_lexer": "ipython3",
   "version": "3.8.3"
  }
 },
 "nbformat": 4,
 "nbformat_minor": 4
}
