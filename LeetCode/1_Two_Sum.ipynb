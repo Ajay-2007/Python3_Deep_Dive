{
  "nbformat": 4,
  "nbformat_minor": 0,
  "metadata": {
    "colab": {
      "name": "1.Two_Sum.ipynb",
      "provenance": [],
      "collapsed_sections": []
    },
    "kernelspec": {
      "name": "python3",
      "display_name": "Python 3"
    },
    "language_info": {
      "name": "python"
    }
  },
  "cells": [
    {
      "cell_type": "markdown",
      "metadata": {
        "id": "NRDryN0H3SW3"
      },
      "source": [
        "# Two Sum\n",
        "LeetCode Link - https://leetcode.com/problems/two-sum"
      ]
    },
    {
      "cell_type": "code",
      "metadata": {
        "id": "FBYUMLuFpiDN"
      },
      "source": [
        "# This is a brute force approach with complexity O(n^2)\n",
        "def two_number_sum(arr, value_sum):\n",
        "  ans = []\n",
        "  arr_length = len(arr)\n",
        "  for i, value in enumerate(arr):\n",
        "    # geting difference between value_sum and value\n",
        "    delta_x = value_sum - value\n",
        "    # traversing list from next index of delta_x value to search for next\n",
        "    # value in the list\n",
        "    for j in range(i+1, arr_length):\n",
        "      if delta_x == arr[j]:\n",
        "        # return the list of value\n",
        "        return [value_sum - delta_x, arr[j]]\n",
        "    \n"
      ],
      "execution_count": 18,
      "outputs": []
    },
    {
      "cell_type": "code",
      "metadata": {
        "colab": {
          "base_uri": "https://localhost:8080/"
        },
        "id": "v8pWJiXapi_f",
        "outputId": "54ec8972-b96c-4cd9-b864-81ac39ec4691"
      },
      "source": [
        "two_number_sum([3, 5, -4, 8, 11, 1, -1, 6], 10)"
      ],
      "execution_count": 19,
      "outputs": [
        {
          "output_type": "execute_result",
          "data": {
            "text/plain": [
              "[11, -1]"
            ]
          },
          "metadata": {},
          "execution_count": 19
        }
      ]
    },
    {
      "cell_type": "code",
      "metadata": {
        "id": "fw3swWHVpi8I"
      },
      "source": [
        "# return index of the sum elements\n",
        "def two_number_sum_improved(arr, value_sum):\n",
        "  index_dict = {}\n",
        "  arr_length = len(arr)\n",
        "  for i in range(arr_length):\n",
        "    # if element is in dict and 2*element == value_sum then immediately return the element \n",
        "    if arr[i] in index_dict and arr[i] * 2 == value_sum:\n",
        "      return [index_dict[arr[i], i]]\n",
        "    # initialize the dictionary with index as value and value element as keys\n",
        "    index_dict[arr[i]] = i\n",
        "  \n",
        "  for j in range(arr_length):\n",
        "    # get the difference value from target value_sum\n",
        "    delta_x = value_sum - arr[j]\n",
        "    # see if delta_x value is already in dictionary and if it's 2 multiple is\n",
        "    # not equal to value_sum then return the index values\n",
        "    if index_dict.get(delta_x) and delta_x*2 != value_sum:\n",
        "      return [index_dict[arr[j]], index_dict[delta_x]]"
      ],
      "execution_count": 31,
      "outputs": []
    },
    {
      "cell_type": "code",
      "metadata": {
        "colab": {
          "base_uri": "https://localhost:8080/"
        },
        "id": "xOmkLjrDpi5a",
        "outputId": "6184248c-06ed-4303-cc9b-9fc72484fed3"
      },
      "source": [
        "two_number_sum_improved([3, 5, -4, 8, 11, 1, -1, 6], 10)"
      ],
      "execution_count": 32,
      "outputs": [
        {
          "output_type": "execute_result",
          "data": {
            "text/plain": [
              "[4, 6]"
            ]
          },
          "metadata": {},
          "execution_count": 32
        }
      ]
    }
  ]
}