{
 "cells": [
  {
   "cell_type": "code",
   "execution_count": 1,
   "metadata": {},
   "outputs": [],
   "source": [
    "def sum_n(n):\n",
    "    if n == 0:\n",
    "        return 0\n",
    "    \n",
    "    small_output = sum_n(n-1)\n",
    "    return n + small_output"
   ]
  },
  {
   "cell_type": "code",
   "execution_count": 2,
   "metadata": {},
   "outputs": [
    {
     "data": {
      "text/plain": [
       "15"
      ]
     },
     "execution_count": 2,
     "metadata": {},
     "output_type": "execute_result"
    }
   ],
   "source": [
    "sum_n(5)"
   ]
  },
  {
   "cell_type": "code",
   "execution_count": 3,
   "metadata": {},
   "outputs": [],
   "source": [
    "def fact(n):\n",
    "    if n == 0:\n",
    "        return 1\n",
    "    small_output = fact(n - 1)\n",
    "    return n * small_output"
   ]
  },
  {
   "cell_type": "code",
   "execution_count": 4,
   "metadata": {},
   "outputs": [
    {
     "data": {
      "text/plain": [
       "120"
      ]
     },
     "execution_count": 4,
     "metadata": {},
     "output_type": "execute_result"
    }
   ],
   "source": [
    "fact(5)"
   ]
  },
  {
   "cell_type": "code",
   "execution_count": 5,
   "metadata": {},
   "outputs": [],
   "source": [
    "def from_1_to_n(n):\n",
    "    if n == 0:\n",
    "        return\n",
    "    from_1_to_n(n - 1)\n",
    "    print(n)\n",
    "    return"
   ]
  },
  {
   "cell_type": "code",
   "execution_count": 6,
   "metadata": {},
   "outputs": [
    {
     "name": "stdout",
     "output_type": "stream",
     "text": [
      "1\n",
      "2\n",
      "3\n",
      "4\n",
      "5\n",
      "6\n",
      "7\n",
      "8\n",
      "9\n",
      "10\n"
     ]
    }
   ],
   "source": [
    "from_1_to_n(10)"
   ]
  },
  {
   "cell_type": "code",
   "execution_count": 7,
   "metadata": {},
   "outputs": [],
   "source": [
    "def from_1_to_n(n):\n",
    "    if n == 0:\n",
    "        return\n",
    "    print(n)\n",
    "    from_1_to_n(n - 1)\n",
    "    return"
   ]
  },
  {
   "cell_type": "code",
   "execution_count": 8,
   "metadata": {},
   "outputs": [
    {
     "name": "stdout",
     "output_type": "stream",
     "text": [
      "5\n",
      "4\n",
      "3\n",
      "2\n",
      "1\n"
     ]
    }
   ],
   "source": [
    "from_1_to_n(5)"
   ]
  },
  {
   "cell_type": "code",
   "execution_count": 9,
   "metadata": {},
   "outputs": [],
   "source": [
    "def fib(n):\n",
    "    if n == 1 or n == 2:\n",
    "        return 1\n",
    "    \n",
    "    fib_n_1 = fib(n - 1)\n",
    "    fib_n_2 = fib(n - 2)\n",
    "    output = fib_n_1 + fib_n_2\n",
    "    return output"
   ]
  },
  {
   "cell_type": "code",
   "execution_count": 11,
   "metadata": {},
   "outputs": [
    {
     "data": {
      "text/plain": [
       "3"
      ]
     },
     "execution_count": 11,
     "metadata": {},
     "output_type": "execute_result"
    }
   ],
   "source": [
    "fib(4)"
   ]
  },
  {
   "cell_type": "markdown",
   "metadata": {},
   "source": [
    "### Check if list is sorted or not"
   ]
  },
  {
   "cell_type": "code",
   "execution_count": 1,
   "metadata": {},
   "outputs": [],
   "source": [
    "def is_sorted(a):\n",
    "    l = len(a)\n",
    "    if l == 0 or l == 1:\n",
    "        return True\n",
    "    if a[0] > a[1]:\n",
    "        return False\n",
    "    \n",
    "    is_smaller_list_sorted = is_sorted(a[1:])\n",
    "    \n",
    "    if is_smaller_list_sorted:\n",
    "        return True\n",
    "    else:\n",
    "        return False"
   ]
  },
  {
   "cell_type": "code",
   "execution_count": 2,
   "metadata": {},
   "outputs": [
    {
     "data": {
      "text/plain": [
       "True"
      ]
     },
     "execution_count": 2,
     "metadata": {},
     "output_type": "execute_result"
    }
   ],
   "source": [
    "is_sorted([1, 2, 3 ,4])"
   ]
  },
  {
   "cell_type": "code",
   "execution_count": 3,
   "metadata": {},
   "outputs": [
    {
     "data": {
      "text/plain": [
       "False"
      ]
     },
     "execution_count": 3,
     "metadata": {},
     "output_type": "execute_result"
    }
   ],
   "source": [
    "is_sorted([3, 5, 1, 3])"
   ]
  },
  {
   "cell_type": "code",
   "execution_count": 9,
   "metadata": {},
   "outputs": [
    {
     "data": {
      "text/plain": [
       "0"
      ]
     },
     "execution_count": 9,
     "metadata": {},
     "output_type": "execute_result"
    }
   ],
   "source": [
    "len([])"
   ]
  },
  {
   "cell_type": "code",
   "execution_count": 14,
   "metadata": {},
   "outputs": [],
   "source": [
    "def is_sorted_better(a, si):\n",
    "    l = len(a)\n",
    "    if si == l - 1 or si == l:\n",
    "        return True\n",
    "    if a[si] > a[si + 1]:\n",
    "        return False\n",
    "    is_smaller_sorted = is_sorted_better(a, si + 1)\n",
    "\n",
    "    return is_smaller_sorted\n",
    "    "
   ]
  },
  {
   "cell_type": "code",
   "execution_count": 15,
   "metadata": {},
   "outputs": [
    {
     "data": {
      "text/plain": [
       "False"
      ]
     },
     "execution_count": 15,
     "metadata": {},
     "output_type": "execute_result"
    }
   ],
   "source": [
    "is_sorted_better([1, 2, 3, 4, 2], 0)"
   ]
  },
  {
   "cell_type": "code",
   "execution_count": 33,
   "metadata": {},
   "outputs": [],
   "source": [
    "def first_index_of_number(a, num, si):\n",
    "    l = len(a)\n",
    "    if si == l - 1 or si == l:\n",
    "        if l == 0:\n",
    "            return -1\n",
    "        if a[si] == num:\n",
    "            return si \n",
    "        else:\n",
    "            return -1\n",
    "    \n",
    "    if a[si] == num:\n",
    "        return si\n",
    "    \n",
    "    index = first_index_of_number(a, num, si + 1)\n",
    "    return index"
   ]
  },
  {
   "cell_type": "code",
   "execution_count": 34,
   "metadata": {},
   "outputs": [],
   "source": [
    "a = first_index_of_number([1, 2, 4, 3, 4, 5, 5],4, 0)"
   ]
  },
  {
   "cell_type": "code",
   "execution_count": 35,
   "metadata": {},
   "outputs": [],
   "source": [
    "assert a == 2, \"check for code\""
   ]
  },
  {
   "cell_type": "code",
   "execution_count": 36,
   "metadata": {},
   "outputs": [],
   "source": [
    "assert first_index_of_number([], 2, 0)"
   ]
  },
  {
   "cell_type": "code",
   "execution_count": 37,
   "metadata": {},
   "outputs": [
    {
     "data": {
      "text/plain": [
       "6"
      ]
     },
     "execution_count": 37,
     "metadata": {},
     "output_type": "execute_result"
    }
   ],
   "source": [
    "a = [1, 2, 3, 4, 5, 6, 7, 8, 9, 7]\n",
    "first_index_of_number(a, 7, 0)"
   ]
  },
  {
   "cell_type": "code",
   "execution_count": 40,
   "metadata": {},
   "outputs": [],
   "source": [
    "def first_index(a, x):\n",
    "    l = len(a)\n",
    "    if l == 0:\n",
    "        return -1\n",
    "    \n",
    "    if a[0] == x:\n",
    "        return 0\n",
    "    \n",
    "    smaller_list = a[1:]\n",
    "    smaller_list_output = first_index(smaller_list, x)\n",
    "    \n",
    "    if smaller_list_output == -1:\n",
    "        return -1\n",
    "    else:\n",
    "        var = smaller_list_output + 1\n",
    "        if var > last_index:\n",
    "            last_index = var\n",
    "        \n",
    "        return last_index"
   ]
  },
  {
   "cell_type": "code",
   "execution_count": 59,
   "metadata": {},
   "outputs": [],
   "source": [
    "def last_index(a, num, ans=0):\n",
    "    l = len(a)\n",
    "    \n",
    "    if l == 0:\n",
    "        return -1\n",
    "    \n",
    "    if a[0] == num:\n",
    "        ans = li\n",
    "        return 0\n",
    "    \n",
    "    li = last_index(a[1:], num, ans) + 1\n",
    "    if ans > li:\n",
    "        return ans\n",
    "    return li"
   ]
  },
  {
   "cell_type": "code",
   "execution_count": 66,
   "metadata": {},
   "outputs": [],
   "source": []
  },
  {
   "cell_type": "code",
   "execution_count": 67,
   "metadata": {},
   "outputs": [
    {
     "data": {
      "text/plain": [
       "(3, 3)"
      ]
     },
     "execution_count": 67,
     "metadata": {},
     "output_type": "execute_result"
    }
   ],
   "source": [
    "first_index_of_number([1, 2, 3, 4, 5, 4], 4, 0)"
   ]
  },
  {
   "cell_type": "code",
   "execution_count": 76,
   "metadata": {},
   "outputs": [],
   "source": [
    "def last_index(a, num):\n",
    "    l = len(a)\n",
    "    if l == 0:\n",
    "        return -1\n",
    "#     if l == 1:\n",
    "#         if a[0] != num:\n",
    "#             return -1\n",
    "#         else:\n",
    "#             return 0\n",
    "    \n",
    "    ans = last_index(a[1:], num)\n",
    "    \n",
    "    if ans != -1:\n",
    "        return ans + 1\n",
    "    else:\n",
    "        if a[0] == num:\n",
    "            return 0\n",
    "        else:\n",
    "            return -1"
   ]
  },
  {
   "cell_type": "code",
   "execution_count": 77,
   "metadata": {},
   "outputs": [
    {
     "data": {
      "text/plain": [
       "11"
      ]
     },
     "execution_count": 77,
     "metadata": {},
     "output_type": "execute_result"
    }
   ],
   "source": [
    "last_index([1,2, 3, 4, 5, 6, 7, 5, 6, 8, 6, 7], 7)"
   ]
  },
  {
   "cell_type": "code",
   "execution_count": 72,
   "metadata": {},
   "outputs": [],
   "source": [
    "def last_index(a, x):\n",
    "    l = len(a)\n",
    "    if l == 0:\n",
    "        return -1\n",
    "    \n",
    "    smaller_list = a[1:]\n",
    "    smaller_list_output = last_index(smaller_list, x)\n",
    "    if smaller_list_output != -1:\n",
    "        return smaller_list_output + 1\n",
    "    else:\n",
    "        if a[0] == x:\n",
    "            return 0\n",
    "        else:\n",
    "            return -1"
   ]
  },
  {
   "cell_type": "code",
   "execution_count": 73,
   "metadata": {},
   "outputs": [
    {
     "data": {
      "text/plain": [
       "7"
      ]
     },
     "execution_count": 73,
     "metadata": {},
     "output_type": "execute_result"
    }
   ],
   "source": [
    "a = [1, 2, 3, 4, 5, 4, 6, 4, 7, 8]\n",
    "a_list = [1, 4, 5, 4, 8]\n",
    "x = 4\n",
    "last_index(a, x)"
   ]
  },
  {
   "cell_type": "code",
   "execution_count": 78,
   "metadata": {},
   "outputs": [],
   "source": [
    "def last_index_better(a, x, si):\n",
    "    l = len(a)\n",
    "    if si == l:\n",
    "        return -1\n",
    "    \n",
    "    smaller_list_output = last_index_better(a, x, si + 1)\n",
    "    if smaller_list_output != -1:\n",
    "        return smaller_list_output\n",
    "    else:\n",
    "        if a[si] == x:\n",
    "            return si\n",
    "        else:\n",
    "            return -1"
   ]
  },
  {
   "cell_type": "markdown",
   "metadata": {},
   "source": [
    "### more problems on recursion"
   ]
  },
  {
   "cell_type": "code",
   "execution_count": 111,
   "metadata": {},
   "outputs": [],
   "source": [
    "def replace_string(s, char1, char2):\n",
    "    l = len(s)\n",
    "    if l == 0:\n",
    "        return \"\"\n",
    "    \n",
    "    if s[0] == char1:\n",
    "        return char2 + replace_string(s[1:], char1, char2)\n",
    "    else:\n",
    "        return s[0] + replace_string(s[1:], char1, char2)\n",
    "    "
   ]
  },
  {
   "cell_type": "code",
   "execution_count": 112,
   "metadata": {},
   "outputs": [
    {
     "data": {
      "text/plain": [
       "'a$ibc$ida'"
      ]
     },
     "execution_count": 112,
     "metadata": {},
     "output_type": "execute_result"
    }
   ],
   "source": [
    "replace_string(\"apibcpida\", \"p\", \"$\")"
   ]
  },
  {
   "cell_type": "code",
   "execution_count": 113,
   "metadata": {},
   "outputs": [],
   "source": [
    "def replace_string_pi(s, char1, char2):\n",
    "    l = len(s)\n",
    "    if l == 0 or l == 1:\n",
    "        return s\n",
    "    \n",
    "    if s[0:2] == \"pi\":\n",
    "        return char2 + replace_string_pi(s[2:], char1, char2)\n",
    "    else:\n",
    "        return s[0] + replace_string_pi(s[1:], char1, char2)\n",
    "    "
   ]
  },
  {
   "cell_type": "code",
   "execution_count": 115,
   "metadata": {},
   "outputs": [
    {
     "data": {
      "text/plain": [
       "'a3.14bc3.14da'"
      ]
     },
     "execution_count": 115,
     "metadata": {},
     "output_type": "execute_result"
    }
   ],
   "source": [
    "replace_string_pi(\"apibcpida\", \"pi\", \"3.14\")"
   ]
  },
  {
   "cell_type": "markdown",
   "metadata": {},
   "source": [
    "### Binary Search Implemenation "
   ]
  },
  {
   "cell_type": "code",
   "execution_count": 136,
   "metadata": {},
   "outputs": [],
   "source": [
    "def binary_search(a, x, si, ei):\n",
    "    if si > ei:\n",
    "        return -1\n",
    "    \n",
    "    mid = (si + ei) // 2\n",
    "    \n",
    "    if a[mid] == x:\n",
    "        return mid\n",
    "    \n",
    "    elif a[mid] > x:\n",
    "        return binary_search(a, x, si, mid - 1)\n",
    "    else:\n",
    "        return binary_search(a, x, mid + 1, ei)"
   ]
  },
  {
   "cell_type": "code",
   "execution_count": 139,
   "metadata": {},
   "outputs": [
    {
     "data": {
      "text/plain": [
       "7"
      ]
     },
     "execution_count": 139,
     "metadata": {},
     "output_type": "execute_result"
    }
   ],
   "source": [
    "binary_search([1, 2, 3, 4, 5, 11, 12, 14, 17], 14, 0, 8)"
   ]
  },
  {
   "cell_type": "code",
   "execution_count": 140,
   "metadata": {},
   "outputs": [
    {
     "data": {
      "text/plain": [
       "-1"
      ]
     },
     "execution_count": 140,
     "metadata": {},
     "output_type": "execute_result"
    }
   ],
   "source": [
    "binary_search([1, 2, 3, 4, 5, 11, 12, 14, 17], 19, 0, 8)"
   ]
  },
  {
   "cell_type": "markdown",
   "metadata": {},
   "source": [
    "### Merge Sort"
   ]
  },
  {
   "cell_type": "code",
   "execution_count": 150,
   "metadata": {},
   "outputs": [],
   "source": [
    "def merge(a, a1, a2):\n",
    "    i = 0\n",
    "    j = 0\n",
    "    k = 0\n",
    "    \n",
    "    while i < len(a1) and j < len(a2):\n",
    "        if a1[i] < a2[j]:\n",
    "            a[k] = a1[i]\n",
    "            i += 1\n",
    "            k += 1\n",
    "        else:\n",
    "            a[k] = a2[j]\n",
    "            j += 1\n",
    "            k += 1\n",
    "    \n",
    "    while i < len(a1):\n",
    "        a[k] = a1[i]\n",
    "        i += 1\n",
    "        k += 1\n",
    "    \n",
    "    while j < len(a2):\n",
    "        a[k] = a2[j]\n",
    "        j += 1\n",
    "        k += 1"
   ]
  },
  {
   "cell_type": "code",
   "execution_count": 151,
   "metadata": {},
   "outputs": [],
   "source": [
    "def merge_sort(a):\n",
    "    if len(a) == 0 or len(a) == 1:\n",
    "        return \n",
    "    \n",
    "    \n",
    "    mid = len(a) // 2\n",
    "    a1 = a[:mid]\n",
    "    a2 = a[mid:]\n",
    "    \n",
    "    merge_sort(a1)\n",
    "    merge_sort(a2)\n",
    "    merge(a, a1, a2)"
   ]
  },
  {
   "cell_type": "code",
   "execution_count": 158,
   "metadata": {},
   "outputs": [],
   "source": [
    "a = [1, 2, 5, 4, 3, 8]"
   ]
  },
  {
   "cell_type": "code",
   "execution_count": 159,
   "metadata": {},
   "outputs": [],
   "source": [
    "merge_sort(a)"
   ]
  },
  {
   "cell_type": "code",
   "execution_count": 160,
   "metadata": {},
   "outputs": [
    {
     "data": {
      "text/plain": [
       "[1, 2, 3, 4, 5, 8]"
      ]
     },
     "execution_count": 160,
     "metadata": {},
     "output_type": "execute_result"
    }
   ],
   "source": [
    "a"
   ]
  },
  {
   "cell_type": "markdown",
   "metadata": {},
   "source": [
    "### Quick Sort"
   ]
  },
  {
   "cell_type": "code",
   "execution_count": 229,
   "metadata": {},
   "outputs": [],
   "source": [
    "def partition_index(a, si, ei):\n",
    "    pivot = a[ei]\n",
    "    \n",
    "    p_index = si - 1\n",
    "    for i in range(si , ei):\n",
    "        if a[i] <= pivot:\n",
    "            p_index += 1\n",
    "            \n",
    "            a[p_index], a[i]= a[i], a[p_index]\n",
    "    \n",
    "    a[p_index+1], a[ei] = a[ei], a[p_index+1]\n",
    "    return p_index + 1"
   ]
  },
  {
   "cell_type": "code",
   "execution_count": 230,
   "metadata": {},
   "outputs": [],
   "source": [
    "def quick_sort(a, si, ei):\n",
    "    if si < ei:\n",
    "        p_index = partition_index(a, si, ei)\n",
    "        quick_sort(a, si, p_index - 1)\n",
    "        quick_sort(a, p_index + 1, ei)"
   ]
  },
  {
   "cell_type": "code",
   "execution_count": 231,
   "metadata": {},
   "outputs": [],
   "source": [
    "a = [2, 1, 3, 5, 6, 8, 7]\n",
    "quick_sort(a, 0, len(a)-1)"
   ]
  },
  {
   "cell_type": "code",
   "execution_count": 232,
   "metadata": {},
   "outputs": [
    {
     "data": {
      "text/plain": [
       "[1, 2, 3, 5, 6, 7, 8]"
      ]
     },
     "execution_count": 232,
     "metadata": {},
     "output_type": "execute_result"
    }
   ],
   "source": [
    "a"
   ]
  },
  {
   "cell_type": "code",
   "execution_count": 235,
   "metadata": {},
   "outputs": [],
   "source": [
    "def toh(n, A, B, C):\n",
    "    \n",
    "    if n > 0:\n",
    "        toh(n - 1, A, C, B)\n",
    "        print(f\"move discs from {A} -> {C}\")\n",
    "        toh(n - 1, B, A, C)"
   ]
  },
  {
   "cell_type": "code",
   "execution_count": 236,
   "metadata": {},
   "outputs": [
    {
     "name": "stdout",
     "output_type": "stream",
     "text": [
      "move discs from A -> C\n",
      "move discs from A -> B\n",
      "move discs from C -> B\n",
      "move discs from A -> C\n",
      "move discs from B -> A\n",
      "move discs from B -> C\n",
      "move discs from A -> C\n"
     ]
    }
   ],
   "source": [
    "toh(3, \"A\", \"B\", \"C\")"
   ]
  },
  {
   "cell_type": "code",
   "execution_count": 3,
   "metadata": {},
   "outputs": [],
   "source": [
    "def tower_of_hanoi(n, s, h, d):\n",
    "    if n == 1:\n",
    "        print(f\"move 1st disk from {s}, to {d}\")\n",
    "        return\n",
    "    \n",
    "    tower_of_hanoi(n - 1, s, d, h)\n",
    "    print(f\"move {n} disk from {s} to {d}\")\n",
    "    tower_of_hanoi(n - 1, h, s, d)"
   ]
  },
  {
   "cell_type": "code",
   "execution_count": 5,
   "metadata": {},
   "outputs": [
    {
     "name": "stdout",
     "output_type": "stream",
     "text": [
      "move 1st disk from s, to h\n",
      "move 2 disk from s to d\n",
      "move 1st disk from h, to d\n",
      "move 3 disk from s to h\n",
      "move 1st disk from d, to s\n",
      "move 2 disk from d to h\n",
      "move 1st disk from s, to h\n",
      "move 4 disk from s to d\n",
      "move 1st disk from h, to d\n",
      "move 2 disk from h to s\n",
      "move 1st disk from d, to s\n",
      "move 3 disk from h to d\n",
      "move 1st disk from s, to h\n",
      "move 2 disk from s to d\n",
      "move 1st disk from h, to d\n"
     ]
    }
   ],
   "source": [
    "tower_of_hanoi(4, \"s\", \"h\", \"d\")"
   ]
  }
 ],
 "metadata": {
  "kernelspec": {
   "display_name": "Python 3",
   "language": "python",
   "name": "python3"
  },
  "language_info": {
   "codemirror_mode": {
    "name": "ipython",
    "version": 3
   },
   "file_extension": ".py",
   "mimetype": "text/x-python",
   "name": "python",
   "nbconvert_exporter": "python",
   "pygments_lexer": "ipython3",
   "version": "3.8.3"
  }
 },
 "nbformat": 4,
 "nbformat_minor": 4
}
